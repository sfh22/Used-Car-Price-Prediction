{
 "cells": [
  {
   "cell_type": "markdown",
   "id": "cloudy-december",
   "metadata": {
    "id": "cloudy-december"
   },
   "source": [
    "# MSBA 315 Assignment 5: Prediction of Used Cars Price"
   ]
  },
  {
   "cell_type": "markdown",
   "id": "constant-popularity",
   "metadata": {
    "id": "constant-popularity"
   },
   "source": [
    "# Importing the Necessary Libraries"
   ]
  },
  {
   "cell_type": "code",
   "execution_count": 10,
   "id": "entire-conversation",
   "metadata": {
    "id": "entire-conversation"
   },
   "outputs": [],
   "source": [
    "import warnings\n",
    "warnings.filterwarnings('ignore')\n",
    "\n",
    "import os\n",
    "import pandas as pd\n",
    "import numpy as np\n",
    "import seaborn as sns\n",
    "import matplotlib.pyplot as plt\n",
    "import pickle\n",
    "\n",
    "import sklearn\n",
    "from sklearn.preprocessing import OneHotEncoder\n",
    "from sklearn.preprocessing import OrdinalEncoder\n",
    "from sklearn.preprocessing import StandardScaler\n",
    "from sklearn.preprocessing import MinMaxScaler\n",
    "from sklearn.preprocessing import Normalizer\n",
    "from sklearn.preprocessing import RobustScaler\n",
    "from sklearn.preprocessing import PowerTransformer\n",
    "from sklearn.preprocessing import FunctionTransformer\n",
    "\n",
    "from sklearn.model_selection import train_test_split\n",
    "from sklearn.model_selection import cross_val_score\n",
    "from sklearn.model_selection import KFold\n",
    "from sklearn.model_selection import GridSearchCV\n",
    "\n",
    "from sklearn.feature_selection import RFECV\n",
    "from sklearn.pipeline import Pipeline\n",
    "from sklearn.impute import SimpleImputer\n",
    "from sklearn.compose import ColumnTransformer\n",
    "from sklearn.metrics import mean_squared_error\n",
    "\n",
    "from sklearn.linear_model import LinearRegression\n",
    "from sklearn.svm import SVR\n",
    "from sklearn.tree import DecisionTreeRegressor\n",
    "from sklearn.ensemble import RandomForestRegressor\n",
    "from sklearn.ensemble import GradientBoostingRegressor"
   ]
  },
  {
   "cell_type": "markdown",
   "id": "intensive-youth",
   "metadata": {
    "id": "intensive-youth"
   },
   "source": [
    "# Loading the Datasets"
   ]
  },
  {
   "cell_type": "code",
   "execution_count": null,
   "id": "personalized-plain",
   "metadata": {
    "id": "personalized-plain"
   },
   "outputs": [],
   "source": [
    "os.chdir(r'C:\\Users\\samer\\OneDrive - American University of Beirut\\Desktop\\Assignment5')\n",
    "\n",
    "cars_train = pd.read_csv('cars_train.csv', encoding='utf8')"
   ]
  },
  {
   "cell_type": "code",
   "execution_count": null,
   "id": "discrete-differential",
   "metadata": {
    "colab": {
     "base_uri": "https://localhost:8080/"
    },
    "id": "discrete-differential",
    "outputId": "8787b2ee-9677-4a2e-a3b4-56863b816d22"
   },
   "outputs": [
    {
     "data": {
      "text/html": [
       "<div>\n",
       "<style scoped>\n",
       "    .dataframe tbody tr th:only-of-type {\n",
       "        vertical-align: middle;\n",
       "    }\n",
       "\n",
       "    .dataframe tbody tr th {\n",
       "        vertical-align: top;\n",
       "    }\n",
       "\n",
       "    .dataframe thead th {\n",
       "        text-align: right;\n",
       "    }\n",
       "</style>\n",
       "<table border=\"1\" class=\"dataframe\">\n",
       "  <thead>\n",
       "    <tr style=\"text-align: right;\">\n",
       "      <th></th>\n",
       "      <th>id</th>\n",
       "      <th>region</th>\n",
       "      <th>price</th>\n",
       "      <th>year</th>\n",
       "      <th>manufacturer</th>\n",
       "      <th>model</th>\n",
       "      <th>condition</th>\n",
       "      <th>cylinders</th>\n",
       "      <th>fuel</th>\n",
       "      <th>odometer</th>\n",
       "      <th>transmission</th>\n",
       "      <th>drive</th>\n",
       "      <th>type</th>\n",
       "      <th>paint_color</th>\n",
       "      <th>state</th>\n",
       "      <th>lat</th>\n",
       "      <th>long</th>\n",
       "      <th>posting_date</th>\n",
       "    </tr>\n",
       "  </thead>\n",
       "  <tbody>\n",
       "    <tr>\n",
       "      <th>0</th>\n",
       "      <td>7226069143</td>\n",
       "      <td>indianapolis</td>\n",
       "      <td>3495</td>\n",
       "      <td>2005.0</td>\n",
       "      <td>lincoln</td>\n",
       "      <td>lse</td>\n",
       "      <td>good</td>\n",
       "      <td>8 cylinders</td>\n",
       "      <td>gas</td>\n",
       "      <td>181000.0</td>\n",
       "      <td>automatic</td>\n",
       "      <td>rwd</td>\n",
       "      <td>sedan</td>\n",
       "      <td>silver</td>\n",
       "      <td>in</td>\n",
       "      <td>39.640500</td>\n",
       "      <td>-86.311800</td>\n",
       "      <td>2020-11-05T16:19:56-0500</td>\n",
       "    </tr>\n",
       "    <tr>\n",
       "      <th>1</th>\n",
       "      <td>7233322668</td>\n",
       "      <td>medford-ashland</td>\n",
       "      <td>11995</td>\n",
       "      <td>2011.0</td>\n",
       "      <td>subaru</td>\n",
       "      <td>impreza</td>\n",
       "      <td>good</td>\n",
       "      <td>4 cylinders</td>\n",
       "      <td>gas</td>\n",
       "      <td>69408.0</td>\n",
       "      <td>automatic</td>\n",
       "      <td>4wd</td>\n",
       "      <td>wagon</td>\n",
       "      <td>blue</td>\n",
       "      <td>or</td>\n",
       "      <td>45.524894</td>\n",
       "      <td>-122.656061</td>\n",
       "      <td>2020-11-18T15:45:51-0800</td>\n",
       "    </tr>\n",
       "    <tr>\n",
       "      <th>2</th>\n",
       "      <td>7239134076</td>\n",
       "      <td>austin</td>\n",
       "      <td>68990</td>\n",
       "      <td>2016.0</td>\n",
       "      <td>porsche</td>\n",
       "      <td>cayman gts coupe 2d</td>\n",
       "      <td>good</td>\n",
       "      <td>NaN</td>\n",
       "      <td>gas</td>\n",
       "      <td>7923.0</td>\n",
       "      <td>automatic</td>\n",
       "      <td>rwd</td>\n",
       "      <td>coupe</td>\n",
       "      <td>red</td>\n",
       "      <td>tx</td>\n",
       "      <td>30.260000</td>\n",
       "      <td>-97.740000</td>\n",
       "      <td>2020-11-30T02:13:53-0600</td>\n",
       "    </tr>\n",
       "    <tr>\n",
       "      <th>3</th>\n",
       "      <td>7238509078</td>\n",
       "      <td>hawaii</td>\n",
       "      <td>17900</td>\n",
       "      <td>2011.0</td>\n",
       "      <td>bmw</td>\n",
       "      <td>535i</td>\n",
       "      <td>NaN</td>\n",
       "      <td>NaN</td>\n",
       "      <td>gas</td>\n",
       "      <td>50193.0</td>\n",
       "      <td>automatic</td>\n",
       "      <td>NaN</td>\n",
       "      <td>sedan</td>\n",
       "      <td>black</td>\n",
       "      <td>hi</td>\n",
       "      <td>21.293854</td>\n",
       "      <td>-157.837158</td>\n",
       "      <td>2020-11-28T13:57:30-1000</td>\n",
       "    </tr>\n",
       "    <tr>\n",
       "      <th>4</th>\n",
       "      <td>7236364831</td>\n",
       "      <td>daytona beach</td>\n",
       "      <td>9500</td>\n",
       "      <td>2006.0</td>\n",
       "      <td>NaN</td>\n",
       "      <td>mazada miata</td>\n",
       "      <td>excellent</td>\n",
       "      <td>4 cylinders</td>\n",
       "      <td>gas</td>\n",
       "      <td>52864.0</td>\n",
       "      <td>automatic</td>\n",
       "      <td>rwd</td>\n",
       "      <td>convertible</td>\n",
       "      <td>blue</td>\n",
       "      <td>fl</td>\n",
       "      <td>29.172023</td>\n",
       "      <td>-81.027367</td>\n",
       "      <td>2020-11-24T12:48:43-0500</td>\n",
       "    </tr>\n",
       "  </tbody>\n",
       "</table>\n",
       "</div>"
      ],
      "text/plain": [
       "           id           region  price    year manufacturer  \\\n",
       "0  7226069143     indianapolis   3495  2005.0      lincoln   \n",
       "1  7233322668  medford-ashland  11995  2011.0       subaru   \n",
       "2  7239134076           austin  68990  2016.0      porsche   \n",
       "3  7238509078           hawaii  17900  2011.0          bmw   \n",
       "4  7236364831    daytona beach   9500  2006.0          NaN   \n",
       "\n",
       "                 model  condition    cylinders fuel  odometer transmission  \\\n",
       "0                  lse       good  8 cylinders  gas  181000.0    automatic   \n",
       "1              impreza       good  4 cylinders  gas   69408.0    automatic   \n",
       "2  cayman gts coupe 2d       good          NaN  gas    7923.0    automatic   \n",
       "3                 535i        NaN          NaN  gas   50193.0    automatic   \n",
       "4         mazada miata  excellent  4 cylinders  gas   52864.0    automatic   \n",
       "\n",
       "  drive         type paint_color state        lat        long  \\\n",
       "0   rwd        sedan      silver    in  39.640500  -86.311800   \n",
       "1   4wd        wagon        blue    or  45.524894 -122.656061   \n",
       "2   rwd        coupe         red    tx  30.260000  -97.740000   \n",
       "3   NaN        sedan       black    hi  21.293854 -157.837158   \n",
       "4   rwd  convertible        blue    fl  29.172023  -81.027367   \n",
       "\n",
       "               posting_date  \n",
       "0  2020-11-05T16:19:56-0500  \n",
       "1  2020-11-18T15:45:51-0800  \n",
       "2  2020-11-30T02:13:53-0600  \n",
       "3  2020-11-28T13:57:30-1000  \n",
       "4  2020-11-24T12:48:43-0500  "
      ]
     },
     "execution_count": 3,
     "metadata": {
      "tags": []
     },
     "output_type": "execute_result"
    }
   ],
   "source": [
    "cars_train.head()"
   ]
  },
  {
   "cell_type": "code",
   "execution_count": null,
   "id": "organizational-filing",
   "metadata": {
    "colab": {
     "base_uri": "https://localhost:8080/"
    },
    "id": "organizational-filing",
    "outputId": "38cc701e-9577-4392-d1c4-f8350edd6c99"
   },
   "outputs": [
    {
     "name": "stdout",
     "output_type": "stream",
     "text": [
      "The training dataset has 320749 rows and 18 columns\n"
     ]
    }
   ],
   "source": [
    "print('The training dataset has {} rows and {} columns'.format(cars_train.shape[0], cars_train.shape[1]))"
   ]
  },
  {
   "cell_type": "markdown",
   "id": "lucky-staff",
   "metadata": {
    "id": "lucky-staff"
   },
   "source": [
    "# Discovering the Datasets"
   ]
  },
  {
   "cell_type": "code",
   "execution_count": null,
   "id": "standard-pound",
   "metadata": {
    "colab": {
     "base_uri": "https://localhost:8080/"
    },
    "id": "standard-pound",
    "outputId": "a29d9a3e-7454-4150-f515-6e1c5dc79074"
   },
   "outputs": [
    {
     "name": "stdout",
     "output_type": "stream",
     "text": [
      "<class 'pandas.core.frame.DataFrame'>\n",
      "RangeIndex: 320749 entries, 0 to 320748\n",
      "Data columns (total 18 columns):\n",
      " #   Column        Non-Null Count   Dtype  \n",
      "---  ------        --------------   -----  \n",
      " 0   id            320749 non-null  int64  \n",
      " 1   region        320749 non-null  object \n",
      " 2   price         320749 non-null  int64  \n",
      " 3   year          320006 non-null  float64\n",
      " 4   manufacturer  308004 non-null  object \n",
      " 5   model         317348 non-null  object \n",
      " 6   condition     185823 non-null  object \n",
      " 7   cylinders     200831 non-null  object \n",
      " 8   fuel          318505 non-null  object \n",
      " 9   odometer      281926 non-null  float64\n",
      " 10  transmission  319039 non-null  object \n",
      " 11  drive         226666 non-null  object \n",
      " 12  type          241851 non-null  object \n",
      " 13  paint_color   222189 non-null  object \n",
      " 14  state         320749 non-null  object \n",
      " 15  lat           315562 non-null  float64\n",
      " 16  long          315562 non-null  float64\n",
      " 17  posting_date  320730 non-null  object \n",
      "dtypes: float64(4), int64(2), object(12)\n",
      "memory usage: 44.0+ MB\n",
      "None\n"
     ]
    }
   ],
   "source": [
    "print(cars_train.info())"
   ]
  },
  {
   "cell_type": "code",
   "execution_count": null,
   "id": "ignored-missile",
   "metadata": {
    "id": "ignored-missile"
   },
   "outputs": [],
   "source": [
    "cars_train[\"region\"] = cars_train[\"region\"].astype(\"category\")\n",
    "cars_train[\"manufacturer\"] = cars_train[\"manufacturer\"].astype(\"category\")\n",
    "cars_train[\"model\"] = cars_train[\"model\"].astype(\"category\")\n",
    "cars_train[\"condition\"] = cars_train[\"condition\"].astype(\"category\")\n",
    "cars_train[\"cylinders\"] = cars_train[\"cylinders\"].astype(\"category\")\n",
    "cars_train[\"fuel\"] = cars_train[\"fuel\"].astype(\"category\")\n",
    "cars_train[\"transmission\"] = cars_train[\"transmission\"].astype(\"category\")\n",
    "cars_train[\"drive\"] = cars_train[\"drive\"].astype(\"category\")\n",
    "cars_train[\"type\"] = cars_train[\"type\"].astype(\"category\")\n",
    "cars_train[\"paint_color\"] = cars_train[\"paint_color\"].astype(\"category\")\n",
    "cars_train[\"state\"] = cars_train[\"state\"].astype(\"category\")\n",
    "#cars_train['posting_date'] = pd.to_datetime(cars_train['posting_date'], errors='coerce')"
   ]
  },
  {
   "cell_type": "code",
   "execution_count": null,
   "id": "sustained-transcript",
   "metadata": {
    "colab": {
     "base_uri": "https://localhost:8080/"
    },
    "id": "sustained-transcript",
    "outputId": "97315ee9-5841-4502-bb11-6148f06f3471"
   },
   "outputs": [
    {
     "name": "stdout",
     "output_type": "stream",
     "text": [
      "The training dataset contains the following columns:\n",
      " ['id' 'region' 'price' 'year' 'manufacturer' 'model' 'condition'\n",
      " 'cylinders' 'fuel' 'odometer' 'transmission' 'drive' 'type' 'paint_color'\n",
      " 'state' 'lat' 'long' 'posting_date']\n"
     ]
    }
   ],
   "source": [
    "print('The training dataset contains the following columns:\\n {}'.format(cars_train.columns.values))"
   ]
  },
  {
   "cell_type": "code",
   "execution_count": null,
   "id": "electronic-motivation",
   "metadata": {
    "colab": {
     "base_uri": "https://localhost:8080/"
    },
    "id": "electronic-motivation",
    "outputId": "6d64fa54-d65f-43e0-aea9-26ee7f305d06"
   },
   "outputs": [
    {
     "data": {
      "text/html": [
       "<div>\n",
       "<style scoped>\n",
       "    .dataframe tbody tr th:only-of-type {\n",
       "        vertical-align: middle;\n",
       "    }\n",
       "\n",
       "    .dataframe tbody tr th {\n",
       "        vertical-align: top;\n",
       "    }\n",
       "\n",
       "    .dataframe thead th {\n",
       "        text-align: right;\n",
       "    }\n",
       "</style>\n",
       "<table border=\"1\" class=\"dataframe\">\n",
       "  <thead>\n",
       "    <tr style=\"text-align: right;\">\n",
       "      <th></th>\n",
       "      <th>id</th>\n",
       "      <th>price</th>\n",
       "      <th>year</th>\n",
       "      <th>odometer</th>\n",
       "      <th>lat</th>\n",
       "      <th>long</th>\n",
       "    </tr>\n",
       "  </thead>\n",
       "  <tbody>\n",
       "    <tr>\n",
       "      <th>count</th>\n",
       "      <td>3.207490e+05</td>\n",
       "      <td>3.207490e+05</td>\n",
       "      <td>320006.000000</td>\n",
       "      <td>2.819260e+05</td>\n",
       "      <td>315562.000000</td>\n",
       "      <td>315562.000000</td>\n",
       "    </tr>\n",
       "    <tr>\n",
       "      <th>mean</th>\n",
       "      <td>7.235234e+09</td>\n",
       "      <td>3.867085e+04</td>\n",
       "      <td>2010.740930</td>\n",
       "      <td>9.685220e+04</td>\n",
       "      <td>38.536585</td>\n",
       "      <td>-94.351229</td>\n",
       "    </tr>\n",
       "    <tr>\n",
       "      <th>std</th>\n",
       "      <td>4.591287e+06</td>\n",
       "      <td>7.418730e+06</td>\n",
       "      <td>8.858039</td>\n",
       "      <td>2.739514e+05</td>\n",
       "      <td>5.853855</td>\n",
       "      <td>18.060558</td>\n",
       "    </tr>\n",
       "    <tr>\n",
       "      <th>min</th>\n",
       "      <td>7.209028e+09</td>\n",
       "      <td>0.000000e+00</td>\n",
       "      <td>1900.000000</td>\n",
       "      <td>0.000000e+00</td>\n",
       "      <td>-79.809640</td>\n",
       "      <td>-159.713745</td>\n",
       "    </tr>\n",
       "    <tr>\n",
       "      <th>25%</th>\n",
       "      <td>7.231955e+09</td>\n",
       "      <td>4.900000e+03</td>\n",
       "      <td>2008.000000</td>\n",
       "      <td>4.093500e+04</td>\n",
       "      <td>34.606000</td>\n",
       "      <td>-110.866049</td>\n",
       "    </tr>\n",
       "    <tr>\n",
       "      <th>50%</th>\n",
       "      <td>7.236410e+09</td>\n",
       "      <td>1.099500e+04</td>\n",
       "      <td>2013.000000</td>\n",
       "      <td>8.776700e+04</td>\n",
       "      <td>39.260000</td>\n",
       "      <td>-88.310560</td>\n",
       "    </tr>\n",
       "    <tr>\n",
       "      <th>75%</th>\n",
       "      <td>7.239315e+09</td>\n",
       "      <td>2.149500e+04</td>\n",
       "      <td>2016.000000</td>\n",
       "      <td>1.340000e+05</td>\n",
       "      <td>42.484503</td>\n",
       "      <td>-81.024100</td>\n",
       "    </tr>\n",
       "    <tr>\n",
       "      <th>max</th>\n",
       "      <td>7.241019e+09</td>\n",
       "      <td>2.857993e+09</td>\n",
       "      <td>2021.000000</td>\n",
       "      <td>1.234598e+08</td>\n",
       "      <td>76.781734</td>\n",
       "      <td>150.898969</td>\n",
       "    </tr>\n",
       "  </tbody>\n",
       "</table>\n",
       "</div>"
      ],
      "text/plain": [
       "                 id         price           year      odometer            lat  \\\n",
       "count  3.207490e+05  3.207490e+05  320006.000000  2.819260e+05  315562.000000   \n",
       "mean   7.235234e+09  3.867085e+04    2010.740930  9.685220e+04      38.536585   \n",
       "std    4.591287e+06  7.418730e+06       8.858039  2.739514e+05       5.853855   \n",
       "min    7.209028e+09  0.000000e+00    1900.000000  0.000000e+00     -79.809640   \n",
       "25%    7.231955e+09  4.900000e+03    2008.000000  4.093500e+04      34.606000   \n",
       "50%    7.236410e+09  1.099500e+04    2013.000000  8.776700e+04      39.260000   \n",
       "75%    7.239315e+09  2.149500e+04    2016.000000  1.340000e+05      42.484503   \n",
       "max    7.241019e+09  2.857993e+09    2021.000000  1.234598e+08      76.781734   \n",
       "\n",
       "                long  \n",
       "count  315562.000000  \n",
       "mean      -94.351229  \n",
       "std        18.060558  \n",
       "min      -159.713745  \n",
       "25%      -110.866049  \n",
       "50%       -88.310560  \n",
       "75%       -81.024100  \n",
       "max       150.898969  "
      ]
     },
     "execution_count": 8,
     "metadata": {
      "tags": []
     },
     "output_type": "execute_result"
    }
   ],
   "source": [
    "cars_train.describe(include=['number'])"
   ]
  },
  {
   "cell_type": "code",
   "execution_count": null,
   "id": "dynamic-gospel",
   "metadata": {
    "colab": {
     "base_uri": "https://localhost:8080/"
    },
    "id": "dynamic-gospel",
    "outputId": "8c2561bc-28a1-48b7-cc5f-7748710fa2bc"
   },
   "outputs": [
    {
     "data": {
      "text/html": [
       "<div>\n",
       "<style scoped>\n",
       "    .dataframe tbody tr th:only-of-type {\n",
       "        vertical-align: middle;\n",
       "    }\n",
       "\n",
       "    .dataframe tbody tr th {\n",
       "        vertical-align: top;\n",
       "    }\n",
       "\n",
       "    .dataframe thead th {\n",
       "        text-align: right;\n",
       "    }\n",
       "</style>\n",
       "<table border=\"1\" class=\"dataframe\">\n",
       "  <thead>\n",
       "    <tr style=\"text-align: right;\">\n",
       "      <th></th>\n",
       "      <th>region</th>\n",
       "      <th>manufacturer</th>\n",
       "      <th>model</th>\n",
       "      <th>condition</th>\n",
       "      <th>cylinders</th>\n",
       "      <th>fuel</th>\n",
       "      <th>transmission</th>\n",
       "      <th>drive</th>\n",
       "      <th>type</th>\n",
       "      <th>paint_color</th>\n",
       "      <th>state</th>\n",
       "    </tr>\n",
       "  </thead>\n",
       "  <tbody>\n",
       "    <tr>\n",
       "      <th>count</th>\n",
       "      <td>320749</td>\n",
       "      <td>308004</td>\n",
       "      <td>317348</td>\n",
       "      <td>185823</td>\n",
       "      <td>200831</td>\n",
       "      <td>318505</td>\n",
       "      <td>319039</td>\n",
       "      <td>226666</td>\n",
       "      <td>241851</td>\n",
       "      <td>222189</td>\n",
       "      <td>320749</td>\n",
       "    </tr>\n",
       "    <tr>\n",
       "      <th>unique</th>\n",
       "      <td>405</td>\n",
       "      <td>43</td>\n",
       "      <td>25970</td>\n",
       "      <td>6</td>\n",
       "      <td>8</td>\n",
       "      <td>5</td>\n",
       "      <td>3</td>\n",
       "      <td>3</td>\n",
       "      <td>13</td>\n",
       "      <td>12</td>\n",
       "      <td>51</td>\n",
       "    </tr>\n",
       "    <tr>\n",
       "      <th>top</th>\n",
       "      <td>columbus</td>\n",
       "      <td>ford</td>\n",
       "      <td>f-150</td>\n",
       "      <td>good</td>\n",
       "      <td>6 cylinders</td>\n",
       "      <td>gas</td>\n",
       "      <td>automatic</td>\n",
       "      <td>4wd</td>\n",
       "      <td>sedan</td>\n",
       "      <td>white</td>\n",
       "      <td>ca</td>\n",
       "    </tr>\n",
       "    <tr>\n",
       "      <th>freq</th>\n",
       "      <td>2712</td>\n",
       "      <td>55793</td>\n",
       "      <td>5841</td>\n",
       "      <td>81099</td>\n",
       "      <td>74065</td>\n",
       "      <td>279660</td>\n",
       "      <td>277454</td>\n",
       "      <td>97765</td>\n",
       "      <td>64707</td>\n",
       "      <td>57891</td>\n",
       "      <td>36019</td>\n",
       "    </tr>\n",
       "  </tbody>\n",
       "</table>\n",
       "</div>"
      ],
      "text/plain": [
       "          region manufacturer   model condition    cylinders    fuel  \\\n",
       "count     320749       308004  317348    185823       200831  318505   \n",
       "unique       405           43   25970         6            8       5   \n",
       "top     columbus         ford   f-150      good  6 cylinders     gas   \n",
       "freq        2712        55793    5841     81099        74065  279660   \n",
       "\n",
       "       transmission   drive    type paint_color   state  \n",
       "count        319039  226666  241851      222189  320749  \n",
       "unique            3       3      13          12      51  \n",
       "top       automatic     4wd   sedan       white      ca  \n",
       "freq         277454   97765   64707       57891   36019  "
      ]
     },
     "execution_count": 9,
     "metadata": {
      "tags": []
     },
     "output_type": "execute_result"
    }
   ],
   "source": [
    "cars_train.describe(include=['category'])"
   ]
  },
  {
   "cell_type": "markdown",
   "id": "secure-garden",
   "metadata": {
    "id": "secure-garden"
   },
   "source": [
    "# 1. Baseline System"
   ]
  },
  {
   "cell_type": "markdown",
   "id": "consistent-exhibit",
   "metadata": {
    "id": "consistent-exhibit"
   },
   "source": [
    "## Preprocessing"
   ]
  },
  {
   "cell_type": "markdown",
   "id": "honest-williams",
   "metadata": {
    "id": "honest-williams"
   },
   "source": [
    "### Dropping Unecessary Variables"
   ]
  },
  {
   "cell_type": "code",
   "execution_count": null,
   "id": "cloudy-hostel",
   "metadata": {
    "id": "cloudy-hostel"
   },
   "outputs": [],
   "source": [
    "cars_train.drop(['id', 'state', 'region', 'lat', 'long', 'posting_date'], axis = 1, inplace = True)"
   ]
  },
  {
   "cell_type": "markdown",
   "id": "small-transfer",
   "metadata": {
    "id": "small-transfer"
   },
   "source": [
    "### Checking for Null Values"
   ]
  },
  {
   "cell_type": "code",
   "execution_count": null,
   "id": "aerial-director",
   "metadata": {
    "colab": {
     "base_uri": "https://localhost:8080/"
    },
    "id": "aerial-director",
    "outputId": "f43beaa5-b2c5-4727-c8ed-82665051c1a0"
   },
   "outputs": [
    {
     "name": "stdout",
     "output_type": "stream",
     "text": [
      "price                0\n",
      "year               743\n",
      "manufacturer     12745\n",
      "model             3401\n",
      "condition       134926\n",
      "cylinders       119918\n",
      "fuel              2244\n",
      "odometer         38823\n",
      "transmission      1710\n",
      "drive            94083\n",
      "type             78898\n",
      "paint_color      98560\n",
      "dtype: int64\n"
     ]
    }
   ],
   "source": [
    "print(cars_train.isnull().sum())"
   ]
  },
  {
   "cell_type": "markdown",
   "id": "important-speech",
   "metadata": {
    "id": "important-speech"
   },
   "source": [
    "#### In my opinion, rows which contain Null Year, Null Model, Null Fuel, Null Transmission and Null Manufacturer should be dropped"
   ]
  },
  {
   "cell_type": "code",
   "execution_count": null,
   "id": "minute-benjamin",
   "metadata": {
    "colab": {
     "base_uri": "https://localhost:8080/"
    },
    "id": "minute-benjamin",
    "outputId": "2506e3e7-e2c6-4147-e6b7-820c37720e0d"
   },
   "outputs": [
    {
     "name": "stdout",
     "output_type": "stream",
     "text": [
      "(301558, 12)\n"
     ]
    }
   ],
   "source": [
    "cars_train.dropna(subset=['year','manufacturer','model', 'fuel', 'transmission'], inplace=True)\n",
    "\n",
    "print(cars_train.shape)"
   ]
  },
  {
   "cell_type": "code",
   "execution_count": null,
   "id": "inner-billion",
   "metadata": {
    "colab": {
     "base_uri": "https://localhost:8080/"
    },
    "id": "inner-billion",
    "outputId": "89f261d6-e422-4a86-bae7-e5ea298ca795"
   },
   "outputs": [
    {
     "name": "stdout",
     "output_type": "stream",
     "text": [
      "(301558, 12)\n"
     ]
    }
   ],
   "source": [
    "cars_train['condition'].fillna((cars_train['condition'].mode()[0]),inplace=True)\n",
    "cars_train['cylinders'].fillna((cars_train['cylinders'].mode()[0]),inplace=True)\n",
    "cars_train['odometer'].fillna((cars_train['odometer'].mean()),inplace=True)\n",
    "cars_train['drive'].fillna((cars_train['drive'].mode()[0]),inplace=True)\n",
    "cars_train['type'].fillna((cars_train['type'].mode()[0]),inplace=True)\n",
    "cars_train['paint_color'].fillna((cars_train['paint_color'].mode()[0]),inplace=True)\n",
    "\n",
    "print(cars_train.shape)"
   ]
  },
  {
   "cell_type": "code",
   "execution_count": null,
   "id": "mechanical-morning",
   "metadata": {
    "colab": {
     "base_uri": "https://localhost:8080/"
    },
    "id": "mechanical-morning",
    "outputId": "da7574f3-6ffa-41a9-e469-c61f6d54ad2c"
   },
   "outputs": [
    {
     "name": "stdout",
     "output_type": "stream",
     "text": [
      "price           0\n",
      "year            0\n",
      "manufacturer    0\n",
      "model           0\n",
      "condition       0\n",
      "cylinders       0\n",
      "fuel            0\n",
      "odometer        0\n",
      "transmission    0\n",
      "drive           0\n",
      "type            0\n",
      "paint_color     0\n",
      "dtype: int64\n"
     ]
    }
   ],
   "source": [
    "print(cars_train.isnull().sum())"
   ]
  },
  {
   "cell_type": "markdown",
   "id": "going-defensive",
   "metadata": {
    "id": "going-defensive"
   },
   "source": [
    "### Removing Outliers"
   ]
  },
  {
   "cell_type": "code",
   "execution_count": null,
   "id": "going-letter",
   "metadata": {
    "colab": {
     "base_uri": "https://localhost:8080/"
    },
    "id": "going-letter",
    "outputId": "b3e21d58-0fa4-4b26-a74b-0d39cf3df8b2"
   },
   "outputs": [
    {
     "data": {
      "image/png": "[encoded data removed]",
      "text/plain": [
       "<Figure size 432x288 with 1 Axes>"
      ]
     },
     "metadata": {
      "needs_background": "light",
      "tags": []
     },
     "output_type": "display_data"
    }
   ],
   "source": [
    "plt.boxplot(cars_train['price'])\n",
    "plt.show()"
   ]
  },
  {
   "cell_type": "code",
   "execution_count": null,
   "id": "tested-belfast",
   "metadata": {
    "id": "tested-belfast"
   },
   "outputs": [],
   "source": [
    "def outlier(df,col):\n",
    "    q1,q3 = df[col].quantile(0.25),df[col].quantile(0.75)\n",
    "    iqr=q3-q1\n",
    "    lower_fence=q1-1.5*iqr\n",
    "    upper_fence=q3+1.5*iqr\n",
    "    outliers=[x for x in df[col] if x < lower_fence or x > upper_fence]\n",
    "    outliers_removed = df.loc[(df[col]> lower_fence) & (df[col] < upper_fence)]\n",
    "    return outliers_removed"
   ]
  },
  {
   "cell_type": "code",
   "execution_count": null,
   "id": "periodic-attention",
   "metadata": {
    "id": "periodic-attention"
   },
   "outputs": [],
   "source": [
    "cars_train=outlier(cars_train,'price')\n",
    "cars_train=outlier(cars_train,'odometer')"
   ]
  },
  {
   "cell_type": "code",
   "execution_count": null,
   "id": "legal-tenant",
   "metadata": {
    "colab": {
     "base_uri": "https://localhost:8080/"
    },
    "id": "legal-tenant",
    "outputId": "c82de34b-4314-4562-dfde-273750ab06ff"
   },
   "outputs": [
    {
     "data": {
      "image/png": "[encoded data removed]",
      "text/plain": [
       "<Figure size 432x288 with 1 Axes>"
      ]
     },
     "metadata": {
      "needs_background": "light",
      "tags": []
     },
     "output_type": "display_data"
    }
   ],
   "source": [
    "plt.boxplot(cars_train['price'])\n",
    "plt.show()"
   ]
  },
  {
   "cell_type": "markdown",
   "id": "understood-interference",
   "metadata": {
    "id": "understood-interference"
   },
   "source": [
    "### Selecting the Most Important Predictors"
   ]
  },
  {
   "cell_type": "code",
   "execution_count": null,
   "id": "incorporate-grocery",
   "metadata": {
    "id": "incorporate-grocery"
   },
   "outputs": [],
   "source": [
    "X = cars_train[['year', 'manufacturer', 'condition', 'odometer', 'model']]\n",
    "y = cars_train[['price']]"
   ]
  },
  {
   "cell_type": "markdown",
   "id": "natural-philosophy",
   "metadata": {
    "id": "natural-philosophy"
   },
   "source": [
    "### Splitting the Numerical and Categorical Features"
   ]
  },
  {
   "cell_type": "code",
   "execution_count": null,
   "id": "responsible-dakota",
   "metadata": {
    "id": "responsible-dakota"
   },
   "outputs": [],
   "source": [
    "X_num = X.select_dtypes(include=[np.number])\n",
    "X_cat = X.select_dtypes(exclude=[np.number])"
   ]
  },
  {
   "cell_type": "code",
   "execution_count": null,
   "id": "floating-profit",
   "metadata": {
    "colab": {
     "base_uri": "https://localhost:8080/"
    },
    "id": "floating-profit",
    "outputId": "8ec897ff-b003-4405-ad97-354d4e044d8d"
   },
   "outputs": [
    {
     "data": {
      "text/html": [
       "<div>\n",
       "<style scoped>\n",
       "    .dataframe tbody tr th:only-of-type {\n",
       "        vertical-align: middle;\n",
       "    }\n",
       "\n",
       "    .dataframe tbody tr th {\n",
       "        vertical-align: top;\n",
       "    }\n",
       "\n",
       "    .dataframe thead th {\n",
       "        text-align: right;\n",
       "    }\n",
       "</style>\n",
       "<table border=\"1\" class=\"dataframe\">\n",
       "  <thead>\n",
       "    <tr style=\"text-align: right;\">\n",
       "      <th></th>\n",
       "      <th>year</th>\n",
       "      <th>odometer</th>\n",
       "    </tr>\n",
       "  </thead>\n",
       "  <tbody>\n",
       "    <tr>\n",
       "      <th>0</th>\n",
       "      <td>2005.0</td>\n",
       "      <td>181000.000000</td>\n",
       "    </tr>\n",
       "    <tr>\n",
       "      <th>1</th>\n",
       "      <td>2011.0</td>\n",
       "      <td>69408.000000</td>\n",
       "    </tr>\n",
       "    <tr>\n",
       "      <th>3</th>\n",
       "      <td>2011.0</td>\n",
       "      <td>50193.000000</td>\n",
       "    </tr>\n",
       "    <tr>\n",
       "      <th>5</th>\n",
       "      <td>2008.0</td>\n",
       "      <td>96129.042601</td>\n",
       "    </tr>\n",
       "    <tr>\n",
       "      <th>6</th>\n",
       "      <td>2014.0</td>\n",
       "      <td>185000.000000</td>\n",
       "    </tr>\n",
       "  </tbody>\n",
       "</table>\n",
       "</div>"
      ],
      "text/plain": [
       "     year       odometer\n",
       "0  2005.0  181000.000000\n",
       "1  2011.0   69408.000000\n",
       "3  2011.0   50193.000000\n",
       "5  2008.0   96129.042601\n",
       "6  2014.0  185000.000000"
      ]
     },
     "execution_count": 21,
     "metadata": {
      "tags": []
     },
     "output_type": "execute_result"
    }
   ],
   "source": [
    "X_num.head()"
   ]
  },
  {
   "cell_type": "code",
   "execution_count": null,
   "id": "integral-rough",
   "metadata": {
    "colab": {
     "base_uri": "https://localhost:8080/"
    },
    "id": "integral-rough",
    "outputId": "76f66ea6-37fb-4046-a36b-6e3345f83e86"
   },
   "outputs": [
    {
     "data": {
      "text/html": [
       "<div>\n",
       "<style scoped>\n",
       "    .dataframe tbody tr th:only-of-type {\n",
       "        vertical-align: middle;\n",
       "    }\n",
       "\n",
       "    .dataframe tbody tr th {\n",
       "        vertical-align: top;\n",
       "    }\n",
       "\n",
       "    .dataframe thead th {\n",
       "        text-align: right;\n",
       "    }\n",
       "</style>\n",
       "<table border=\"1\" class=\"dataframe\">\n",
       "  <thead>\n",
       "    <tr style=\"text-align: right;\">\n",
       "      <th></th>\n",
       "      <th>manufacturer</th>\n",
       "      <th>condition</th>\n",
       "      <th>model</th>\n",
       "    </tr>\n",
       "  </thead>\n",
       "  <tbody>\n",
       "    <tr>\n",
       "      <th>0</th>\n",
       "      <td>lincoln</td>\n",
       "      <td>good</td>\n",
       "      <td>lse</td>\n",
       "    </tr>\n",
       "    <tr>\n",
       "      <th>1</th>\n",
       "      <td>subaru</td>\n",
       "      <td>good</td>\n",
       "      <td>impreza</td>\n",
       "    </tr>\n",
       "    <tr>\n",
       "      <th>3</th>\n",
       "      <td>bmw</td>\n",
       "      <td>good</td>\n",
       "      <td>535i</td>\n",
       "    </tr>\n",
       "    <tr>\n",
       "      <th>5</th>\n",
       "      <td>nissan</td>\n",
       "      <td>good</td>\n",
       "      <td>armada se</td>\n",
       "    </tr>\n",
       "    <tr>\n",
       "      <th>6</th>\n",
       "      <td>ford</td>\n",
       "      <td>good</td>\n",
       "      <td>f-350</td>\n",
       "    </tr>\n",
       "  </tbody>\n",
       "</table>\n",
       "</div>"
      ],
      "text/plain": [
       "  manufacturer condition      model\n",
       "0      lincoln      good        lse\n",
       "1       subaru      good    impreza\n",
       "3          bmw      good       535i\n",
       "5       nissan      good  armada se\n",
       "6         ford      good      f-350"
      ]
     },
     "execution_count": 22,
     "metadata": {
      "tags": []
     },
     "output_type": "execute_result"
    }
   ],
   "source": [
    "X_cat.head()"
   ]
  },
  {
   "cell_type": "markdown",
   "id": "offensive-preparation",
   "metadata": {
    "id": "offensive-preparation"
   },
   "source": [
    "### Ordinal Encoding"
   ]
  },
  {
   "cell_type": "code",
   "execution_count": null,
   "id": "developed-grass",
   "metadata": {
    "colab": {
     "base_uri": "https://localhost:8080/"
    },
    "id": "developed-grass",
    "outputId": "5aef108f-3376-4dce-eda8-2295805b238b"
   },
   "outputs": [
    {
     "data": {
      "text/html": [
       "<div>\n",
       "<style scoped>\n",
       "    .dataframe tbody tr th:only-of-type {\n",
       "        vertical-align: middle;\n",
       "    }\n",
       "\n",
       "    .dataframe tbody tr th {\n",
       "        vertical-align: top;\n",
       "    }\n",
       "\n",
       "    .dataframe thead th {\n",
       "        text-align: right;\n",
       "    }\n",
       "</style>\n",
       "<table border=\"1\" class=\"dataframe\">\n",
       "  <thead>\n",
       "    <tr style=\"text-align: right;\">\n",
       "      <th></th>\n",
       "      <th>manufacturer</th>\n",
       "      <th>condition</th>\n",
       "      <th>model</th>\n",
       "    </tr>\n",
       "  </thead>\n",
       "  <tbody>\n",
       "    <tr>\n",
       "      <th>0</th>\n",
       "      <td>24.0</td>\n",
       "      <td>2.0</td>\n",
       "      <td>11489.0</td>\n",
       "    </tr>\n",
       "    <tr>\n",
       "      <th>1</th>\n",
       "      <td>36.0</td>\n",
       "      <td>2.0</td>\n",
       "      <td>10556.0</td>\n",
       "    </tr>\n",
       "    <tr>\n",
       "      <th>2</th>\n",
       "      <td>4.0</td>\n",
       "      <td>2.0</td>\n",
       "      <td>1773.0</td>\n",
       "    </tr>\n",
       "    <tr>\n",
       "      <th>3</th>\n",
       "      <td>30.0</td>\n",
       "      <td>2.0</td>\n",
       "      <td>2808.0</td>\n",
       "    </tr>\n",
       "    <tr>\n",
       "      <th>4</th>\n",
       "      <td>13.0</td>\n",
       "      <td>2.0</td>\n",
       "      <td>8064.0</td>\n",
       "    </tr>\n",
       "    <tr>\n",
       "      <th>...</th>\n",
       "      <td>...</td>\n",
       "      <td>...</td>\n",
       "      <td>...</td>\n",
       "    </tr>\n",
       "    <tr>\n",
       "      <th>289574</th>\n",
       "      <td>13.0</td>\n",
       "      <td>0.0</td>\n",
       "      <td>13977.0</td>\n",
       "    </tr>\n",
       "    <tr>\n",
       "      <th>289575</th>\n",
       "      <td>18.0</td>\n",
       "      <td>0.0</td>\n",
       "      <td>13869.0</td>\n",
       "    </tr>\n",
       "    <tr>\n",
       "      <th>289576</th>\n",
       "      <td>33.0</td>\n",
       "      <td>2.0</td>\n",
       "      <td>177.0</td>\n",
       "    </tr>\n",
       "    <tr>\n",
       "      <th>289577</th>\n",
       "      <td>4.0</td>\n",
       "      <td>0.0</td>\n",
       "      <td>1048.0</td>\n",
       "    </tr>\n",
       "    <tr>\n",
       "      <th>289578</th>\n",
       "      <td>20.0</td>\n",
       "      <td>2.0</td>\n",
       "      <td>11339.0</td>\n",
       "    </tr>\n",
       "  </tbody>\n",
       "</table>\n",
       "<p>289579 rows × 3 columns</p>\n",
       "</div>"
      ],
      "text/plain": [
       "        manufacturer  condition    model\n",
       "0               24.0        2.0  11489.0\n",
       "1               36.0        2.0  10556.0\n",
       "2                4.0        2.0   1773.0\n",
       "3               30.0        2.0   2808.0\n",
       "4               13.0        2.0   8064.0\n",
       "...              ...        ...      ...\n",
       "289574          13.0        0.0  13977.0\n",
       "289575          18.0        0.0  13869.0\n",
       "289576          33.0        2.0    177.0\n",
       "289577           4.0        0.0   1048.0\n",
       "289578          20.0        2.0  11339.0\n",
       "\n",
       "[289579 rows x 3 columns]"
      ]
     },
     "execution_count": 23,
     "metadata": {
      "tags": []
     },
     "output_type": "execute_result"
    }
   ],
   "source": [
    "ordinal_encoder = OrdinalEncoder()\n",
    "\n",
    "X_cat_encoded = ordinal_encoder.fit_transform(X_cat)\n",
    "X_cat_encoded = pd.DataFrame(X_cat_encoded, columns = ['manufacturer', 'condition', 'model'])\n",
    "X_cat_encoded"
   ]
  },
  {
   "cell_type": "markdown",
   "id": "independent-scottish",
   "metadata": {
    "id": "independent-scottish"
   },
   "source": [
    "### Standard Scaler"
   ]
  },
  {
   "cell_type": "code",
   "execution_count": null,
   "id": "magnetic-meaning",
   "metadata": {
    "colab": {
     "base_uri": "https://localhost:8080/"
    },
    "id": "magnetic-meaning",
    "outputId": "7bffd3a8-c7b4-47a8-891c-8009c1460f88"
   },
   "outputs": [
    {
     "data": {
      "text/html": [
       "<div>\n",
       "<style scoped>\n",
       "    .dataframe tbody tr th:only-of-type {\n",
       "        vertical-align: middle;\n",
       "    }\n",
       "\n",
       "    .dataframe tbody tr th {\n",
       "        vertical-align: top;\n",
       "    }\n",
       "\n",
       "    .dataframe thead th {\n",
       "        text-align: right;\n",
       "    }\n",
       "</style>\n",
       "<table border=\"1\" class=\"dataframe\">\n",
       "  <thead>\n",
       "    <tr style=\"text-align: right;\">\n",
       "      <th></th>\n",
       "      <th>0</th>\n",
       "      <th>1</th>\n",
       "    </tr>\n",
       "  </thead>\n",
       "  <tbody>\n",
       "    <tr>\n",
       "      <th>0</th>\n",
       "      <td>-0.762139</td>\n",
       "      <td>1.640841</td>\n",
       "    </tr>\n",
       "    <tr>\n",
       "      <th>1</th>\n",
       "      <td>-0.007229</td>\n",
       "      <td>-0.422338</td>\n",
       "    </tr>\n",
       "    <tr>\n",
       "      <th>2</th>\n",
       "      <td>-0.007229</td>\n",
       "      <td>-0.777596</td>\n",
       "    </tr>\n",
       "    <tr>\n",
       "      <th>3</th>\n",
       "      <td>-0.384684</td>\n",
       "      <td>0.071697</td>\n",
       "    </tr>\n",
       "    <tr>\n",
       "      <th>4</th>\n",
       "      <td>0.370225</td>\n",
       "      <td>1.714795</td>\n",
       "    </tr>\n",
       "    <tr>\n",
       "      <th>...</th>\n",
       "      <td>...</td>\n",
       "      <td>...</td>\n",
       "    </tr>\n",
       "    <tr>\n",
       "      <th>289574</th>\n",
       "      <td>-0.384684</td>\n",
       "      <td>0.677641</td>\n",
       "    </tr>\n",
       "    <tr>\n",
       "      <th>289575</th>\n",
       "      <td>0.621862</td>\n",
       "      <td>-0.854989</td>\n",
       "    </tr>\n",
       "    <tr>\n",
       "      <th>289576</th>\n",
       "      <td>0.747680</td>\n",
       "      <td>-0.931051</td>\n",
       "    </tr>\n",
       "    <tr>\n",
       "      <th>289577</th>\n",
       "      <td>-1.139594</td>\n",
       "      <td>0.071697</td>\n",
       "    </tr>\n",
       "    <tr>\n",
       "      <th>289578</th>\n",
       "      <td>-0.762139</td>\n",
       "      <td>0.071697</td>\n",
       "    </tr>\n",
       "  </tbody>\n",
       "</table>\n",
       "<p>289579 rows × 2 columns</p>\n",
       "</div>"
      ],
      "text/plain": [
       "               0         1\n",
       "0      -0.762139  1.640841\n",
       "1      -0.007229 -0.422338\n",
       "2      -0.007229 -0.777596\n",
       "3      -0.384684  0.071697\n",
       "4       0.370225  1.714795\n",
       "...          ...       ...\n",
       "289574 -0.384684  0.677641\n",
       "289575  0.621862 -0.854989\n",
       "289576  0.747680 -0.931051\n",
       "289577 -1.139594  0.071697\n",
       "289578 -0.762139  0.071697\n",
       "\n",
       "[289579 rows x 2 columns]"
      ]
     },
     "execution_count": 24,
     "metadata": {
      "tags": []
     },
     "output_type": "execute_result"
    }
   ],
   "source": [
    "X_num_scaled = StandardScaler().fit_transform(X_num)\n",
    "X_num_scaled = pd.DataFrame(X_num_scaled)\n",
    "X_num_scaled"
   ]
  },
  {
   "cell_type": "markdown",
   "id": "antique-executive",
   "metadata": {
    "id": "antique-executive"
   },
   "source": [
    "### Concatinating"
   ]
  },
  {
   "cell_type": "code",
   "execution_count": null,
   "id": "dying-milwaukee",
   "metadata": {
    "colab": {
     "base_uri": "https://localhost:8080/"
    },
    "id": "dying-milwaukee",
    "outputId": "8196f797-833b-4927-a91a-29f3494f71c3"
   },
   "outputs": [
    {
     "data": {
      "text/plain": [
       "(289579, 5)"
      ]
     },
     "execution_count": 25,
     "metadata": {
      "tags": []
     },
     "output_type": "execute_result"
    }
   ],
   "source": [
    "X_prepared = pd.concat([X_cat_encoded, X_num_scaled], axis=1).reindex(X_cat_encoded.index)\n",
    "\n",
    "X_prepared.shape"
   ]
  },
  {
   "cell_type": "markdown",
   "id": "organic-pillow",
   "metadata": {
    "id": "organic-pillow"
   },
   "source": [
    "### Buidling the Model and Calculating Score"
   ]
  },
  {
   "cell_type": "code",
   "execution_count": null,
   "id": "removed-bandwidth",
   "metadata": {
    "id": "removed-bandwidth"
   },
   "outputs": [],
   "source": [
    "baseline = LinearRegression()\n",
    "cv = KFold(n_splits=10, random_state=1, shuffle=True)\n",
    "\n",
    "baseline_cv_error = np.sqrt(-cross_val_score(baseline, X_prepared, y, cv=cv, scoring='neg_mean_squared_error'))\n",
    "\n",
    "baseline_cv_error_mean = baseline_cv_error.mean()\n",
    "baseline_cv_error_std = baseline_cv_error.std()"
   ]
  },
  {
   "cell_type": "code",
   "execution_count": null,
   "id": "frequent-atlanta",
   "metadata": {
    "colab": {
     "base_uri": "https://localhost:8080/"
    },
    "id": "frequent-atlanta",
    "outputId": "955e95b2-5222-4cf6-961f-a85a591a71c9"
   },
   "outputs": [
    {
     "name": "stdout",
     "output_type": "stream",
     "text": [
      "The RMSE Mean Score is:  9771.017252315372\n",
      "The RMSE Std Value is:  32.04628117110106\n"
     ]
    }
   ],
   "source": [
    "print('The RMSE Mean Score is: ', baseline_cv_error_mean)\n",
    "print('The RMSE Std Value is: ', baseline_cv_error_std)"
   ]
  },
  {
   "cell_type": "markdown",
   "id": "younger-dutch",
   "metadata": {
    "id": "younger-dutch"
   },
   "source": [
    "# 2. Feature Engineering"
   ]
  },
  {
   "cell_type": "code",
   "execution_count": 12,
   "id": "elementary-trick",
   "metadata": {
    "id": "elementary-trick"
   },
   "outputs": [],
   "source": [
    "os.chdir(r'C:\\Users\\samer\\OneDrive - American University of Beirut\\Desktop\\Assignment5')\n",
    "cars_train_2 = pd.read_csv('cars_train.csv', encoding='utf8')"
   ]
  },
  {
   "cell_type": "markdown",
   "id": "periodic-expense",
   "metadata": {
    "id": "periodic-expense"
   },
   "source": [
    "## Dropping Unecessary Variables"
   ]
  },
  {
   "cell_type": "code",
   "execution_count": 13,
   "id": "instant-massage",
   "metadata": {
    "id": "instant-massage"
   },
   "outputs": [],
   "source": [
    "cars_train_2.drop(['id', 'state', 'region', 'lat', 'long', 'posting_date'], axis = 1, inplace = True)"
   ]
  },
  {
   "cell_type": "markdown",
   "id": "dominant-accuracy",
   "metadata": {
    "id": "dominant-accuracy"
   },
   "source": [
    "## Checking for Null Values"
   ]
  },
  {
   "cell_type": "code",
   "execution_count": 14,
   "id": "veterinary-freedom",
   "metadata": {
    "colab": {
     "base_uri": "https://localhost:8080/"
    },
    "id": "veterinary-freedom",
    "outputId": "3f3c9cec-f9bb-49f8-e352-c32eede87c68"
   },
   "outputs": [
    {
     "name": "stdout",
     "output_type": "stream",
     "text": [
      "price                0\n",
      "year               743\n",
      "manufacturer     12745\n",
      "model             3401\n",
      "condition       134926\n",
      "cylinders       119918\n",
      "fuel              2244\n",
      "odometer         38823\n",
      "transmission      1710\n",
      "drive            94083\n",
      "type             78898\n",
      "paint_color      98560\n",
      "dtype: int64\n"
     ]
    }
   ],
   "source": [
    "print(cars_train_2.isnull().sum())"
   ]
  },
  {
   "cell_type": "markdown",
   "id": "imposed-insurance",
   "metadata": {
    "id": "imposed-insurance"
   },
   "source": [
    "#### In my opinion, rows which contain Null Year, Null Model, Null Fuel, Null Transmission and Null Manufacturer should be dropped"
   ]
  },
  {
   "cell_type": "code",
   "execution_count": 15,
   "id": "broad-editing",
   "metadata": {
    "colab": {
     "base_uri": "https://localhost:8080/"
    },
    "id": "broad-editing",
    "outputId": "42c21632-e00a-4982-95b1-5ab4644bb847"
   },
   "outputs": [
    {
     "name": "stdout",
     "output_type": "stream",
     "text": [
      "(301558, 12)\n"
     ]
    }
   ],
   "source": [
    "cars_train_2.dropna(subset=['year','manufacturer','model', 'fuel', 'transmission'], inplace=True)\n",
    "\n",
    "print(cars_train_2.shape)"
   ]
  },
  {
   "cell_type": "code",
   "execution_count": null,
   "id": "aging-pacific",
   "metadata": {
    "colab": {
     "base_uri": "https://localhost:8080/"
    },
    "id": "aging-pacific",
    "outputId": "1b5c9944-3f02-4db7-b744-15008b4eaa5e"
   },
   "outputs": [
    {
     "name": "stdout",
     "output_type": "stream",
     "text": [
      "price                0\n",
      "year                 0\n",
      "manufacturer         0\n",
      "model                0\n",
      "condition       124674\n",
      "cylinders       109954\n",
      "fuel                 0\n",
      "odometer         33794\n",
      "transmission         0\n",
      "drive            85251\n",
      "type             71166\n",
      "paint_color      90558\n",
      "dtype: int64\n"
     ]
    }
   ],
   "source": [
    "print(cars_train_2.isnull().sum())"
   ]
  },
  {
   "cell_type": "markdown",
   "id": "premier-costume",
   "metadata": {
    "id": "premier-costume"
   },
   "source": [
    "## Replacing Null Values"
   ]
  },
  {
   "cell_type": "markdown",
   "id": "optimum-delay",
   "metadata": {
    "id": "optimum-delay"
   },
   "source": [
    "#### We are going to replace Null values based on the mode of the variable grouped by reltated variables"
   ]
  },
  {
   "cell_type": "code",
   "execution_count": null,
   "id": "running-shark",
   "metadata": {
    "id": "running-shark"
   },
   "outputs": [],
   "source": [
    "cars_train_2['cylinders'] = cars_train_2.groupby(['model'])['cylinders'].apply(lambda x: x.fillna(next(iter(x.mode()), np.nan)))\n",
    "\n",
    "cars_train_2['condition'] = cars_train_2.groupby(['year'])['condition'].apply(lambda x: x.fillna(next(iter(x.mode()), np.nan)))\n",
    "\n",
    "cars_train_2['odometer'] = cars_train_2.groupby(['condition'])['odometer'].apply(lambda x: x.fillna(x.mean()))\n",
    "\n",
    "cars_train_2['drive'] = cars_train_2.groupby(['model'])['drive'].apply(lambda x: x.fillna(next(iter(x.mode()), np.nan)))\n",
    "\n",
    "cars_train_2['type'] = cars_train_2.groupby(['model'])['type'].apply(lambda x: x.fillna(next(iter(x.mode()), np.nan)))\n",
    "\n",
    "cars_train_2['paint_color'] = cars_train_2.groupby(['type'])['paint_color'].apply(lambda x: x.fillna(next(iter(x.mode()), np.nan)))"
   ]
  },
  {
   "cell_type": "code",
   "execution_count": null,
   "id": "uniform-teens",
   "metadata": {
    "colab": {
     "base_uri": "https://localhost:8080/"
    },
    "id": "uniform-teens",
    "outputId": "f7ad3609-5874-4d25-b69a-d1eeef3438ce"
   },
   "outputs": [
    {
     "name": "stdout",
     "output_type": "stream",
     "text": [
      "price               0\n",
      "year                0\n",
      "manufacturer        0\n",
      "model               0\n",
      "condition           2\n",
      "cylinders       15119\n",
      "fuel                0\n",
      "odometer            2\n",
      "transmission        0\n",
      "drive            8968\n",
      "type             5119\n",
      "paint_color      5119\n",
      "dtype: int64\n"
     ]
    }
   ],
   "source": [
    "print(cars_train_2.isnull().sum())"
   ]
  },
  {
   "cell_type": "code",
   "execution_count": null,
   "id": "entertaining-treasurer",
   "metadata": {
    "id": "entertaining-treasurer"
   },
   "outputs": [],
   "source": [
    "cars_train_2['cylinders'] = cars_train_2.groupby(['manufacturer'])['cylinders'].apply(lambda x: x.fillna(next(iter(x.mode()), np.nan)))\n",
    "\n",
    "cars_train_2['condition'] = cars_train_2.groupby(['manufacturer'])['condition'].apply(lambda x: x.fillna(next(iter(x.mode()), np.nan)))\n",
    "\n",
    "cars_train_2['odometer'] = cars_train_2.groupby(['fuel'])['odometer'].apply(lambda x: x.fillna(x.mean()))\n",
    "\n",
    "cars_train_2['drive'] = cars_train_2.groupby(['fuel'])['drive'].apply(lambda x: x.fillna(next(iter(x.mode()), np.nan)))\n",
    "\n",
    "cars_train_2['type'] = cars_train_2.groupby(['transmission'])['type'].apply(lambda x: x.fillna(next(iter(x.mode()), np.nan)))\n",
    "\n",
    "cars_train_2['paint_color'] = cars_train_2.groupby(['fuel'])['paint_color'].apply(lambda x: x.fillna(next(iter(x.mode()), np.nan)))"
   ]
  },
  {
   "cell_type": "code",
   "execution_count": null,
   "id": "infrared-thriller",
   "metadata": {
    "colab": {
     "base_uri": "https://localhost:8080/"
    },
    "id": "infrared-thriller",
    "outputId": "9f8ee9d4-345a-4ba5-87bf-f42b324e1915"
   },
   "outputs": [
    {
     "name": "stdout",
     "output_type": "stream",
     "text": [
      "price           0\n",
      "year            0\n",
      "manufacturer    0\n",
      "model           0\n",
      "condition       0\n",
      "cylinders       0\n",
      "fuel            0\n",
      "odometer        0\n",
      "transmission    0\n",
      "drive           0\n",
      "type            0\n",
      "paint_color     0\n",
      "dtype: int64\n"
     ]
    }
   ],
   "source": [
    "print(cars_train_2.isnull().sum())"
   ]
  },
  {
   "cell_type": "markdown",
   "id": "exterior-traffic",
   "metadata": {
    "id": "exterior-traffic"
   },
   "source": [
    "## Removing Outliers"
   ]
  },
  {
   "cell_type": "code",
   "execution_count": null,
   "id": "turkish-mistress",
   "metadata": {
    "colab": {
     "base_uri": "https://localhost:8080/"
    },
    "id": "turkish-mistress",
    "outputId": "27a789d2-d588-4390-add7-e152d64e9350"
   },
   "outputs": [
    {
     "data": {
      "image/png": "[encoded data removed]",
      "text/plain": [
       "<Figure size 432x288 with 1 Axes>"
      ]
     },
     "metadata": {
      "needs_background": "light",
      "tags": []
     },
     "output_type": "display_data"
    }
   ],
   "source": [
    "plt.boxplot(cars_train_2['price'])\n",
    "plt.show()"
   ]
  },
  {
   "cell_type": "code",
   "execution_count": null,
   "id": "automatic-mongolia",
   "metadata": {
    "colab": {
     "base_uri": "https://localhost:8080/"
    },
    "id": "automatic-mongolia",
    "outputId": "cadd4637-15c0-49a9-a8ac-4665d42a9bb1"
   },
   "outputs": [
    {
     "data": {
      "text/plain": [
       "(256491, 12)"
      ]
     },
     "execution_count": 246,
     "metadata": {
      "tags": []
     },
     "output_type": "execute_result"
    }
   ],
   "source": [
    "cars_train_2=cars_train_2[(cars_train_2.price > 1000 ) & (cars_train_2.price <40000)]\n",
    "cars_train_2.shape"
   ]
  },
  {
   "cell_type": "code",
   "execution_count": null,
   "id": "guided-uruguay",
   "metadata": {
    "colab": {
     "base_uri": "https://localhost:8080/"
    },
    "id": "guided-uruguay",
    "outputId": "c7315f8c-2861-40d0-eb74-8a1ceab5cc30"
   },
   "outputs": [
    {
     "data": {
      "text/plain": [
       "(249020, 12)"
      ]
     },
     "execution_count": 247,
     "metadata": {
      "tags": []
     },
     "output_type": "execute_result"
    }
   ],
   "source": [
    "cars_train_2=cars_train_2[(cars_train_2.odometer > 1000 ) & (cars_train_2.odometer <250000)]\n",
    "cars_train_2.shape"
   ]
  },
  {
   "cell_type": "code",
   "execution_count": null,
   "id": "superior-services",
   "metadata": {
    "colab": {
     "base_uri": "https://localhost:8080/"
    },
    "id": "superior-services",
    "outputId": "c2750151-1704-4c40-e94d-a825f86a148f"
   },
   "outputs": [
    {
     "data": {
      "image/png": "[encoded data removed]",
      "text/plain": [
       "<Figure size 432x288 with 1 Axes>"
      ]
     },
     "metadata": {
      "needs_background": "light",
      "tags": []
     },
     "output_type": "display_data"
    }
   ],
   "source": [
    "plt.boxplot(cars_train_2['price'])\n",
    "plt.show()"
   ]
  },
  {
   "cell_type": "markdown",
   "id": "destroyed-roberts",
   "metadata": {
    "id": "destroyed-roberts"
   },
   "source": [
    "## Calculating the Age Variable"
   ]
  },
  {
   "cell_type": "code",
   "execution_count": null,
   "id": "conditional-liverpool",
   "metadata": {
    "colab": {
     "base_uri": "https://localhost:8080/"
    },
    "id": "conditional-liverpool",
    "outputId": "ed3753ae-3d31-46a8-c01d-2a578e89a76d"
   },
   "outputs": [
    {
     "name": "stdout",
     "output_type": "stream",
     "text": [
      "4.0      22035\n",
      "8.0      19839\n",
      "7.0      19819\n",
      "9.0      17960\n",
      "6.0      17817\n",
      "         ...  \n",
      "100.0        1\n",
      "99.0         1\n",
      "88.0         1\n",
      "108.0        1\n",
      "76.0         1\n",
      "Name: age, Length: 101, dtype: int64\n"
     ]
    }
   ],
   "source": [
    "cars_train_2['age'] = cars_train_2['year'].max() - cars_train_2['year']\n",
    "cars_train_2.drop(['year'], axis=1, inplace=True)\n",
    "print(cars_train_2['age'].value_counts())"
   ]
  },
  {
   "cell_type": "markdown",
   "id": "mobile-surgery",
   "metadata": {
    "id": "mobile-surgery"
   },
   "source": [
    "## Splitting the Features into Numerical and categorical"
   ]
  },
  {
   "cell_type": "code",
   "execution_count": null,
   "id": "certified-indicator",
   "metadata": {
    "id": "certified-indicator"
   },
   "outputs": [],
   "source": [
    "train_features_2 = cars_train_2.drop([\"price\"], axis=1) \n",
    "train_labels_2 = cars_train_2[\"price\"]\n",
    "\n",
    "train_num_2 = train_features_2.select_dtypes(include=[np.number])\n",
    "train_cat_2 = train_features_2.select_dtypes(exclude=[np.number])"
   ]
  },
  {
   "cell_type": "code",
   "execution_count": null,
   "id": "recent-bible",
   "metadata": {
    "colab": {
     "base_uri": "https://localhost:8080/"
    },
    "id": "recent-bible",
    "outputId": "c7bd1dec-bdd3-4a6f-acaa-c77de759c4f1",
    "scrolled": true
   },
   "outputs": [
    {
     "data": {
      "text/html": [
       "<div>\n",
       "<style scoped>\n",
       "    .dataframe tbody tr th:only-of-type {\n",
       "        vertical-align: middle;\n",
       "    }\n",
       "\n",
       "    .dataframe tbody tr th {\n",
       "        vertical-align: top;\n",
       "    }\n",
       "\n",
       "    .dataframe thead th {\n",
       "        text-align: right;\n",
       "    }\n",
       "</style>\n",
       "<table border=\"1\" class=\"dataframe\">\n",
       "  <thead>\n",
       "    <tr style=\"text-align: right;\">\n",
       "      <th></th>\n",
       "      <th>odometer</th>\n",
       "      <th>age</th>\n",
       "    </tr>\n",
       "  </thead>\n",
       "  <tbody>\n",
       "    <tr>\n",
       "      <th>0</th>\n",
       "      <td>181000.000000</td>\n",
       "      <td>16.0</td>\n",
       "    </tr>\n",
       "    <tr>\n",
       "      <th>1</th>\n",
       "      <td>69408.000000</td>\n",
       "      <td>10.0</td>\n",
       "    </tr>\n",
       "    <tr>\n",
       "      <th>3</th>\n",
       "      <td>50193.000000</td>\n",
       "      <td>10.0</td>\n",
       "    </tr>\n",
       "    <tr>\n",
       "      <th>5</th>\n",
       "      <td>84076.802937</td>\n",
       "      <td>13.0</td>\n",
       "    </tr>\n",
       "    <tr>\n",
       "      <th>6</th>\n",
       "      <td>185000.000000</td>\n",
       "      <td>7.0</td>\n",
       "    </tr>\n",
       "  </tbody>\n",
       "</table>\n",
       "</div>"
      ],
      "text/plain": [
       "        odometer   age\n",
       "0  181000.000000  16.0\n",
       "1   69408.000000  10.0\n",
       "3   50193.000000  10.0\n",
       "5   84076.802937  13.0\n",
       "6  185000.000000   7.0"
      ]
     },
     "execution_count": 17,
     "metadata": {
      "tags": []
     },
     "output_type": "execute_result"
    }
   ],
   "source": [
    "train_num_2.head()"
   ]
  },
  {
   "cell_type": "code",
   "execution_count": null,
   "id": "massive-complaint",
   "metadata": {
    "colab": {
     "base_uri": "https://localhost:8080/"
    },
    "id": "massive-complaint",
    "outputId": "13ff8304-241e-468c-9372-798f3066a53d"
   },
   "outputs": [
    {
     "data": {
      "text/html": [
       "<div>\n",
       "<style scoped>\n",
       "    .dataframe tbody tr th:only-of-type {\n",
       "        vertical-align: middle;\n",
       "    }\n",
       "\n",
       "    .dataframe tbody tr th {\n",
       "        vertical-align: top;\n",
       "    }\n",
       "\n",
       "    .dataframe thead th {\n",
       "        text-align: right;\n",
       "    }\n",
       "</style>\n",
       "<table border=\"1\" class=\"dataframe\">\n",
       "  <thead>\n",
       "    <tr style=\"text-align: right;\">\n",
       "      <th></th>\n",
       "      <th>manufacturer</th>\n",
       "      <th>model</th>\n",
       "      <th>condition</th>\n",
       "      <th>cylinders</th>\n",
       "      <th>fuel</th>\n",
       "      <th>transmission</th>\n",
       "      <th>drive</th>\n",
       "      <th>type</th>\n",
       "      <th>paint_color</th>\n",
       "    </tr>\n",
       "  </thead>\n",
       "  <tbody>\n",
       "    <tr>\n",
       "      <th>0</th>\n",
       "      <td>lincoln</td>\n",
       "      <td>lse</td>\n",
       "      <td>good</td>\n",
       "      <td>8 cylinders</td>\n",
       "      <td>gas</td>\n",
       "      <td>automatic</td>\n",
       "      <td>rwd</td>\n",
       "      <td>sedan</td>\n",
       "      <td>silver</td>\n",
       "    </tr>\n",
       "    <tr>\n",
       "      <th>1</th>\n",
       "      <td>subaru</td>\n",
       "      <td>impreza</td>\n",
       "      <td>good</td>\n",
       "      <td>4 cylinders</td>\n",
       "      <td>gas</td>\n",
       "      <td>automatic</td>\n",
       "      <td>4wd</td>\n",
       "      <td>wagon</td>\n",
       "      <td>blue</td>\n",
       "    </tr>\n",
       "    <tr>\n",
       "      <th>3</th>\n",
       "      <td>bmw</td>\n",
       "      <td>535i</td>\n",
       "      <td>excellent</td>\n",
       "      <td>6 cylinders</td>\n",
       "      <td>gas</td>\n",
       "      <td>automatic</td>\n",
       "      <td>rwd</td>\n",
       "      <td>sedan</td>\n",
       "      <td>black</td>\n",
       "    </tr>\n",
       "    <tr>\n",
       "      <th>5</th>\n",
       "      <td>nissan</td>\n",
       "      <td>armada se</td>\n",
       "      <td>good</td>\n",
       "      <td>8 cylinders</td>\n",
       "      <td>gas</td>\n",
       "      <td>automatic</td>\n",
       "      <td>rwd</td>\n",
       "      <td>SUV</td>\n",
       "      <td>black</td>\n",
       "    </tr>\n",
       "    <tr>\n",
       "      <th>6</th>\n",
       "      <td>ford</td>\n",
       "      <td>f-350</td>\n",
       "      <td>excellent</td>\n",
       "      <td>8 cylinders</td>\n",
       "      <td>diesel</td>\n",
       "      <td>automatic</td>\n",
       "      <td>4wd</td>\n",
       "      <td>other</td>\n",
       "      <td>custom</td>\n",
       "    </tr>\n",
       "  </tbody>\n",
       "</table>\n",
       "</div>"
      ],
      "text/plain": [
       "  manufacturer      model  condition    cylinders    fuel transmission drive  \\\n",
       "0      lincoln        lse       good  8 cylinders     gas    automatic   rwd   \n",
       "1       subaru    impreza       good  4 cylinders     gas    automatic   4wd   \n",
       "3          bmw       535i  excellent  6 cylinders     gas    automatic   rwd   \n",
       "5       nissan  armada se       good  8 cylinders     gas    automatic   rwd   \n",
       "6         ford      f-350  excellent  8 cylinders  diesel    automatic   4wd   \n",
       "\n",
       "    type paint_color  \n",
       "0  sedan      silver  \n",
       "1  wagon        blue  \n",
       "3  sedan       black  \n",
       "5    SUV       black  \n",
       "6  other      custom  "
      ]
     },
     "execution_count": 18,
     "metadata": {
      "tags": []
     },
     "output_type": "execute_result"
    }
   ],
   "source": [
    "train_cat_2.head()"
   ]
  },
  {
   "cell_type": "markdown",
   "id": "appropriate-luxembourg",
   "metadata": {
    "id": "appropriate-luxembourg"
   },
   "source": [
    "## Choosing the Important Features"
   ]
  },
  {
   "cell_type": "code",
   "execution_count": null,
   "id": "latin-coaching",
   "metadata": {
    "id": "latin-coaching"
   },
   "outputs": [],
   "source": [
    "train_num_2_imp = train_num_2[['age', 'odometer']]\n",
    "train_cat_2_imp = train_cat_2"
   ]
  },
  {
   "cell_type": "code",
   "execution_count": null,
   "id": "polish-formation",
   "metadata": {
    "colab": {
     "base_uri": "https://localhost:8080/"
    },
    "id": "polish-formation",
    "outputId": "466c8fd2-6d46-4ed6-e5b0-1ac5b20315ad"
   },
   "outputs": [
    {
     "data": {
      "text/html": [
       "<div>\n",
       "<style scoped>\n",
       "    .dataframe tbody tr th:only-of-type {\n",
       "        vertical-align: middle;\n",
       "    }\n",
       "\n",
       "    .dataframe tbody tr th {\n",
       "        vertical-align: top;\n",
       "    }\n",
       "\n",
       "    .dataframe thead th {\n",
       "        text-align: right;\n",
       "    }\n",
       "</style>\n",
       "<table border=\"1\" class=\"dataframe\">\n",
       "  <thead>\n",
       "    <tr style=\"text-align: right;\">\n",
       "      <th></th>\n",
       "      <th>age</th>\n",
       "      <th>odometer</th>\n",
       "    </tr>\n",
       "  </thead>\n",
       "  <tbody>\n",
       "    <tr>\n",
       "      <th>0</th>\n",
       "      <td>16.0</td>\n",
       "      <td>181000.000000</td>\n",
       "    </tr>\n",
       "    <tr>\n",
       "      <th>1</th>\n",
       "      <td>10.0</td>\n",
       "      <td>69408.000000</td>\n",
       "    </tr>\n",
       "    <tr>\n",
       "      <th>3</th>\n",
       "      <td>10.0</td>\n",
       "      <td>50193.000000</td>\n",
       "    </tr>\n",
       "    <tr>\n",
       "      <th>5</th>\n",
       "      <td>13.0</td>\n",
       "      <td>84076.802937</td>\n",
       "    </tr>\n",
       "    <tr>\n",
       "      <th>6</th>\n",
       "      <td>7.0</td>\n",
       "      <td>185000.000000</td>\n",
       "    </tr>\n",
       "  </tbody>\n",
       "</table>\n",
       "</div>"
      ],
      "text/plain": [
       "    age       odometer\n",
       "0  16.0  181000.000000\n",
       "1  10.0   69408.000000\n",
       "3  10.0   50193.000000\n",
       "5  13.0   84076.802937\n",
       "6   7.0  185000.000000"
      ]
     },
     "execution_count": 20,
     "metadata": {
      "tags": []
     },
     "output_type": "execute_result"
    }
   ],
   "source": [
    "train_num_2_imp.head()"
   ]
  },
  {
   "cell_type": "code",
   "execution_count": null,
   "id": "collect-robert",
   "metadata": {
    "colab": {
     "base_uri": "https://localhost:8080/"
    },
    "id": "collect-robert",
    "outputId": "463af92c-4ea3-4290-a2dc-7c40ba75a3e2"
   },
   "outputs": [
    {
     "data": {
      "text/html": [
       "<div>\n",
       "<style scoped>\n",
       "    .dataframe tbody tr th:only-of-type {\n",
       "        vertical-align: middle;\n",
       "    }\n",
       "\n",
       "    .dataframe tbody tr th {\n",
       "        vertical-align: top;\n",
       "    }\n",
       "\n",
       "    .dataframe thead th {\n",
       "        text-align: right;\n",
       "    }\n",
       "</style>\n",
       "<table border=\"1\" class=\"dataframe\">\n",
       "  <thead>\n",
       "    <tr style=\"text-align: right;\">\n",
       "      <th></th>\n",
       "      <th>manufacturer</th>\n",
       "      <th>model</th>\n",
       "      <th>condition</th>\n",
       "      <th>cylinders</th>\n",
       "      <th>fuel</th>\n",
       "      <th>transmission</th>\n",
       "      <th>drive</th>\n",
       "      <th>type</th>\n",
       "      <th>paint_color</th>\n",
       "    </tr>\n",
       "  </thead>\n",
       "  <tbody>\n",
       "    <tr>\n",
       "      <th>0</th>\n",
       "      <td>lincoln</td>\n",
       "      <td>lse</td>\n",
       "      <td>good</td>\n",
       "      <td>8 cylinders</td>\n",
       "      <td>gas</td>\n",
       "      <td>automatic</td>\n",
       "      <td>rwd</td>\n",
       "      <td>sedan</td>\n",
       "      <td>silver</td>\n",
       "    </tr>\n",
       "    <tr>\n",
       "      <th>1</th>\n",
       "      <td>subaru</td>\n",
       "      <td>impreza</td>\n",
       "      <td>good</td>\n",
       "      <td>4 cylinders</td>\n",
       "      <td>gas</td>\n",
       "      <td>automatic</td>\n",
       "      <td>4wd</td>\n",
       "      <td>wagon</td>\n",
       "      <td>blue</td>\n",
       "    </tr>\n",
       "    <tr>\n",
       "      <th>3</th>\n",
       "      <td>bmw</td>\n",
       "      <td>535i</td>\n",
       "      <td>excellent</td>\n",
       "      <td>6 cylinders</td>\n",
       "      <td>gas</td>\n",
       "      <td>automatic</td>\n",
       "      <td>rwd</td>\n",
       "      <td>sedan</td>\n",
       "      <td>black</td>\n",
       "    </tr>\n",
       "    <tr>\n",
       "      <th>5</th>\n",
       "      <td>nissan</td>\n",
       "      <td>armada se</td>\n",
       "      <td>good</td>\n",
       "      <td>8 cylinders</td>\n",
       "      <td>gas</td>\n",
       "      <td>automatic</td>\n",
       "      <td>rwd</td>\n",
       "      <td>SUV</td>\n",
       "      <td>black</td>\n",
       "    </tr>\n",
       "    <tr>\n",
       "      <th>6</th>\n",
       "      <td>ford</td>\n",
       "      <td>f-350</td>\n",
       "      <td>excellent</td>\n",
       "      <td>8 cylinders</td>\n",
       "      <td>diesel</td>\n",
       "      <td>automatic</td>\n",
       "      <td>4wd</td>\n",
       "      <td>other</td>\n",
       "      <td>custom</td>\n",
       "    </tr>\n",
       "  </tbody>\n",
       "</table>\n",
       "</div>"
      ],
      "text/plain": [
       "  manufacturer      model  condition    cylinders    fuel transmission drive  \\\n",
       "0      lincoln        lse       good  8 cylinders     gas    automatic   rwd   \n",
       "1       subaru    impreza       good  4 cylinders     gas    automatic   4wd   \n",
       "3          bmw       535i  excellent  6 cylinders     gas    automatic   rwd   \n",
       "5       nissan  armada se       good  8 cylinders     gas    automatic   rwd   \n",
       "6         ford      f-350  excellent  8 cylinders  diesel    automatic   4wd   \n",
       "\n",
       "    type paint_color  \n",
       "0  sedan      silver  \n",
       "1  wagon        blue  \n",
       "3  sedan       black  \n",
       "5    SUV       black  \n",
       "6  other      custom  "
      ]
     },
     "execution_count": 21,
     "metadata": {
      "tags": []
     },
     "output_type": "execute_result"
    }
   ],
   "source": [
    "train_cat_2_imp.head()"
   ]
  },
  {
   "cell_type": "markdown",
   "id": "visible-lindsay",
   "metadata": {
    "id": "visible-lindsay"
   },
   "source": [
    "## Trial 1 - Ordinal Encoding + Standard Scaler"
   ]
  },
  {
   "cell_type": "markdown",
   "id": "continuing-gibson",
   "metadata": {
    "id": "continuing-gibson"
   },
   "source": [
    "#### Ordinal Encoding"
   ]
  },
  {
   "cell_type": "code",
   "execution_count": null,
   "id": "excited-briefs",
   "metadata": {
    "colab": {
     "base_uri": "https://localhost:8080/"
    },
    "id": "excited-briefs",
    "outputId": "cb495434-1e35-4ae9-e851-ce3439fc0fd1"
   },
   "outputs": [
    {
     "data": {
      "text/html": [
       "<div>\n",
       "<style scoped>\n",
       "    .dataframe tbody tr th:only-of-type {\n",
       "        vertical-align: middle;\n",
       "    }\n",
       "\n",
       "    .dataframe tbody tr th {\n",
       "        vertical-align: top;\n",
       "    }\n",
       "\n",
       "    .dataframe thead th {\n",
       "        text-align: right;\n",
       "    }\n",
       "</style>\n",
       "<table border=\"1\" class=\"dataframe\">\n",
       "  <thead>\n",
       "    <tr style=\"text-align: right;\">\n",
       "      <th></th>\n",
       "      <th>manufacturer</th>\n",
       "      <th>model</th>\n",
       "      <th>condition</th>\n",
       "      <th>cylinders</th>\n",
       "      <th>fuel</th>\n",
       "      <th>transmission</th>\n",
       "      <th>drive</th>\n",
       "      <th>type</th>\n",
       "      <th>paint_color</th>\n",
       "    </tr>\n",
       "  </thead>\n",
       "  <tbody>\n",
       "    <tr>\n",
       "      <th>0</th>\n",
       "      <td>23.0</td>\n",
       "      <td>10274.0</td>\n",
       "      <td>2.0</td>\n",
       "      <td>6.0</td>\n",
       "      <td>2.0</td>\n",
       "      <td>0.0</td>\n",
       "      <td>2.0</td>\n",
       "      <td>9.0</td>\n",
       "      <td>9.0</td>\n",
       "    </tr>\n",
       "    <tr>\n",
       "      <th>1</th>\n",
       "      <td>35.0</td>\n",
       "      <td>9435.0</td>\n",
       "      <td>2.0</td>\n",
       "      <td>3.0</td>\n",
       "      <td>2.0</td>\n",
       "      <td>0.0</td>\n",
       "      <td>0.0</td>\n",
       "      <td>12.0</td>\n",
       "      <td>1.0</td>\n",
       "    </tr>\n",
       "    <tr>\n",
       "      <th>2</th>\n",
       "      <td>4.0</td>\n",
       "      <td>1547.0</td>\n",
       "      <td>0.0</td>\n",
       "      <td>5.0</td>\n",
       "      <td>2.0</td>\n",
       "      <td>0.0</td>\n",
       "      <td>2.0</td>\n",
       "      <td>9.0</td>\n",
       "      <td>0.0</td>\n",
       "    </tr>\n",
       "    <tr>\n",
       "      <th>3</th>\n",
       "      <td>29.0</td>\n",
       "      <td>2456.0</td>\n",
       "      <td>2.0</td>\n",
       "      <td>6.0</td>\n",
       "      <td>2.0</td>\n",
       "      <td>0.0</td>\n",
       "      <td>2.0</td>\n",
       "      <td>0.0</td>\n",
       "      <td>0.0</td>\n",
       "    </tr>\n",
       "    <tr>\n",
       "      <th>4</th>\n",
       "      <td>12.0</td>\n",
       "      <td>7199.0</td>\n",
       "      <td>0.0</td>\n",
       "      <td>6.0</td>\n",
       "      <td>0.0</td>\n",
       "      <td>0.0</td>\n",
       "      <td>0.0</td>\n",
       "      <td>7.0</td>\n",
       "      <td>3.0</td>\n",
       "    </tr>\n",
       "    <tr>\n",
       "      <th>...</th>\n",
       "      <td>...</td>\n",
       "      <td>...</td>\n",
       "      <td>...</td>\n",
       "      <td>...</td>\n",
       "      <td>...</td>\n",
       "      <td>...</td>\n",
       "      <td>...</td>\n",
       "      <td>...</td>\n",
       "      <td>...</td>\n",
       "    </tr>\n",
       "    <tr>\n",
       "      <th>249015</th>\n",
       "      <td>7.0</td>\n",
       "      <td>9396.0</td>\n",
       "      <td>2.0</td>\n",
       "      <td>3.0</td>\n",
       "      <td>2.0</td>\n",
       "      <td>0.0</td>\n",
       "      <td>1.0</td>\n",
       "      <td>9.0</td>\n",
       "      <td>5.0</td>\n",
       "    </tr>\n",
       "    <tr>\n",
       "      <th>249016</th>\n",
       "      <td>12.0</td>\n",
       "      <td>12509.0</td>\n",
       "      <td>0.0</td>\n",
       "      <td>5.0</td>\n",
       "      <td>2.0</td>\n",
       "      <td>0.0</td>\n",
       "      <td>0.0</td>\n",
       "      <td>10.0</td>\n",
       "      <td>8.0</td>\n",
       "    </tr>\n",
       "    <tr>\n",
       "      <th>249017</th>\n",
       "      <td>17.0</td>\n",
       "      <td>12415.0</td>\n",
       "      <td>0.0</td>\n",
       "      <td>5.0</td>\n",
       "      <td>2.0</td>\n",
       "      <td>0.0</td>\n",
       "      <td>0.0</td>\n",
       "      <td>12.0</td>\n",
       "      <td>9.0</td>\n",
       "    </tr>\n",
       "    <tr>\n",
       "      <th>249018</th>\n",
       "      <td>4.0</td>\n",
       "      <td>883.0</td>\n",
       "      <td>0.0</td>\n",
       "      <td>5.0</td>\n",
       "      <td>2.0</td>\n",
       "      <td>0.0</td>\n",
       "      <td>2.0</td>\n",
       "      <td>9.0</td>\n",
       "      <td>5.0</td>\n",
       "    </tr>\n",
       "    <tr>\n",
       "      <th>249019</th>\n",
       "      <td>19.0</td>\n",
       "      <td>10139.0</td>\n",
       "      <td>2.0</td>\n",
       "      <td>3.0</td>\n",
       "      <td>2.0</td>\n",
       "      <td>0.0</td>\n",
       "      <td>1.0</td>\n",
       "      <td>0.0</td>\n",
       "      <td>5.0</td>\n",
       "    </tr>\n",
       "  </tbody>\n",
       "</table>\n",
       "<p>249020 rows × 9 columns</p>\n",
       "</div>"
      ],
      "text/plain": [
       "        manufacturer    model  condition  cylinders  fuel  transmission  \\\n",
       "0               23.0  10274.0        2.0        6.0   2.0           0.0   \n",
       "1               35.0   9435.0        2.0        3.0   2.0           0.0   \n",
       "2                4.0   1547.0        0.0        5.0   2.0           0.0   \n",
       "3               29.0   2456.0        2.0        6.0   2.0           0.0   \n",
       "4               12.0   7199.0        0.0        6.0   0.0           0.0   \n",
       "...              ...      ...        ...        ...   ...           ...   \n",
       "249015           7.0   9396.0        2.0        3.0   2.0           0.0   \n",
       "249016          12.0  12509.0        0.0        5.0   2.0           0.0   \n",
       "249017          17.0  12415.0        0.0        5.0   2.0           0.0   \n",
       "249018           4.0    883.0        0.0        5.0   2.0           0.0   \n",
       "249019          19.0  10139.0        2.0        3.0   2.0           0.0   \n",
       "\n",
       "        drive  type  paint_color  \n",
       "0         2.0   9.0          9.0  \n",
       "1         0.0  12.0          1.0  \n",
       "2         2.0   9.0          0.0  \n",
       "3         2.0   0.0          0.0  \n",
       "4         0.0   7.0          3.0  \n",
       "...       ...   ...          ...  \n",
       "249015    1.0   9.0          5.0  \n",
       "249016    0.0  10.0          8.0  \n",
       "249017    0.0  12.0          9.0  \n",
       "249018    2.0   9.0          5.0  \n",
       "249019    1.0   0.0          5.0  \n",
       "\n",
       "[249020 rows x 9 columns]"
      ]
     },
     "execution_count": 48,
     "metadata": {
      "tags": []
     },
     "output_type": "execute_result"
    }
   ],
   "source": [
    "ordinal_encoder = OrdinalEncoder()\n",
    "\n",
    "train_cat_2_imp_ordinal = ordinal_encoder.fit_transform(train_cat_2_imp)\n",
    "train_cat_2_imp_ordinal = pd.DataFrame(train_cat_2_imp_ordinal, columns = ['manufacturer', 'model', 'condition', 'cylinders', 'fuel', 'transmission', 'drive', 'type', 'paint_color'])\n",
    "train_cat_2_imp_ordinal"
   ]
  },
  {
   "cell_type": "markdown",
   "id": "close-government",
   "metadata": {
    "id": "close-government"
   },
   "source": [
    "#### Standard Scaler"
   ]
  },
  {
   "cell_type": "code",
   "execution_count": null,
   "id": "lesbian-trademark",
   "metadata": {
    "colab": {
     "base_uri": "https://localhost:8080/"
    },
    "id": "lesbian-trademark",
    "outputId": "fffe2507-1cf4-457b-9214-3d7d22cb4335"
   },
   "outputs": [
    {
     "data": {
      "text/html": [
       "<div>\n",
       "<style scoped>\n",
       "    .dataframe tbody tr th:only-of-type {\n",
       "        vertical-align: middle;\n",
       "    }\n",
       "\n",
       "    .dataframe tbody tr th {\n",
       "        vertical-align: top;\n",
       "    }\n",
       "\n",
       "    .dataframe thead th {\n",
       "        text-align: right;\n",
       "    }\n",
       "</style>\n",
       "<table border=\"1\" class=\"dataframe\">\n",
       "  <thead>\n",
       "    <tr style=\"text-align: right;\">\n",
       "      <th></th>\n",
       "      <th>0</th>\n",
       "      <th>1</th>\n",
       "    </tr>\n",
       "  </thead>\n",
       "  <tbody>\n",
       "    <tr>\n",
       "      <th>0</th>\n",
       "      <td>0.736484</td>\n",
       "      <td>1.565364</td>\n",
       "    </tr>\n",
       "    <tr>\n",
       "      <th>1</th>\n",
       "      <td>-0.030599</td>\n",
       "      <td>-0.508721</td>\n",
       "    </tr>\n",
       "    <tr>\n",
       "      <th>2</th>\n",
       "      <td>-0.030599</td>\n",
       "      <td>-0.865857</td>\n",
       "    </tr>\n",
       "    <tr>\n",
       "      <th>3</th>\n",
       "      <td>0.352943</td>\n",
       "      <td>-0.236082</td>\n",
       "    </tr>\n",
       "    <tr>\n",
       "      <th>4</th>\n",
       "      <td>-0.414140</td>\n",
       "      <td>1.639709</td>\n",
       "    </tr>\n",
       "    <tr>\n",
       "      <th>...</th>\n",
       "      <td>...</td>\n",
       "      <td>...</td>\n",
       "    </tr>\n",
       "    <tr>\n",
       "      <th>249015</th>\n",
       "      <td>0.352943</td>\n",
       "      <td>1.620416</td>\n",
       "    </tr>\n",
       "    <tr>\n",
       "      <th>249016</th>\n",
       "      <td>0.352943</td>\n",
       "      <td>0.597072</td>\n",
       "    </tr>\n",
       "    <tr>\n",
       "      <th>249017</th>\n",
       "      <td>-0.669834</td>\n",
       "      <td>-0.943659</td>\n",
       "    </tr>\n",
       "    <tr>\n",
       "      <th>249018</th>\n",
       "      <td>1.120026</td>\n",
       "      <td>0.187166</td>\n",
       "    </tr>\n",
       "    <tr>\n",
       "      <th>249019</th>\n",
       "      <td>0.736484</td>\n",
       "      <td>-0.236082</td>\n",
       "    </tr>\n",
       "  </tbody>\n",
       "</table>\n",
       "<p>249020 rows × 2 columns</p>\n",
       "</div>"
      ],
      "text/plain": [
       "               0         1\n",
       "0       0.736484  1.565364\n",
       "1      -0.030599 -0.508721\n",
       "2      -0.030599 -0.865857\n",
       "3       0.352943 -0.236082\n",
       "4      -0.414140  1.639709\n",
       "...          ...       ...\n",
       "249015  0.352943  1.620416\n",
       "249016  0.352943  0.597072\n",
       "249017 -0.669834 -0.943659\n",
       "249018  1.120026  0.187166\n",
       "249019  0.736484 -0.236082\n",
       "\n",
       "[249020 rows x 2 columns]"
      ]
     },
     "execution_count": 49,
     "metadata": {
      "tags": []
     },
     "output_type": "execute_result"
    }
   ],
   "source": [
    "train_num_2_imp_standard = StandardScaler().fit_transform(train_num_2_imp)\n",
    "train_num_2_imp_standard = pd.DataFrame(train_num_2_imp_standard)\n",
    "train_num_2_imp_standard"
   ]
  },
  {
   "cell_type": "markdown",
   "id": "ancient-mathematics",
   "metadata": {
    "id": "ancient-mathematics"
   },
   "source": [
    "#### Concatinating the Dataframes"
   ]
  },
  {
   "cell_type": "code",
   "execution_count": null,
   "id": "given-pollution",
   "metadata": {
    "colab": {
     "base_uri": "https://localhost:8080/"
    },
    "id": "given-pollution",
    "outputId": "972d6a7e-8c13-4ec3-87ff-efccb1dce588"
   },
   "outputs": [
    {
     "data": {
      "text/plain": [
       "(249020, 11)"
      ]
     },
     "execution_count": 50,
     "metadata": {
      "tags": []
     },
     "output_type": "execute_result"
    }
   ],
   "source": [
    "X_prepared_1 = pd.concat([train_cat_2_imp_ordinal, train_num_2_imp_standard], axis=1).reindex(train_cat_2_imp_ordinal.index)\n",
    "\n",
    "X_prepared_1.shape"
   ]
  },
  {
   "cell_type": "markdown",
   "id": "appointed-greeting",
   "metadata": {
    "id": "appointed-greeting"
   },
   "source": [
    "#### Building the Model and Calculating the Scores"
   ]
  },
  {
   "cell_type": "code",
   "execution_count": null,
   "id": "charming-number",
   "metadata": {
    "id": "charming-number"
   },
   "outputs": [],
   "source": [
    "model_1 = LinearRegression()\n",
    "cv = KFold(n_splits=5, random_state=1, shuffle=True)\n",
    "\n",
    "model_1_error = np.sqrt(-cross_val_score(model_1, X_prepared_1, train_labels_2, cv=cv, scoring='neg_mean_squared_error'))\n",
    "\n",
    "model_1_error_mean = model_1_error.mean()\n",
    "model_1_error_std = model_1_error.std()"
   ]
  },
  {
   "cell_type": "code",
   "execution_count": null,
   "id": "elder-presence",
   "metadata": {
    "colab": {
     "base_uri": "https://localhost:8080/"
    },
    "id": "elder-presence",
    "outputId": "35ec419b-0b0d-45c4-f4c9-dac897a76846"
   },
   "outputs": [
    {
     "name": "stdout",
     "output_type": "stream",
     "text": [
      "The RMSE Mean Score is:  6596.21355020055\n",
      "The RMSE Std Value is:  36.59394815755368\n"
     ]
    }
   ],
   "source": [
    "print('The RMSE Mean Score is: ', model_1_error_mean)\n",
    "print('The RMSE Std Value is: ', model_1_error_std)"
   ]
  },
  {
   "cell_type": "markdown",
   "id": "norman-closure",
   "metadata": {
    "id": "norman-closure"
   },
   "source": [
    "## Trial 2 - One Hot Encoding + Standard Scaler"
   ]
  },
  {
   "cell_type": "markdown",
   "id": "advanced-popularity",
   "metadata": {
    "id": "advanced-popularity"
   },
   "source": [
    "#### Redcing the Model Variable due to the Memory Problem"
   ]
  },
  {
   "cell_type": "code",
   "execution_count": null,
   "id": "worthy-ireland",
   "metadata": {
    "colab": {
     "base_uri": "https://localhost:8080/"
    },
    "id": "worthy-ireland",
    "outputId": "a6d42f14-1a56-45a9-a36e-4315dc8abe17"
   },
   "outputs": [
    {
     "data": {
      "text/plain": [
       "17345"
      ]
     },
     "execution_count": 53,
     "metadata": {
      "tags": []
     },
     "output_type": "execute_result"
    }
   ],
   "source": [
    "train_cat_2_imp['model'].nunique()"
   ]
  },
  {
   "cell_type": "code",
   "execution_count": null,
   "id": "round-sharing",
   "metadata": {
    "colab": {
     "base_uri": "https://localhost:8080/"
    },
    "id": "round-sharing",
    "outputId": "85c5922f-3f27-4d56-8ff0-7ca679c8dee3"
   },
   "outputs": [
    {
     "data": {
      "text/plain": [
       "f-150                                                4362\n",
       "silverado 1500                                       3047\n",
       "camry                                                2379\n",
       "1500                                                 2258\n",
       "accord                                               2156\n",
       "                                                     ... \n",
       "sorento sxl                                             1\n",
       "forte lx 75k miles new tire                             1\n",
       "325i wagon                                              1\n",
       "ran b2500 cargo/work van                                1\n",
       "es 330 sedan only 76k low miles leather moon roof       1\n",
       "Name: model, Length: 17345, dtype: int64"
      ]
     },
     "execution_count": 54,
     "metadata": {
      "tags": []
     },
     "output_type": "execute_result"
    }
   ],
   "source": [
    "train_cat_2_imp['model'].value_counts()"
   ]
  },
  {
   "cell_type": "markdown",
   "id": "settled-switzerland",
   "metadata": {
    "id": "settled-switzerland"
   },
   "source": [
    "We can take only Model types which have more than 50 occurences => Top 700 Car Model and map the rest as 'Other'"
   ]
  },
  {
   "cell_type": "code",
   "execution_count": null,
   "id": "inappropriate-lightweight",
   "metadata": {
    "id": "inappropriate-lightweight"
   },
   "outputs": [],
   "source": [
    "need = train_cat_2_imp['model'].value_counts().index[:700]\n",
    "\n",
    "train_cat_2_imp['model'] = np.where(train_cat_2_imp['model'].isin(need), train_cat_2_imp['model'], 'OTHER')"
   ]
  },
  {
   "cell_type": "markdown",
   "id": "weird-purpose",
   "metadata": {
    "id": "weird-purpose"
   },
   "source": [
    "##### We lost some data, but our model variable is much more cleaner now"
   ]
  },
  {
   "cell_type": "code",
   "execution_count": null,
   "id": "detailed-engineering",
   "metadata": {
    "colab": {
     "base_uri": "https://localhost:8080/"
    },
    "id": "detailed-engineering",
    "outputId": "1da08336-5897-4a79-d46d-c033828c93c0"
   },
   "outputs": [
    {
     "data": {
      "text/plain": [
       "701"
      ]
     },
     "execution_count": 56,
     "metadata": {
      "tags": []
     },
     "output_type": "execute_result"
    }
   ],
   "source": [
    "train_cat_2_imp['model'].nunique()"
   ]
  },
  {
   "cell_type": "code",
   "execution_count": null,
   "id": "recovered-comment",
   "metadata": {
    "colab": {
     "base_uri": "https://localhost:8080/"
    },
    "id": "recovered-comment",
    "outputId": "119919f9-1622-4927-beed-2e04147e2d62"
   },
   "outputs": [
    {
     "data": {
      "text/plain": [
       "OTHER                  74291\n",
       "f-150                   4362\n",
       "silverado 1500          3047\n",
       "camry                   2379\n",
       "1500                    2258\n",
       "                       ...  \n",
       "530i                      54\n",
       "legacy 2.5i premium       54\n",
       "rav4 limited              53\n",
       "accent gls                53\n",
       "cts cts-v coupe 2d        53\n",
       "Name: model, Length: 701, dtype: int64"
      ]
     },
     "execution_count": 57,
     "metadata": {
      "tags": []
     },
     "output_type": "execute_result"
    }
   ],
   "source": [
    "train_cat_2_imp['model'].value_counts()"
   ]
  },
  {
   "cell_type": "markdown",
   "id": "immediate-quest",
   "metadata": {
    "id": "immediate-quest"
   },
   "source": [
    "#### One Hot Encoding"
   ]
  },
  {
   "cell_type": "code",
   "execution_count": null,
   "id": "regional-cisco",
   "metadata": {
    "colab": {
     "base_uri": "https://localhost:8080/"
    },
    "id": "regional-cisco",
    "outputId": "f4e7c03d-9009-4f99-d0a0-9a4a93c0bd19"
   },
   "outputs": [
    {
     "data": {
      "text/html": [
       "<div>\n",
       "<style scoped>\n",
       "    .dataframe tbody tr th:only-of-type {\n",
       "        vertical-align: middle;\n",
       "    }\n",
       "\n",
       "    .dataframe tbody tr th {\n",
       "        vertical-align: top;\n",
       "    }\n",
       "\n",
       "    .dataframe thead th {\n",
       "        text-align: right;\n",
       "    }\n",
       "</style>\n",
       "<table border=\"1\" class=\"dataframe\">\n",
       "  <thead>\n",
       "    <tr style=\"text-align: right;\">\n",
       "      <th></th>\n",
       "      <th>manufacturer</th>\n",
       "      <th>model</th>\n",
       "      <th>condition</th>\n",
       "      <th>cylinders</th>\n",
       "      <th>fuel</th>\n",
       "      <th>transmission</th>\n",
       "      <th>drive</th>\n",
       "      <th>type</th>\n",
       "      <th>paint_color</th>\n",
       "    </tr>\n",
       "  </thead>\n",
       "  <tbody>\n",
       "    <tr>\n",
       "      <th>0</th>\n",
       "      <td>lincoln</td>\n",
       "      <td>OTHER</td>\n",
       "      <td>good</td>\n",
       "      <td>8 cylinders</td>\n",
       "      <td>gas</td>\n",
       "      <td>automatic</td>\n",
       "      <td>rwd</td>\n",
       "      <td>sedan</td>\n",
       "      <td>silver</td>\n",
       "    </tr>\n",
       "    <tr>\n",
       "      <th>1</th>\n",
       "      <td>subaru</td>\n",
       "      <td>impreza</td>\n",
       "      <td>good</td>\n",
       "      <td>4 cylinders</td>\n",
       "      <td>gas</td>\n",
       "      <td>automatic</td>\n",
       "      <td>4wd</td>\n",
       "      <td>wagon</td>\n",
       "      <td>blue</td>\n",
       "    </tr>\n",
       "    <tr>\n",
       "      <th>3</th>\n",
       "      <td>bmw</td>\n",
       "      <td>535i</td>\n",
       "      <td>excellent</td>\n",
       "      <td>6 cylinders</td>\n",
       "      <td>gas</td>\n",
       "      <td>automatic</td>\n",
       "      <td>rwd</td>\n",
       "      <td>sedan</td>\n",
       "      <td>black</td>\n",
       "    </tr>\n",
       "    <tr>\n",
       "      <th>5</th>\n",
       "      <td>nissan</td>\n",
       "      <td>OTHER</td>\n",
       "      <td>good</td>\n",
       "      <td>8 cylinders</td>\n",
       "      <td>gas</td>\n",
       "      <td>automatic</td>\n",
       "      <td>rwd</td>\n",
       "      <td>SUV</td>\n",
       "      <td>black</td>\n",
       "    </tr>\n",
       "    <tr>\n",
       "      <th>6</th>\n",
       "      <td>ford</td>\n",
       "      <td>f-350</td>\n",
       "      <td>excellent</td>\n",
       "      <td>8 cylinders</td>\n",
       "      <td>diesel</td>\n",
       "      <td>automatic</td>\n",
       "      <td>4wd</td>\n",
       "      <td>other</td>\n",
       "      <td>custom</td>\n",
       "    </tr>\n",
       "  </tbody>\n",
       "</table>\n",
       "</div>"
      ],
      "text/plain": [
       "  manufacturer    model  condition    cylinders    fuel transmission drive  \\\n",
       "0      lincoln    OTHER       good  8 cylinders     gas    automatic   rwd   \n",
       "1       subaru  impreza       good  4 cylinders     gas    automatic   4wd   \n",
       "3          bmw     535i  excellent  6 cylinders     gas    automatic   rwd   \n",
       "5       nissan    OTHER       good  8 cylinders     gas    automatic   rwd   \n",
       "6         ford    f-350  excellent  8 cylinders  diesel    automatic   4wd   \n",
       "\n",
       "    type paint_color  \n",
       "0  sedan      silver  \n",
       "1  wagon        blue  \n",
       "3  sedan       black  \n",
       "5    SUV       black  \n",
       "6  other      custom  "
      ]
     },
     "execution_count": 58,
     "metadata": {
      "tags": []
     },
     "output_type": "execute_result"
    }
   ],
   "source": [
    "train_cat_2_imp.head()"
   ]
  },
  {
   "cell_type": "code",
   "execution_count": null,
   "id": "global-rehabilitation",
   "metadata": {
    "colab": {
     "base_uri": "https://localhost:8080/"
    },
    "id": "global-rehabilitation",
    "outputId": "c89168c1-f9f7-4aa5-d6cc-c5577b6fca17"
   },
   "outputs": [
    {
     "data": {
      "text/html": [
       "<div>\n",
       "<style scoped>\n",
       "    .dataframe tbody tr th:only-of-type {\n",
       "        vertical-align: middle;\n",
       "    }\n",
       "\n",
       "    .dataframe tbody tr th {\n",
       "        vertical-align: top;\n",
       "    }\n",
       "\n",
       "    .dataframe thead th {\n",
       "        text-align: right;\n",
       "    }\n",
       "</style>\n",
       "<table border=\"1\" class=\"dataframe\">\n",
       "  <thead>\n",
       "    <tr style=\"text-align: right;\">\n",
       "      <th></th>\n",
       "      <th>0</th>\n",
       "      <th>1</th>\n",
       "      <th>2</th>\n",
       "      <th>3</th>\n",
       "      <th>4</th>\n",
       "      <th>5</th>\n",
       "      <th>6</th>\n",
       "      <th>7</th>\n",
       "      <th>8</th>\n",
       "      <th>9</th>\n",
       "      <th>...</th>\n",
       "      <th>781</th>\n",
       "      <th>782</th>\n",
       "      <th>783</th>\n",
       "      <th>784</th>\n",
       "      <th>785</th>\n",
       "      <th>786</th>\n",
       "      <th>787</th>\n",
       "      <th>788</th>\n",
       "      <th>789</th>\n",
       "      <th>790</th>\n",
       "    </tr>\n",
       "  </thead>\n",
       "  <tbody>\n",
       "    <tr>\n",
       "      <th>0</th>\n",
       "      <td>0.0</td>\n",
       "      <td>0.0</td>\n",
       "      <td>0.0</td>\n",
       "      <td>0.0</td>\n",
       "      <td>0.0</td>\n",
       "      <td>0.0</td>\n",
       "      <td>0.0</td>\n",
       "      <td>0.0</td>\n",
       "      <td>0.0</td>\n",
       "      <td>0.0</td>\n",
       "      <td>...</td>\n",
       "      <td>0.0</td>\n",
       "      <td>0.0</td>\n",
       "      <td>0.0</td>\n",
       "      <td>0.0</td>\n",
       "      <td>0.0</td>\n",
       "      <td>0.0</td>\n",
       "      <td>0.0</td>\n",
       "      <td>1.0</td>\n",
       "      <td>0.0</td>\n",
       "      <td>0.0</td>\n",
       "    </tr>\n",
       "    <tr>\n",
       "      <th>1</th>\n",
       "      <td>0.0</td>\n",
       "      <td>0.0</td>\n",
       "      <td>0.0</td>\n",
       "      <td>0.0</td>\n",
       "      <td>0.0</td>\n",
       "      <td>0.0</td>\n",
       "      <td>0.0</td>\n",
       "      <td>0.0</td>\n",
       "      <td>0.0</td>\n",
       "      <td>0.0</td>\n",
       "      <td>...</td>\n",
       "      <td>0.0</td>\n",
       "      <td>0.0</td>\n",
       "      <td>0.0</td>\n",
       "      <td>0.0</td>\n",
       "      <td>0.0</td>\n",
       "      <td>0.0</td>\n",
       "      <td>0.0</td>\n",
       "      <td>0.0</td>\n",
       "      <td>0.0</td>\n",
       "      <td>0.0</td>\n",
       "    </tr>\n",
       "    <tr>\n",
       "      <th>2</th>\n",
       "      <td>0.0</td>\n",
       "      <td>0.0</td>\n",
       "      <td>0.0</td>\n",
       "      <td>0.0</td>\n",
       "      <td>1.0</td>\n",
       "      <td>0.0</td>\n",
       "      <td>0.0</td>\n",
       "      <td>0.0</td>\n",
       "      <td>0.0</td>\n",
       "      <td>0.0</td>\n",
       "      <td>...</td>\n",
       "      <td>0.0</td>\n",
       "      <td>0.0</td>\n",
       "      <td>0.0</td>\n",
       "      <td>0.0</td>\n",
       "      <td>0.0</td>\n",
       "      <td>0.0</td>\n",
       "      <td>0.0</td>\n",
       "      <td>0.0</td>\n",
       "      <td>0.0</td>\n",
       "      <td>0.0</td>\n",
       "    </tr>\n",
       "    <tr>\n",
       "      <th>3</th>\n",
       "      <td>0.0</td>\n",
       "      <td>0.0</td>\n",
       "      <td>0.0</td>\n",
       "      <td>0.0</td>\n",
       "      <td>0.0</td>\n",
       "      <td>0.0</td>\n",
       "      <td>0.0</td>\n",
       "      <td>0.0</td>\n",
       "      <td>0.0</td>\n",
       "      <td>0.0</td>\n",
       "      <td>...</td>\n",
       "      <td>0.0</td>\n",
       "      <td>0.0</td>\n",
       "      <td>0.0</td>\n",
       "      <td>0.0</td>\n",
       "      <td>0.0</td>\n",
       "      <td>0.0</td>\n",
       "      <td>0.0</td>\n",
       "      <td>0.0</td>\n",
       "      <td>0.0</td>\n",
       "      <td>0.0</td>\n",
       "    </tr>\n",
       "    <tr>\n",
       "      <th>4</th>\n",
       "      <td>0.0</td>\n",
       "      <td>0.0</td>\n",
       "      <td>0.0</td>\n",
       "      <td>0.0</td>\n",
       "      <td>0.0</td>\n",
       "      <td>0.0</td>\n",
       "      <td>0.0</td>\n",
       "      <td>0.0</td>\n",
       "      <td>0.0</td>\n",
       "      <td>0.0</td>\n",
       "      <td>...</td>\n",
       "      <td>0.0</td>\n",
       "      <td>1.0</td>\n",
       "      <td>0.0</td>\n",
       "      <td>0.0</td>\n",
       "      <td>0.0</td>\n",
       "      <td>0.0</td>\n",
       "      <td>0.0</td>\n",
       "      <td>0.0</td>\n",
       "      <td>0.0</td>\n",
       "      <td>0.0</td>\n",
       "    </tr>\n",
       "    <tr>\n",
       "      <th>...</th>\n",
       "      <td>...</td>\n",
       "      <td>...</td>\n",
       "      <td>...</td>\n",
       "      <td>...</td>\n",
       "      <td>...</td>\n",
       "      <td>...</td>\n",
       "      <td>...</td>\n",
       "      <td>...</td>\n",
       "      <td>...</td>\n",
       "      <td>...</td>\n",
       "      <td>...</td>\n",
       "      <td>...</td>\n",
       "      <td>...</td>\n",
       "      <td>...</td>\n",
       "      <td>...</td>\n",
       "      <td>...</td>\n",
       "      <td>...</td>\n",
       "      <td>...</td>\n",
       "      <td>...</td>\n",
       "      <td>...</td>\n",
       "      <td>...</td>\n",
       "    </tr>\n",
       "    <tr>\n",
       "      <th>249015</th>\n",
       "      <td>0.0</td>\n",
       "      <td>0.0</td>\n",
       "      <td>0.0</td>\n",
       "      <td>0.0</td>\n",
       "      <td>0.0</td>\n",
       "      <td>0.0</td>\n",
       "      <td>0.0</td>\n",
       "      <td>1.0</td>\n",
       "      <td>0.0</td>\n",
       "      <td>0.0</td>\n",
       "      <td>...</td>\n",
       "      <td>0.0</td>\n",
       "      <td>0.0</td>\n",
       "      <td>0.0</td>\n",
       "      <td>1.0</td>\n",
       "      <td>0.0</td>\n",
       "      <td>0.0</td>\n",
       "      <td>0.0</td>\n",
       "      <td>0.0</td>\n",
       "      <td>0.0</td>\n",
       "      <td>0.0</td>\n",
       "    </tr>\n",
       "    <tr>\n",
       "      <th>249016</th>\n",
       "      <td>0.0</td>\n",
       "      <td>0.0</td>\n",
       "      <td>0.0</td>\n",
       "      <td>0.0</td>\n",
       "      <td>0.0</td>\n",
       "      <td>0.0</td>\n",
       "      <td>0.0</td>\n",
       "      <td>0.0</td>\n",
       "      <td>0.0</td>\n",
       "      <td>0.0</td>\n",
       "      <td>...</td>\n",
       "      <td>0.0</td>\n",
       "      <td>0.0</td>\n",
       "      <td>0.0</td>\n",
       "      <td>0.0</td>\n",
       "      <td>0.0</td>\n",
       "      <td>0.0</td>\n",
       "      <td>1.0</td>\n",
       "      <td>0.0</td>\n",
       "      <td>0.0</td>\n",
       "      <td>0.0</td>\n",
       "    </tr>\n",
       "    <tr>\n",
       "      <th>249017</th>\n",
       "      <td>0.0</td>\n",
       "      <td>0.0</td>\n",
       "      <td>0.0</td>\n",
       "      <td>0.0</td>\n",
       "      <td>0.0</td>\n",
       "      <td>0.0</td>\n",
       "      <td>0.0</td>\n",
       "      <td>0.0</td>\n",
       "      <td>0.0</td>\n",
       "      <td>0.0</td>\n",
       "      <td>...</td>\n",
       "      <td>0.0</td>\n",
       "      <td>0.0</td>\n",
       "      <td>0.0</td>\n",
       "      <td>0.0</td>\n",
       "      <td>0.0</td>\n",
       "      <td>0.0</td>\n",
       "      <td>0.0</td>\n",
       "      <td>1.0</td>\n",
       "      <td>0.0</td>\n",
       "      <td>0.0</td>\n",
       "    </tr>\n",
       "    <tr>\n",
       "      <th>249018</th>\n",
       "      <td>0.0</td>\n",
       "      <td>0.0</td>\n",
       "      <td>0.0</td>\n",
       "      <td>0.0</td>\n",
       "      <td>1.0</td>\n",
       "      <td>0.0</td>\n",
       "      <td>0.0</td>\n",
       "      <td>0.0</td>\n",
       "      <td>0.0</td>\n",
       "      <td>0.0</td>\n",
       "      <td>...</td>\n",
       "      <td>0.0</td>\n",
       "      <td>0.0</td>\n",
       "      <td>0.0</td>\n",
       "      <td>1.0</td>\n",
       "      <td>0.0</td>\n",
       "      <td>0.0</td>\n",
       "      <td>0.0</td>\n",
       "      <td>0.0</td>\n",
       "      <td>0.0</td>\n",
       "      <td>0.0</td>\n",
       "    </tr>\n",
       "    <tr>\n",
       "      <th>249019</th>\n",
       "      <td>0.0</td>\n",
       "      <td>0.0</td>\n",
       "      <td>0.0</td>\n",
       "      <td>0.0</td>\n",
       "      <td>0.0</td>\n",
       "      <td>0.0</td>\n",
       "      <td>0.0</td>\n",
       "      <td>0.0</td>\n",
       "      <td>0.0</td>\n",
       "      <td>0.0</td>\n",
       "      <td>...</td>\n",
       "      <td>0.0</td>\n",
       "      <td>0.0</td>\n",
       "      <td>0.0</td>\n",
       "      <td>1.0</td>\n",
       "      <td>0.0</td>\n",
       "      <td>0.0</td>\n",
       "      <td>0.0</td>\n",
       "      <td>0.0</td>\n",
       "      <td>0.0</td>\n",
       "      <td>0.0</td>\n",
       "    </tr>\n",
       "  </tbody>\n",
       "</table>\n",
       "<p>249020 rows × 791 columns</p>\n",
       "</div>"
      ],
      "text/plain": [
       "        0    1    2    3    4    5    6    7    8    9    ...  781  782  783  \\\n",
       "0       0.0  0.0  0.0  0.0  0.0  0.0  0.0  0.0  0.0  0.0  ...  0.0  0.0  0.0   \n",
       "1       0.0  0.0  0.0  0.0  0.0  0.0  0.0  0.0  0.0  0.0  ...  0.0  0.0  0.0   \n",
       "2       0.0  0.0  0.0  0.0  1.0  0.0  0.0  0.0  0.0  0.0  ...  0.0  0.0  0.0   \n",
       "3       0.0  0.0  0.0  0.0  0.0  0.0  0.0  0.0  0.0  0.0  ...  0.0  0.0  0.0   \n",
       "4       0.0  0.0  0.0  0.0  0.0  0.0  0.0  0.0  0.0  0.0  ...  0.0  1.0  0.0   \n",
       "...     ...  ...  ...  ...  ...  ...  ...  ...  ...  ...  ...  ...  ...  ...   \n",
       "249015  0.0  0.0  0.0  0.0  0.0  0.0  0.0  1.0  0.0  0.0  ...  0.0  0.0  0.0   \n",
       "249016  0.0  0.0  0.0  0.0  0.0  0.0  0.0  0.0  0.0  0.0  ...  0.0  0.0  0.0   \n",
       "249017  0.0  0.0  0.0  0.0  0.0  0.0  0.0  0.0  0.0  0.0  ...  0.0  0.0  0.0   \n",
       "249018  0.0  0.0  0.0  0.0  1.0  0.0  0.0  0.0  0.0  0.0  ...  0.0  0.0  0.0   \n",
       "249019  0.0  0.0  0.0  0.0  0.0  0.0  0.0  0.0  0.0  0.0  ...  0.0  0.0  0.0   \n",
       "\n",
       "        784  785  786  787  788  789  790  \n",
       "0       0.0  0.0  0.0  0.0  1.0  0.0  0.0  \n",
       "1       0.0  0.0  0.0  0.0  0.0  0.0  0.0  \n",
       "2       0.0  0.0  0.0  0.0  0.0  0.0  0.0  \n",
       "3       0.0  0.0  0.0  0.0  0.0  0.0  0.0  \n",
       "4       0.0  0.0  0.0  0.0  0.0  0.0  0.0  \n",
       "...     ...  ...  ...  ...  ...  ...  ...  \n",
       "249015  1.0  0.0  0.0  0.0  0.0  0.0  0.0  \n",
       "249016  0.0  0.0  0.0  1.0  0.0  0.0  0.0  \n",
       "249017  0.0  0.0  0.0  0.0  1.0  0.0  0.0  \n",
       "249018  1.0  0.0  0.0  0.0  0.0  0.0  0.0  \n",
       "249019  1.0  0.0  0.0  0.0  0.0  0.0  0.0  \n",
       "\n",
       "[249020 rows x 791 columns]"
      ]
     },
     "execution_count": 59,
     "metadata": {
      "tags": []
     },
     "output_type": "execute_result"
    }
   ],
   "source": [
    "onehot_encoder = OneHotEncoder()\n",
    "\n",
    "train_cat_2_imp_onehot = onehot_encoder.fit_transform(train_cat_2_imp)\n",
    "train_cat_2_imp_onehot = pd.DataFrame(train_cat_2_imp_onehot.toarray())\n",
    "train_cat_2_imp_onehot"
   ]
  },
  {
   "cell_type": "markdown",
   "id": "played-choice",
   "metadata": {
    "id": "played-choice"
   },
   "source": [
    "#### Standard Scaler"
   ]
  },
  {
   "cell_type": "code",
   "execution_count": null,
   "id": "speaking-amino",
   "metadata": {
    "colab": {
     "base_uri": "https://localhost:8080/"
    },
    "id": "speaking-amino",
    "outputId": "075601c5-446b-44e1-c69f-e409c1ea7f34"
   },
   "outputs": [
    {
     "data": {
      "text/html": [
       "<div>\n",
       "<style scoped>\n",
       "    .dataframe tbody tr th:only-of-type {\n",
       "        vertical-align: middle;\n",
       "    }\n",
       "\n",
       "    .dataframe tbody tr th {\n",
       "        vertical-align: top;\n",
       "    }\n",
       "\n",
       "    .dataframe thead th {\n",
       "        text-align: right;\n",
       "    }\n",
       "</style>\n",
       "<table border=\"1\" class=\"dataframe\">\n",
       "  <thead>\n",
       "    <tr style=\"text-align: right;\">\n",
       "      <th></th>\n",
       "      <th>0</th>\n",
       "      <th>1</th>\n",
       "    </tr>\n",
       "  </thead>\n",
       "  <tbody>\n",
       "    <tr>\n",
       "      <th>0</th>\n",
       "      <td>0.736484</td>\n",
       "      <td>1.565364</td>\n",
       "    </tr>\n",
       "    <tr>\n",
       "      <th>1</th>\n",
       "      <td>-0.030599</td>\n",
       "      <td>-0.508721</td>\n",
       "    </tr>\n",
       "    <tr>\n",
       "      <th>2</th>\n",
       "      <td>-0.030599</td>\n",
       "      <td>-0.865857</td>\n",
       "    </tr>\n",
       "    <tr>\n",
       "      <th>3</th>\n",
       "      <td>0.352943</td>\n",
       "      <td>-0.236082</td>\n",
       "    </tr>\n",
       "    <tr>\n",
       "      <th>4</th>\n",
       "      <td>-0.414140</td>\n",
       "      <td>1.639709</td>\n",
       "    </tr>\n",
       "    <tr>\n",
       "      <th>...</th>\n",
       "      <td>...</td>\n",
       "      <td>...</td>\n",
       "    </tr>\n",
       "    <tr>\n",
       "      <th>249015</th>\n",
       "      <td>0.352943</td>\n",
       "      <td>1.620416</td>\n",
       "    </tr>\n",
       "    <tr>\n",
       "      <th>249016</th>\n",
       "      <td>0.352943</td>\n",
       "      <td>0.597072</td>\n",
       "    </tr>\n",
       "    <tr>\n",
       "      <th>249017</th>\n",
       "      <td>-0.669834</td>\n",
       "      <td>-0.943659</td>\n",
       "    </tr>\n",
       "    <tr>\n",
       "      <th>249018</th>\n",
       "      <td>1.120026</td>\n",
       "      <td>0.187166</td>\n",
       "    </tr>\n",
       "    <tr>\n",
       "      <th>249019</th>\n",
       "      <td>0.736484</td>\n",
       "      <td>-0.236082</td>\n",
       "    </tr>\n",
       "  </tbody>\n",
       "</table>\n",
       "<p>249020 rows × 2 columns</p>\n",
       "</div>"
      ],
      "text/plain": [
       "               0         1\n",
       "0       0.736484  1.565364\n",
       "1      -0.030599 -0.508721\n",
       "2      -0.030599 -0.865857\n",
       "3       0.352943 -0.236082\n",
       "4      -0.414140  1.639709\n",
       "...          ...       ...\n",
       "249015  0.352943  1.620416\n",
       "249016  0.352943  0.597072\n",
       "249017 -0.669834 -0.943659\n",
       "249018  1.120026  0.187166\n",
       "249019  0.736484 -0.236082\n",
       "\n",
       "[249020 rows x 2 columns]"
      ]
     },
     "execution_count": 60,
     "metadata": {
      "tags": []
     },
     "output_type": "execute_result"
    }
   ],
   "source": [
    "train_num_2_imp_standard_1 = StandardScaler().fit_transform(train_num_2_imp)\n",
    "train_num_2_imp_standard_1 = pd.DataFrame(train_num_2_imp_standard_1)\n",
    "train_num_2_imp_standard_1"
   ]
  },
  {
   "cell_type": "markdown",
   "id": "religious-builder",
   "metadata": {
    "id": "religious-builder"
   },
   "source": [
    "#### Concatinating the Dataframes"
   ]
  },
  {
   "cell_type": "code",
   "execution_count": null,
   "id": "athletic-highway",
   "metadata": {
    "id": "athletic-highway",
    "outputId": "2c401151-8327-4fb3-8aa0-2e90183c5235"
   },
   "outputs": [
    {
     "data": {
      "text/plain": [
       "(249020, 793)"
      ]
     },
     "execution_count": 61,
     "metadata": {
      "tags": []
     },
     "output_type": "execute_result"
    }
   ],
   "source": [
    "X_prepared_2 = pd.concat([train_cat_2_imp_onehot, train_num_2_imp_standard_1], axis=1).reindex(train_cat_2_imp_onehot.index)\n",
    "\n",
    "X_prepared_2.shape"
   ]
  },
  {
   "cell_type": "markdown",
   "id": "conscious-science",
   "metadata": {
    "id": "conscious-science"
   },
   "source": [
    "#### Building the Model and Calculating the Scores"
   ]
  },
  {
   "cell_type": "code",
   "execution_count": null,
   "id": "caroline-airline",
   "metadata": {
    "id": "caroline-airline"
   },
   "outputs": [],
   "source": [
    "model_2 = LinearRegression()\n",
    "cv = KFold(n_splits=5, random_state=1, shuffle=True)\n",
    "\n",
    "model_2_error = np.sqrt(-cross_val_score(model_2, X_prepared_2, train_labels_2, cv=cv, scoring='neg_mean_squared_error'))\n",
    "\n",
    "model_2_error_mean = model_2_error.mean()\n",
    "model_2_error_std = model_2_error.std()"
   ]
  },
  {
   "cell_type": "code",
   "execution_count": null,
   "id": "motivated-swiss",
   "metadata": {
    "id": "motivated-swiss",
    "outputId": "643338b7-1d63-406a-c89e-e7e063b68807"
   },
   "outputs": [
    {
     "name": "stdout",
     "output_type": "stream",
     "text": [
      "The RMSE Mean Score is:  5279.685860896797\n",
      "The RMSE Std Value is:  32.77990345159899\n"
     ]
    }
   ],
   "source": [
    "print('The RMSE Mean Score is: ', model_2_error_mean)\n",
    "print('The RMSE Std Value is: ', model_2_error_std)"
   ]
  },
  {
   "cell_type": "markdown",
   "id": "minimal-jenny",
   "metadata": {
    "id": "minimal-jenny"
   },
   "source": [
    "## Trial 3 - One Hot Encoding + MinMax Scaler"
   ]
  },
  {
   "cell_type": "markdown",
   "id": "judicial-generic",
   "metadata": {
    "id": "judicial-generic"
   },
   "source": [
    "#### MinMax Scaler"
   ]
  },
  {
   "cell_type": "code",
   "execution_count": null,
   "id": "reasonable-touch",
   "metadata": {
    "colab": {
     "base_uri": "https://localhost:8080/"
    },
    "id": "reasonable-touch",
    "outputId": "1b469df2-fd98-4307-91a3-83f3d20586d5"
   },
   "outputs": [
    {
     "data": {
      "text/html": [
       "<div>\n",
       "<style scoped>\n",
       "    .dataframe tbody tr th:only-of-type {\n",
       "        vertical-align: middle;\n",
       "    }\n",
       "\n",
       "    .dataframe tbody tr th {\n",
       "        vertical-align: top;\n",
       "    }\n",
       "\n",
       "    .dataframe thead th {\n",
       "        text-align: right;\n",
       "    }\n",
       "</style>\n",
       "<table border=\"1\" class=\"dataframe\">\n",
       "  <thead>\n",
       "    <tr style=\"text-align: right;\">\n",
       "      <th></th>\n",
       "      <th>0</th>\n",
       "      <th>1</th>\n",
       "    </tr>\n",
       "  </thead>\n",
       "  <tbody>\n",
       "    <tr>\n",
       "      <th>0</th>\n",
       "      <td>0.148148</td>\n",
       "      <td>0.723003</td>\n",
       "    </tr>\n",
       "    <tr>\n",
       "      <th>1</th>\n",
       "      <td>0.092593</td>\n",
       "      <td>0.274768</td>\n",
       "    </tr>\n",
       "    <tr>\n",
       "      <th>2</th>\n",
       "      <td>0.092593</td>\n",
       "      <td>0.197587</td>\n",
       "    </tr>\n",
       "    <tr>\n",
       "      <th>3</th>\n",
       "      <td>0.120370</td>\n",
       "      <td>0.333689</td>\n",
       "    </tr>\n",
       "    <tr>\n",
       "      <th>4</th>\n",
       "      <td>0.064815</td>\n",
       "      <td>0.739069</td>\n",
       "    </tr>\n",
       "    <tr>\n",
       "      <th>...</th>\n",
       "      <td>...</td>\n",
       "      <td>...</td>\n",
       "    </tr>\n",
       "    <tr>\n",
       "      <th>249015</th>\n",
       "      <td>0.120370</td>\n",
       "      <td>0.734900</td>\n",
       "    </tr>\n",
       "    <tr>\n",
       "      <th>249016</th>\n",
       "      <td>0.120370</td>\n",
       "      <td>0.513743</td>\n",
       "    </tr>\n",
       "    <tr>\n",
       "      <th>249017</th>\n",
       "      <td>0.046296</td>\n",
       "      <td>0.180773</td>\n",
       "    </tr>\n",
       "    <tr>\n",
       "      <th>249018</th>\n",
       "      <td>0.175926</td>\n",
       "      <td>0.425158</td>\n",
       "    </tr>\n",
       "    <tr>\n",
       "      <th>249019</th>\n",
       "      <td>0.148148</td>\n",
       "      <td>0.333689</td>\n",
       "    </tr>\n",
       "  </tbody>\n",
       "</table>\n",
       "<p>249020 rows × 2 columns</p>\n",
       "</div>"
      ],
      "text/plain": [
       "               0         1\n",
       "0       0.148148  0.723003\n",
       "1       0.092593  0.274768\n",
       "2       0.092593  0.197587\n",
       "3       0.120370  0.333689\n",
       "4       0.064815  0.739069\n",
       "...          ...       ...\n",
       "249015  0.120370  0.734900\n",
       "249016  0.120370  0.513743\n",
       "249017  0.046296  0.180773\n",
       "249018  0.175926  0.425158\n",
       "249019  0.148148  0.333689\n",
       "\n",
       "[249020 rows x 2 columns]"
      ]
     },
     "execution_count": 64,
     "metadata": {
      "tags": []
     },
     "output_type": "execute_result"
    }
   ],
   "source": [
    "train_num_2_imp_minmax = MinMaxScaler().fit_transform(train_num_2_imp)\n",
    "train_num_2_imp_minmax = pd.DataFrame(train_num_2_imp_minmax)\n",
    "train_num_2_imp_minmax"
   ]
  },
  {
   "cell_type": "markdown",
   "id": "advised-humidity",
   "metadata": {
    "id": "advised-humidity"
   },
   "source": [
    "#### Concatinating the Dataframes"
   ]
  },
  {
   "cell_type": "code",
   "execution_count": null,
   "id": "lasting-sister",
   "metadata": {
    "colab": {
     "base_uri": "https://localhost:8080/"
    },
    "id": "lasting-sister",
    "outputId": "37a3942e-ed90-4baa-d7cc-bf70ecc93f1b"
   },
   "outputs": [
    {
     "data": {
      "text/plain": [
       "(249020, 793)"
      ]
     },
     "execution_count": 65,
     "metadata": {
      "tags": []
     },
     "output_type": "execute_result"
    }
   ],
   "source": [
    "X_prepared_3 = pd.concat([train_cat_2_imp_onehot, train_num_2_imp_minmax], axis=1).reindex(train_cat_2_imp_onehot.index)\n",
    "\n",
    "X_prepared_3.shape"
   ]
  },
  {
   "cell_type": "markdown",
   "id": "variable-virtue",
   "metadata": {
    "id": "variable-virtue"
   },
   "source": [
    "#### Building the Model and Calculating the Scores"
   ]
  },
  {
   "cell_type": "code",
   "execution_count": null,
   "id": "improving-investment",
   "metadata": {
    "id": "improving-investment"
   },
   "outputs": [],
   "source": [
    "model_3 = LinearRegression()\n",
    "cv = KFold(n_splits=5, random_state=1, shuffle=True)\n",
    "\n",
    "model_3_error = np.sqrt(-cross_val_score(model_3, X_prepared_3, train_labels_2, cv=cv, scoring='neg_mean_squared_error'))\n",
    "\n",
    "model_3_error_mean = model_3_error.mean()\n",
    "model_3_error_std = model_3_error.std()"
   ]
  },
  {
   "cell_type": "code",
   "execution_count": null,
   "id": "cutting-crawford",
   "metadata": {
    "colab": {
     "base_uri": "https://localhost:8080/"
    },
    "id": "cutting-crawford",
    "outputId": "02cf4720-a000-4ec4-98bb-d089c491ee0a"
   },
   "outputs": [
    {
     "name": "stdout",
     "output_type": "stream",
     "text": [
      "The RMSE Mean Score is:  5279.708265126048\n",
      "The RMSE Std Value is:  32.79031245194095\n"
     ]
    }
   ],
   "source": [
    "print('The RMSE Mean Score is: ', model_3_error_mean)\n",
    "print('The RMSE Std Value is: ', model_3_error_std)"
   ]
  },
  {
   "cell_type": "markdown",
   "id": "treated-sailing",
   "metadata": {
    "id": "treated-sailing"
   },
   "source": [
    "## Trial 4 - One Hot Encoding + Normalizer"
   ]
  },
  {
   "cell_type": "markdown",
   "id": "accepted-group",
   "metadata": {
    "id": "accepted-group"
   },
   "source": [
    "#### Normalizer"
   ]
  },
  {
   "cell_type": "code",
   "execution_count": null,
   "id": "protected-leone",
   "metadata": {
    "colab": {
     "base_uri": "https://localhost:8080/"
    },
    "id": "protected-leone",
    "outputId": "ede089dc-b17e-4681-a6ae-d0ad7ba01a18"
   },
   "outputs": [
    {
     "data": {
      "text/html": [
       "<div>\n",
       "<style scoped>\n",
       "    .dataframe tbody tr th:only-of-type {\n",
       "        vertical-align: middle;\n",
       "    }\n",
       "\n",
       "    .dataframe tbody tr th {\n",
       "        vertical-align: top;\n",
       "    }\n",
       "\n",
       "    .dataframe thead th {\n",
       "        text-align: right;\n",
       "    }\n",
       "</style>\n",
       "<table border=\"1\" class=\"dataframe\">\n",
       "  <thead>\n",
       "    <tr style=\"text-align: right;\">\n",
       "      <th></th>\n",
       "      <th>0</th>\n",
       "      <th>1</th>\n",
       "    </tr>\n",
       "  </thead>\n",
       "  <tbody>\n",
       "    <tr>\n",
       "      <th>0</th>\n",
       "      <td>0.000088</td>\n",
       "      <td>1.0</td>\n",
       "    </tr>\n",
       "    <tr>\n",
       "      <th>1</th>\n",
       "      <td>0.000144</td>\n",
       "      <td>1.0</td>\n",
       "    </tr>\n",
       "    <tr>\n",
       "      <th>2</th>\n",
       "      <td>0.000199</td>\n",
       "      <td>1.0</td>\n",
       "    </tr>\n",
       "    <tr>\n",
       "      <th>3</th>\n",
       "      <td>0.000155</td>\n",
       "      <td>1.0</td>\n",
       "    </tr>\n",
       "    <tr>\n",
       "      <th>4</th>\n",
       "      <td>0.000038</td>\n",
       "      <td>1.0</td>\n",
       "    </tr>\n",
       "    <tr>\n",
       "      <th>...</th>\n",
       "      <td>...</td>\n",
       "      <td>...</td>\n",
       "    </tr>\n",
       "    <tr>\n",
       "      <th>249015</th>\n",
       "      <td>0.000071</td>\n",
       "      <td>1.0</td>\n",
       "    </tr>\n",
       "    <tr>\n",
       "      <th>249016</th>\n",
       "      <td>0.000101</td>\n",
       "      <td>1.0</td>\n",
       "    </tr>\n",
       "    <tr>\n",
       "      <th>249017</th>\n",
       "      <td>0.000109</td>\n",
       "      <td>1.0</td>\n",
       "    </tr>\n",
       "    <tr>\n",
       "      <th>249018</th>\n",
       "      <td>0.000178</td>\n",
       "      <td>1.0</td>\n",
       "    </tr>\n",
       "    <tr>\n",
       "      <th>249019</th>\n",
       "      <td>0.000190</td>\n",
       "      <td>1.0</td>\n",
       "    </tr>\n",
       "  </tbody>\n",
       "</table>\n",
       "<p>249020 rows × 2 columns</p>\n",
       "</div>"
      ],
      "text/plain": [
       "               0    1\n",
       "0       0.000088  1.0\n",
       "1       0.000144  1.0\n",
       "2       0.000199  1.0\n",
       "3       0.000155  1.0\n",
       "4       0.000038  1.0\n",
       "...          ...  ...\n",
       "249015  0.000071  1.0\n",
       "249016  0.000101  1.0\n",
       "249017  0.000109  1.0\n",
       "249018  0.000178  1.0\n",
       "249019  0.000190  1.0\n",
       "\n",
       "[249020 rows x 2 columns]"
      ]
     },
     "execution_count": 68,
     "metadata": {
      "tags": []
     },
     "output_type": "execute_result"
    }
   ],
   "source": [
    "train_num_2_imp_normalizer = Normalizer().fit_transform(train_num_2_imp)\n",
    "train_num_2_imp_normalizer = pd.DataFrame(train_num_2_imp_normalizer)\n",
    "train_num_2_imp_normalizer"
   ]
  },
  {
   "cell_type": "markdown",
   "id": "environmental-yacht",
   "metadata": {
    "id": "environmental-yacht"
   },
   "source": [
    "#### Concatinating the Dataframes"
   ]
  },
  {
   "cell_type": "code",
   "execution_count": null,
   "id": "democratic-arthritis",
   "metadata": {
    "colab": {
     "base_uri": "https://localhost:8080/"
    },
    "id": "democratic-arthritis",
    "outputId": "60c35219-d047-45ba-b054-cc8d03ec73bd"
   },
   "outputs": [
    {
     "data": {
      "text/plain": [
       "(249020, 793)"
      ]
     },
     "execution_count": 69,
     "metadata": {
      "tags": []
     },
     "output_type": "execute_result"
    }
   ],
   "source": [
    "X_prepared_4 = pd.concat([train_cat_2_imp_onehot, train_num_2_imp_normalizer], axis=1).reindex(train_cat_2_imp_onehot.index)\n",
    "\n",
    "X_prepared_4.shape"
   ]
  },
  {
   "cell_type": "markdown",
   "id": "published-recommendation",
   "metadata": {
    "id": "published-recommendation"
   },
   "source": [
    "#### Building the Model and Calculating the Scores"
   ]
  },
  {
   "cell_type": "code",
   "execution_count": null,
   "id": "accomplished-committee",
   "metadata": {
    "id": "accomplished-committee"
   },
   "outputs": [],
   "source": [
    "model_4 = LinearRegression()\n",
    "cv = KFold(n_splits=5, random_state=1, shuffle=True)\n",
    "\n",
    "model_4_error = np.sqrt(-cross_val_score(model_4, X_prepared_4, train_labels_2, cv=cv, scoring='neg_mean_squared_error'))\n",
    "\n",
    "model_4_error_mean = model_4_error.mean()\n",
    "model_4_error_std = model_4_error.std()"
   ]
  },
  {
   "cell_type": "code",
   "execution_count": null,
   "id": "metric-ideal",
   "metadata": {
    "colab": {
     "base_uri": "https://localhost:8080/"
    },
    "id": "metric-ideal",
    "outputId": "3ee6c067-23d8-41b9-a7f0-8158c9d3e4cf"
   },
   "outputs": [
    {
     "name": "stdout",
     "output_type": "stream",
     "text": [
      "The RMSE Mean Score is:  7413.386117502378\n",
      "The RMSE Std Value is:  24.694611964548375\n"
     ]
    }
   ],
   "source": [
    "print('The RMSE Mean Score is: ', model_4_error_mean)\n",
    "print('The RMSE Std Value is: ', model_4_error_std)"
   ]
  },
  {
   "cell_type": "markdown",
   "id": "threatened-department",
   "metadata": {
    "id": "threatened-department"
   },
   "source": [
    "## Trial 5 - One Hot Encoding + Robust Scaler"
   ]
  },
  {
   "cell_type": "markdown",
   "id": "wanted-college",
   "metadata": {
    "id": "wanted-college"
   },
   "source": [
    "#### Robust Scaler"
   ]
  },
  {
   "cell_type": "code",
   "execution_count": null,
   "id": "pressed-category",
   "metadata": {
    "colab": {
     "base_uri": "https://localhost:8080/"
    },
    "id": "pressed-category",
    "outputId": "2685c222-434b-4c48-f285-c102b49c209a"
   },
   "outputs": [
    {
     "data": {
      "text/html": [
       "<div>\n",
       "<style scoped>\n",
       "    .dataframe tbody tr th:only-of-type {\n",
       "        vertical-align: middle;\n",
       "    }\n",
       "\n",
       "    .dataframe tbody tr th {\n",
       "        vertical-align: top;\n",
       "    }\n",
       "\n",
       "    .dataframe thead th {\n",
       "        text-align: right;\n",
       "    }\n",
       "</style>\n",
       "<table border=\"1\" class=\"dataframe\">\n",
       "  <thead>\n",
       "    <tr style=\"text-align: right;\">\n",
       "      <th></th>\n",
       "      <th>0</th>\n",
       "      <th>1</th>\n",
       "    </tr>\n",
       "  </thead>\n",
       "  <tbody>\n",
       "    <tr>\n",
       "      <th>0</th>\n",
       "      <td>0.875</td>\n",
       "      <td>1.101089</td>\n",
       "    </tr>\n",
       "    <tr>\n",
       "      <th>1</th>\n",
       "      <td>0.125</td>\n",
       "      <td>-0.334340</td>\n",
       "    </tr>\n",
       "    <tr>\n",
       "      <th>2</th>\n",
       "      <td>0.125</td>\n",
       "      <td>-0.581506</td>\n",
       "    </tr>\n",
       "    <tr>\n",
       "      <th>3</th>\n",
       "      <td>0.500</td>\n",
       "      <td>-0.145652</td>\n",
       "    </tr>\n",
       "    <tr>\n",
       "      <th>4</th>\n",
       "      <td>-0.250</td>\n",
       "      <td>1.152541</td>\n",
       "    </tr>\n",
       "    <tr>\n",
       "      <th>...</th>\n",
       "      <td>...</td>\n",
       "      <td>...</td>\n",
       "    </tr>\n",
       "    <tr>\n",
       "      <th>249015</th>\n",
       "      <td>0.500</td>\n",
       "      <td>1.139189</td>\n",
       "    </tr>\n",
       "    <tr>\n",
       "      <th>249016</th>\n",
       "      <td>0.500</td>\n",
       "      <td>0.430955</td>\n",
       "    </tr>\n",
       "    <tr>\n",
       "      <th>249017</th>\n",
       "      <td>-0.500</td>\n",
       "      <td>-0.635351</td>\n",
       "    </tr>\n",
       "    <tr>\n",
       "      <th>249018</th>\n",
       "      <td>1.250</td>\n",
       "      <td>0.147268</td>\n",
       "    </tr>\n",
       "    <tr>\n",
       "      <th>249019</th>\n",
       "      <td>0.875</td>\n",
       "      <td>-0.145652</td>\n",
       "    </tr>\n",
       "  </tbody>\n",
       "</table>\n",
       "<p>249020 rows × 2 columns</p>\n",
       "</div>"
      ],
      "text/plain": [
       "            0         1\n",
       "0       0.875  1.101089\n",
       "1       0.125 -0.334340\n",
       "2       0.125 -0.581506\n",
       "3       0.500 -0.145652\n",
       "4      -0.250  1.152541\n",
       "...       ...       ...\n",
       "249015  0.500  1.139189\n",
       "249016  0.500  0.430955\n",
       "249017 -0.500 -0.635351\n",
       "249018  1.250  0.147268\n",
       "249019  0.875 -0.145652\n",
       "\n",
       "[249020 rows x 2 columns]"
      ]
     },
     "execution_count": 72,
     "metadata": {
      "tags": []
     },
     "output_type": "execute_result"
    }
   ],
   "source": [
    "train_num_2_imp_robust = RobustScaler(quantile_range=(25, 75)).fit_transform(train_num_2_imp)\n",
    "train_num_2_imp_robust = pd.DataFrame(train_num_2_imp_robust)\n",
    "train_num_2_imp_robust"
   ]
  },
  {
   "cell_type": "markdown",
   "id": "european-shopping",
   "metadata": {
    "id": "european-shopping"
   },
   "source": [
    "#### Concatinating the Dataframes"
   ]
  },
  {
   "cell_type": "code",
   "execution_count": null,
   "id": "alone-optimum",
   "metadata": {
    "colab": {
     "base_uri": "https://localhost:8080/"
    },
    "id": "alone-optimum",
    "outputId": "5097e714-fdf2-47b8-d34f-d199519b63e2"
   },
   "outputs": [
    {
     "data": {
      "text/plain": [
       "(249020, 793)"
      ]
     },
     "execution_count": 73,
     "metadata": {
      "tags": []
     },
     "output_type": "execute_result"
    }
   ],
   "source": [
    "X_prepared_5 = pd.concat([train_cat_2_imp_onehot, train_num_2_imp_robust], axis=1).reindex(train_cat_2_imp_onehot.index)\n",
    "\n",
    "X_prepared_5.shape"
   ]
  },
  {
   "cell_type": "markdown",
   "id": "anonymous-devil",
   "metadata": {
    "id": "anonymous-devil"
   },
   "source": [
    "#### Building the Model and Calculating the Scores"
   ]
  },
  {
   "cell_type": "code",
   "execution_count": null,
   "id": "choice-archives",
   "metadata": {
    "id": "choice-archives"
   },
   "outputs": [],
   "source": [
    "model_5 = LinearRegression()\n",
    "cv = KFold(n_splits=5, random_state=1, shuffle=True)\n",
    "\n",
    "model_5_error = np.sqrt(-cross_val_score(model_5, X_prepared_5, train_labels_2, cv=cv, scoring='neg_mean_squared_error'))\n",
    "\n",
    "model_5_error_mean = model_5_error.mean()\n",
    "model_5_error_std = model_5_error.std()"
   ]
  },
  {
   "cell_type": "code",
   "execution_count": null,
   "id": "equivalent-contribution",
   "metadata": {
    "colab": {
     "base_uri": "https://localhost:8080/"
    },
    "id": "equivalent-contribution",
    "outputId": "4176413d-1131-46d9-d5e4-9177d5f13bdc"
   },
   "outputs": [
    {
     "name": "stdout",
     "output_type": "stream",
     "text": [
      "The RMSE Mean Score is:  5279.691098842777\n",
      "The RMSE Std Value is:  32.783160694318696\n"
     ]
    }
   ],
   "source": [
    "print('The RMSE Mean Score is: ', model_5_error_mean)\n",
    "print('The RMSE Std Value is: ', model_5_error_std)"
   ]
  },
  {
   "cell_type": "markdown",
   "id": "grave-oxygen",
   "metadata": {
    "id": "grave-oxygen"
   },
   "source": [
    "## Trial 6 - One Hot Encoding + Power Transformer"
   ]
  },
  {
   "cell_type": "markdown",
   "id": "attractive-charger",
   "metadata": {
    "id": "attractive-charger"
   },
   "source": [
    "#### Power Transformer"
   ]
  },
  {
   "cell_type": "code",
   "execution_count": null,
   "id": "magnetic-indianapolis",
   "metadata": {
    "colab": {
     "base_uri": "https://localhost:8080/"
    },
    "id": "magnetic-indianapolis",
    "outputId": "effa63fe-2a70-43d5-d6fe-a5bd5b41d996"
   },
   "outputs": [
    {
     "data": {
      "text/html": [
       "<div>\n",
       "<style scoped>\n",
       "    .dataframe tbody tr th:only-of-type {\n",
       "        vertical-align: middle;\n",
       "    }\n",
       "\n",
       "    .dataframe tbody tr th {\n",
       "        vertical-align: top;\n",
       "    }\n",
       "\n",
       "    .dataframe thead th {\n",
       "        text-align: right;\n",
       "    }\n",
       "</style>\n",
       "<table border=\"1\" class=\"dataframe\">\n",
       "  <thead>\n",
       "    <tr style=\"text-align: right;\">\n",
       "      <th></th>\n",
       "      <th>0</th>\n",
       "      <th>1</th>\n",
       "    </tr>\n",
       "  </thead>\n",
       "  <tbody>\n",
       "    <tr>\n",
       "      <th>0</th>\n",
       "      <td>0.995739</td>\n",
       "      <td>1.436005</td>\n",
       "    </tr>\n",
       "    <tr>\n",
       "      <th>1</th>\n",
       "      <td>0.264332</td>\n",
       "      <td>-0.405079</td>\n",
       "    </tr>\n",
       "    <tr>\n",
       "      <th>2</th>\n",
       "      <td>0.264332</td>\n",
       "      <td>-0.808968</td>\n",
       "    </tr>\n",
       "    <tr>\n",
       "      <th>3</th>\n",
       "      <td>0.669362</td>\n",
       "      <td>-0.122731</td>\n",
       "    </tr>\n",
       "    <tr>\n",
       "      <th>4</th>\n",
       "      <td>-0.269892</td>\n",
       "      <td>1.492882</td>\n",
       "    </tr>\n",
       "    <tr>\n",
       "      <th>...</th>\n",
       "      <td>...</td>\n",
       "      <td>...</td>\n",
       "    </tr>\n",
       "    <tr>\n",
       "      <th>249015</th>\n",
       "      <td>0.669362</td>\n",
       "      <td>1.478164</td>\n",
       "    </tr>\n",
       "    <tr>\n",
       "      <th>249016</th>\n",
       "      <td>0.669362</td>\n",
       "      <td>0.649373</td>\n",
       "    </tr>\n",
       "    <tr>\n",
       "      <th>249017</th>\n",
       "      <td>-0.751892</td>\n",
       "      <td>-0.903695</td>\n",
       "    </tr>\n",
       "    <tr>\n",
       "      <th>249018</th>\n",
       "      <td>1.269134</td>\n",
       "      <td>0.283719</td>\n",
       "    </tr>\n",
       "    <tr>\n",
       "      <th>249019</th>\n",
       "      <td>0.995739</td>\n",
       "      <td>-0.122731</td>\n",
       "    </tr>\n",
       "  </tbody>\n",
       "</table>\n",
       "<p>249020 rows × 2 columns</p>\n",
       "</div>"
      ],
      "text/plain": [
       "               0         1\n",
       "0       0.995739  1.436005\n",
       "1       0.264332 -0.405079\n",
       "2       0.264332 -0.808968\n",
       "3       0.669362 -0.122731\n",
       "4      -0.269892  1.492882\n",
       "...          ...       ...\n",
       "249015  0.669362  1.478164\n",
       "249016  0.669362  0.649373\n",
       "249017 -0.751892 -0.903695\n",
       "249018  1.269134  0.283719\n",
       "249019  0.995739 -0.122731\n",
       "\n",
       "[249020 rows x 2 columns]"
      ]
     },
     "execution_count": 76,
     "metadata": {
      "tags": []
     },
     "output_type": "execute_result"
    }
   ],
   "source": [
    "train_num_2_imp_power = PowerTransformer(method='yeo-johnson').fit_transform(train_num_2_imp)\n",
    "train_num_2_imp_power = pd.DataFrame(train_num_2_imp_power)\n",
    "train_num_2_imp_power"
   ]
  },
  {
   "cell_type": "markdown",
   "id": "awful-citizenship",
   "metadata": {
    "id": "awful-citizenship"
   },
   "source": [
    "#### Concatinating the Dataframes"
   ]
  },
  {
   "cell_type": "code",
   "execution_count": null,
   "id": "tutorial-republic",
   "metadata": {
    "colab": {
     "base_uri": "https://localhost:8080/"
    },
    "id": "tutorial-republic",
    "outputId": "d85261b1-8886-4dce-fd73-9c588480e9ea"
   },
   "outputs": [
    {
     "data": {
      "text/plain": [
       "(249020, 793)"
      ]
     },
     "execution_count": 77,
     "metadata": {
      "tags": []
     },
     "output_type": "execute_result"
    }
   ],
   "source": [
    "X_prepared_6 = pd.concat([train_cat_2_imp_onehot, train_num_2_imp_power], axis=1).reindex(train_cat_2_imp_onehot.index)\n",
    "\n",
    "X_prepared_6.shape"
   ]
  },
  {
   "cell_type": "markdown",
   "id": "qualified-carrier",
   "metadata": {
    "id": "qualified-carrier"
   },
   "source": [
    "#### Building the Model and Calculating the Scores"
   ]
  },
  {
   "cell_type": "code",
   "execution_count": null,
   "id": "tested-estate",
   "metadata": {
    "id": "tested-estate"
   },
   "outputs": [],
   "source": [
    "model_6 = LinearRegression()\n",
    "cv = KFold(n_splits=5, random_state=1, shuffle=True)\n",
    "\n",
    "model_6_error = np.sqrt(-cross_val_score(model_6, X_prepared_6, train_labels_2, cv=cv, scoring='neg_mean_squared_error'))\n",
    "\n",
    "model_6_error_mean = model_6_error.mean()\n",
    "model_6_error_std = model_6_error.std()"
   ]
  },
  {
   "cell_type": "code",
   "execution_count": null,
   "id": "prepared-salad",
   "metadata": {
    "colab": {
     "base_uri": "https://localhost:8080/"
    },
    "id": "prepared-salad",
    "outputId": "dec4cd8e-a48c-4a35-85db-c16fd4249213"
   },
   "outputs": [
    {
     "name": "stdout",
     "output_type": "stream",
     "text": [
      "The RMSE Mean Score is:  4627.392696618477\n",
      "The RMSE Std Value is:  21.848611286974105\n"
     ]
    }
   ],
   "source": [
    "print('The RMSE Mean Score is: ', model_6_error_mean)\n",
    "print('The RMSE Std Value is: ', model_6_error_std)"
   ]
  },
  {
   "cell_type": "markdown",
   "id": "spatial-photography",
   "metadata": {
    "id": "spatial-photography"
   },
   "source": [
    "## Trial 7 - Ordinal Encoding + Power Transformer"
   ]
  },
  {
   "cell_type": "markdown",
   "id": "treated-correspondence",
   "metadata": {
    "id": "treated-correspondence"
   },
   "source": [
    "#### Ordinal Encoding"
   ]
  },
  {
   "cell_type": "code",
   "execution_count": null,
   "id": "conservative-pierce",
   "metadata": {
    "colab": {
     "base_uri": "https://localhost:8080/"
    },
    "id": "conservative-pierce",
    "outputId": "298c75c9-ac3f-416a-da9d-e51d569a89da"
   },
   "outputs": [
    {
     "data": {
      "text/html": [
       "<div>\n",
       "<style scoped>\n",
       "    .dataframe tbody tr th:only-of-type {\n",
       "        vertical-align: middle;\n",
       "    }\n",
       "\n",
       "    .dataframe tbody tr th {\n",
       "        vertical-align: top;\n",
       "    }\n",
       "\n",
       "    .dataframe thead th {\n",
       "        text-align: right;\n",
       "    }\n",
       "</style>\n",
       "<table border=\"1\" class=\"dataframe\">\n",
       "  <thead>\n",
       "    <tr style=\"text-align: right;\">\n",
       "      <th></th>\n",
       "      <th>0</th>\n",
       "      <th>1</th>\n",
       "      <th>2</th>\n",
       "      <th>3</th>\n",
       "      <th>4</th>\n",
       "      <th>5</th>\n",
       "      <th>6</th>\n",
       "      <th>7</th>\n",
       "      <th>8</th>\n",
       "    </tr>\n",
       "  </thead>\n",
       "  <tbody>\n",
       "    <tr>\n",
       "      <th>0</th>\n",
       "      <td>23.0</td>\n",
       "      <td>58.0</td>\n",
       "      <td>2.0</td>\n",
       "      <td>6.0</td>\n",
       "      <td>2.0</td>\n",
       "      <td>0.0</td>\n",
       "      <td>2.0</td>\n",
       "      <td>9.0</td>\n",
       "      <td>9.0</td>\n",
       "    </tr>\n",
       "    <tr>\n",
       "      <th>1</th>\n",
       "      <td>35.0</td>\n",
       "      <td>381.0</td>\n",
       "      <td>2.0</td>\n",
       "      <td>3.0</td>\n",
       "      <td>2.0</td>\n",
       "      <td>0.0</td>\n",
       "      <td>0.0</td>\n",
       "      <td>12.0</td>\n",
       "      <td>1.0</td>\n",
       "    </tr>\n",
       "    <tr>\n",
       "      <th>2</th>\n",
       "      <td>4.0</td>\n",
       "      <td>54.0</td>\n",
       "      <td>0.0</td>\n",
       "      <td>5.0</td>\n",
       "      <td>2.0</td>\n",
       "      <td>0.0</td>\n",
       "      <td>2.0</td>\n",
       "      <td>9.0</td>\n",
       "      <td>0.0</td>\n",
       "    </tr>\n",
       "    <tr>\n",
       "      <th>3</th>\n",
       "      <td>29.0</td>\n",
       "      <td>58.0</td>\n",
       "      <td>2.0</td>\n",
       "      <td>6.0</td>\n",
       "      <td>2.0</td>\n",
       "      <td>0.0</td>\n",
       "      <td>2.0</td>\n",
       "      <td>0.0</td>\n",
       "      <td>0.0</td>\n",
       "    </tr>\n",
       "    <tr>\n",
       "      <th>4</th>\n",
       "      <td>12.0</td>\n",
       "      <td>275.0</td>\n",
       "      <td>0.0</td>\n",
       "      <td>6.0</td>\n",
       "      <td>0.0</td>\n",
       "      <td>0.0</td>\n",
       "      <td>0.0</td>\n",
       "      <td>7.0</td>\n",
       "      <td>3.0</td>\n",
       "    </tr>\n",
       "    <tr>\n",
       "      <th>...</th>\n",
       "      <td>...</td>\n",
       "      <td>...</td>\n",
       "      <td>...</td>\n",
       "      <td>...</td>\n",
       "      <td>...</td>\n",
       "      <td>...</td>\n",
       "      <td>...</td>\n",
       "      <td>...</td>\n",
       "      <td>...</td>\n",
       "    </tr>\n",
       "    <tr>\n",
       "      <th>249015</th>\n",
       "      <td>7.0</td>\n",
       "      <td>379.0</td>\n",
       "      <td>2.0</td>\n",
       "      <td>3.0</td>\n",
       "      <td>2.0</td>\n",
       "      <td>0.0</td>\n",
       "      <td>1.0</td>\n",
       "      <td>9.0</td>\n",
       "      <td>5.0</td>\n",
       "    </tr>\n",
       "    <tr>\n",
       "      <th>249016</th>\n",
       "      <td>12.0</td>\n",
       "      <td>490.0</td>\n",
       "      <td>0.0</td>\n",
       "      <td>5.0</td>\n",
       "      <td>2.0</td>\n",
       "      <td>0.0</td>\n",
       "      <td>0.0</td>\n",
       "      <td>10.0</td>\n",
       "      <td>8.0</td>\n",
       "    </tr>\n",
       "    <tr>\n",
       "      <th>249017</th>\n",
       "      <td>17.0</td>\n",
       "      <td>58.0</td>\n",
       "      <td>0.0</td>\n",
       "      <td>5.0</td>\n",
       "      <td>2.0</td>\n",
       "      <td>0.0</td>\n",
       "      <td>0.0</td>\n",
       "      <td>12.0</td>\n",
       "      <td>9.0</td>\n",
       "    </tr>\n",
       "    <tr>\n",
       "      <th>249018</th>\n",
       "      <td>4.0</td>\n",
       "      <td>58.0</td>\n",
       "      <td>0.0</td>\n",
       "      <td>5.0</td>\n",
       "      <td>2.0</td>\n",
       "      <td>0.0</td>\n",
       "      <td>2.0</td>\n",
       "      <td>9.0</td>\n",
       "      <td>5.0</td>\n",
       "    </tr>\n",
       "    <tr>\n",
       "      <th>249019</th>\n",
       "      <td>19.0</td>\n",
       "      <td>404.0</td>\n",
       "      <td>2.0</td>\n",
       "      <td>3.0</td>\n",
       "      <td>2.0</td>\n",
       "      <td>0.0</td>\n",
       "      <td>1.0</td>\n",
       "      <td>0.0</td>\n",
       "      <td>5.0</td>\n",
       "    </tr>\n",
       "  </tbody>\n",
       "</table>\n",
       "<p>249020 rows × 9 columns</p>\n",
       "</div>"
      ],
      "text/plain": [
       "           0      1    2    3    4    5    6     7    8\n",
       "0       23.0   58.0  2.0  6.0  2.0  0.0  2.0   9.0  9.0\n",
       "1       35.0  381.0  2.0  3.0  2.0  0.0  0.0  12.0  1.0\n",
       "2        4.0   54.0  0.0  5.0  2.0  0.0  2.0   9.0  0.0\n",
       "3       29.0   58.0  2.0  6.0  2.0  0.0  2.0   0.0  0.0\n",
       "4       12.0  275.0  0.0  6.0  0.0  0.0  0.0   7.0  3.0\n",
       "...      ...    ...  ...  ...  ...  ...  ...   ...  ...\n",
       "249015   7.0  379.0  2.0  3.0  2.0  0.0  1.0   9.0  5.0\n",
       "249016  12.0  490.0  0.0  5.0  2.0  0.0  0.0  10.0  8.0\n",
       "249017  17.0   58.0  0.0  5.0  2.0  0.0  0.0  12.0  9.0\n",
       "249018   4.0   58.0  0.0  5.0  2.0  0.0  2.0   9.0  5.0\n",
       "249019  19.0  404.0  2.0  3.0  2.0  0.0  1.0   0.0  5.0\n",
       "\n",
       "[249020 rows x 9 columns]"
      ]
     },
     "execution_count": 80,
     "metadata": {
      "tags": []
     },
     "output_type": "execute_result"
    }
   ],
   "source": [
    "ordinal_encoder = OrdinalEncoder()\n",
    "\n",
    "train_cat_3_imp_ordinal = ordinal_encoder.fit_transform(train_cat_2_imp)\n",
    "train_cat_3_imp_ordinal = pd.DataFrame(train_cat_3_imp_ordinal)\n",
    "train_cat_3_imp_ordinal"
   ]
  },
  {
   "cell_type": "markdown",
   "id": "conscious-exclusion",
   "metadata": {
    "id": "conscious-exclusion"
   },
   "source": [
    "#### Power Transformer"
   ]
  },
  {
   "cell_type": "code",
   "execution_count": null,
   "id": "northern-austria",
   "metadata": {
    "colab": {
     "base_uri": "https://localhost:8080/"
    },
    "id": "northern-austria",
    "outputId": "71d1849d-0251-426b-cf1d-e9cf58098561"
   },
   "outputs": [
    {
     "data": {
      "text/html": [
       "<div>\n",
       "<style scoped>\n",
       "    .dataframe tbody tr th:only-of-type {\n",
       "        vertical-align: middle;\n",
       "    }\n",
       "\n",
       "    .dataframe tbody tr th {\n",
       "        vertical-align: top;\n",
       "    }\n",
       "\n",
       "    .dataframe thead th {\n",
       "        text-align: right;\n",
       "    }\n",
       "</style>\n",
       "<table border=\"1\" class=\"dataframe\">\n",
       "  <thead>\n",
       "    <tr style=\"text-align: right;\">\n",
       "      <th></th>\n",
       "      <th>0</th>\n",
       "      <th>1</th>\n",
       "    </tr>\n",
       "  </thead>\n",
       "  <tbody>\n",
       "    <tr>\n",
       "      <th>0</th>\n",
       "      <td>0.995739</td>\n",
       "      <td>1.436005</td>\n",
       "    </tr>\n",
       "    <tr>\n",
       "      <th>1</th>\n",
       "      <td>0.264332</td>\n",
       "      <td>-0.405079</td>\n",
       "    </tr>\n",
       "    <tr>\n",
       "      <th>2</th>\n",
       "      <td>0.264332</td>\n",
       "      <td>-0.808968</td>\n",
       "    </tr>\n",
       "    <tr>\n",
       "      <th>3</th>\n",
       "      <td>0.669362</td>\n",
       "      <td>-0.122731</td>\n",
       "    </tr>\n",
       "    <tr>\n",
       "      <th>4</th>\n",
       "      <td>-0.269892</td>\n",
       "      <td>1.492882</td>\n",
       "    </tr>\n",
       "    <tr>\n",
       "      <th>...</th>\n",
       "      <td>...</td>\n",
       "      <td>...</td>\n",
       "    </tr>\n",
       "    <tr>\n",
       "      <th>249015</th>\n",
       "      <td>0.669362</td>\n",
       "      <td>1.478164</td>\n",
       "    </tr>\n",
       "    <tr>\n",
       "      <th>249016</th>\n",
       "      <td>0.669362</td>\n",
       "      <td>0.649373</td>\n",
       "    </tr>\n",
       "    <tr>\n",
       "      <th>249017</th>\n",
       "      <td>-0.751892</td>\n",
       "      <td>-0.903695</td>\n",
       "    </tr>\n",
       "    <tr>\n",
       "      <th>249018</th>\n",
       "      <td>1.269134</td>\n",
       "      <td>0.283719</td>\n",
       "    </tr>\n",
       "    <tr>\n",
       "      <th>249019</th>\n",
       "      <td>0.995739</td>\n",
       "      <td>-0.122731</td>\n",
       "    </tr>\n",
       "  </tbody>\n",
       "</table>\n",
       "<p>249020 rows × 2 columns</p>\n",
       "</div>"
      ],
      "text/plain": [
       "               0         1\n",
       "0       0.995739  1.436005\n",
       "1       0.264332 -0.405079\n",
       "2       0.264332 -0.808968\n",
       "3       0.669362 -0.122731\n",
       "4      -0.269892  1.492882\n",
       "...          ...       ...\n",
       "249015  0.669362  1.478164\n",
       "249016  0.669362  0.649373\n",
       "249017 -0.751892 -0.903695\n",
       "249018  1.269134  0.283719\n",
       "249019  0.995739 -0.122731\n",
       "\n",
       "[249020 rows x 2 columns]"
      ]
     },
     "execution_count": 81,
     "metadata": {
      "tags": []
     },
     "output_type": "execute_result"
    }
   ],
   "source": [
    "train_num_3_imp_power = PowerTransformer(method='yeo-johnson').fit_transform(train_num_2_imp)\n",
    "train_num_3_imp_power = pd.DataFrame(train_num_3_imp_power)\n",
    "train_num_3_imp_power"
   ]
  },
  {
   "cell_type": "markdown",
   "id": "conscious-hudson",
   "metadata": {
    "id": "conscious-hudson"
   },
   "source": [
    "#### Concatinating the Dataframes"
   ]
  },
  {
   "cell_type": "code",
   "execution_count": null,
   "id": "italic-reproduction",
   "metadata": {
    "colab": {
     "base_uri": "https://localhost:8080/"
    },
    "id": "italic-reproduction",
    "outputId": "f7c0f88e-9288-406b-82c1-8e1d3a0ca158"
   },
   "outputs": [
    {
     "data": {
      "text/plain": [
       "(249020, 11)"
      ]
     },
     "execution_count": 82,
     "metadata": {
      "tags": []
     },
     "output_type": "execute_result"
    }
   ],
   "source": [
    "X_prepared_7 = pd.concat([train_cat_3_imp_ordinal, train_num_3_imp_power], axis=1).reindex(train_cat_3_imp_ordinal.index)\n",
    "\n",
    "X_prepared_7.shape"
   ]
  },
  {
   "cell_type": "markdown",
   "id": "ordered-eagle",
   "metadata": {
    "id": "ordered-eagle"
   },
   "source": [
    "#### Building the Model and Calculating the Scores"
   ]
  },
  {
   "cell_type": "code",
   "execution_count": null,
   "id": "distinct-psychiatry",
   "metadata": {
    "id": "distinct-psychiatry"
   },
   "outputs": [],
   "source": [
    "model_7 = LinearRegression()\n",
    "cv = KFold(n_splits=5, random_state=1, shuffle=True)\n",
    "\n",
    "model_7_error = np.sqrt(-cross_val_score(model_7, X_prepared_7, train_labels_2, cv=cv, scoring='neg_mean_squared_error'))\n",
    "\n",
    "model_7_error_mean = model_7_error.mean()\n",
    "model_7_error_std = model_7_error.std()"
   ]
  },
  {
   "cell_type": "code",
   "execution_count": null,
   "id": "pleased-homework",
   "metadata": {
    "colab": {
     "base_uri": "https://localhost:8080/"
    },
    "id": "pleased-homework",
    "outputId": "4ef62219-dc19-4ba8-8937-8b0e73b8ecd4"
   },
   "outputs": [
    {
     "name": "stdout",
     "output_type": "stream",
     "text": [
      "The RMSE Mean Score is:  6068.555377182156\n",
      "The RMSE Std Value is:  28.707525926112524\n"
     ]
    }
   ],
   "source": [
    "print('The RMSE Mean Score is: ', model_7_error_mean)\n",
    "print('The RMSE Std Value is: ', model_7_error_std)"
   ]
  },
  {
   "cell_type": "markdown",
   "id": "sized-henry",
   "metadata": {
    "id": "sized-henry"
   },
   "source": [
    "## Trial 8 - Get Dummies + Power Transformer"
   ]
  },
  {
   "cell_type": "markdown",
   "id": "expensive-tiffany",
   "metadata": {
    "id": "expensive-tiffany"
   },
   "source": [
    "#### Get Dummies"
   ]
  },
  {
   "cell_type": "code",
   "execution_count": null,
   "id": "latter-player",
   "metadata": {
    "colab": {
     "base_uri": "https://localhost:8080/"
    },
    "id": "latter-player",
    "outputId": "6e1c274c-407b-4621-c324-e9c310829460"
   },
   "outputs": [
    {
     "data": {
      "text/html": [
       "<div>\n",
       "<style scoped>\n",
       "    .dataframe tbody tr th:only-of-type {\n",
       "        vertical-align: middle;\n",
       "    }\n",
       "\n",
       "    .dataframe tbody tr th {\n",
       "        vertical-align: top;\n",
       "    }\n",
       "\n",
       "    .dataframe thead th {\n",
       "        text-align: right;\n",
       "    }\n",
       "</style>\n",
       "<table border=\"1\" class=\"dataframe\">\n",
       "  <thead>\n",
       "    <tr style=\"text-align: right;\">\n",
       "      <th></th>\n",
       "      <th>manufacturer_acura</th>\n",
       "      <th>manufacturer_alfa-romeo</th>\n",
       "      <th>manufacturer_aston-martin</th>\n",
       "      <th>manufacturer_audi</th>\n",
       "      <th>manufacturer_bmw</th>\n",
       "      <th>manufacturer_buick</th>\n",
       "      <th>manufacturer_cadillac</th>\n",
       "      <th>manufacturer_chevrolet</th>\n",
       "      <th>manufacturer_chrysler</th>\n",
       "      <th>manufacturer_datsun</th>\n",
       "      <th>...</th>\n",
       "      <th>paint_color_brown</th>\n",
       "      <th>paint_color_custom</th>\n",
       "      <th>paint_color_green</th>\n",
       "      <th>paint_color_grey</th>\n",
       "      <th>paint_color_orange</th>\n",
       "      <th>paint_color_purple</th>\n",
       "      <th>paint_color_red</th>\n",
       "      <th>paint_color_silver</th>\n",
       "      <th>paint_color_white</th>\n",
       "      <th>paint_color_yellow</th>\n",
       "    </tr>\n",
       "  </thead>\n",
       "  <tbody>\n",
       "    <tr>\n",
       "      <th>0</th>\n",
       "      <td>0</td>\n",
       "      <td>0</td>\n",
       "      <td>0</td>\n",
       "      <td>0</td>\n",
       "      <td>0</td>\n",
       "      <td>0</td>\n",
       "      <td>0</td>\n",
       "      <td>0</td>\n",
       "      <td>0</td>\n",
       "      <td>0</td>\n",
       "      <td>...</td>\n",
       "      <td>0</td>\n",
       "      <td>0</td>\n",
       "      <td>0</td>\n",
       "      <td>0</td>\n",
       "      <td>0</td>\n",
       "      <td>0</td>\n",
       "      <td>0</td>\n",
       "      <td>1</td>\n",
       "      <td>0</td>\n",
       "      <td>0</td>\n",
       "    </tr>\n",
       "    <tr>\n",
       "      <th>1</th>\n",
       "      <td>0</td>\n",
       "      <td>0</td>\n",
       "      <td>0</td>\n",
       "      <td>0</td>\n",
       "      <td>0</td>\n",
       "      <td>0</td>\n",
       "      <td>0</td>\n",
       "      <td>0</td>\n",
       "      <td>0</td>\n",
       "      <td>0</td>\n",
       "      <td>...</td>\n",
       "      <td>0</td>\n",
       "      <td>0</td>\n",
       "      <td>0</td>\n",
       "      <td>0</td>\n",
       "      <td>0</td>\n",
       "      <td>0</td>\n",
       "      <td>0</td>\n",
       "      <td>0</td>\n",
       "      <td>0</td>\n",
       "      <td>0</td>\n",
       "    </tr>\n",
       "    <tr>\n",
       "      <th>2</th>\n",
       "      <td>0</td>\n",
       "      <td>0</td>\n",
       "      <td>0</td>\n",
       "      <td>0</td>\n",
       "      <td>1</td>\n",
       "      <td>0</td>\n",
       "      <td>0</td>\n",
       "      <td>0</td>\n",
       "      <td>0</td>\n",
       "      <td>0</td>\n",
       "      <td>...</td>\n",
       "      <td>0</td>\n",
       "      <td>0</td>\n",
       "      <td>0</td>\n",
       "      <td>0</td>\n",
       "      <td>0</td>\n",
       "      <td>0</td>\n",
       "      <td>0</td>\n",
       "      <td>0</td>\n",
       "      <td>0</td>\n",
       "      <td>0</td>\n",
       "    </tr>\n",
       "    <tr>\n",
       "      <th>3</th>\n",
       "      <td>0</td>\n",
       "      <td>0</td>\n",
       "      <td>0</td>\n",
       "      <td>0</td>\n",
       "      <td>0</td>\n",
       "      <td>0</td>\n",
       "      <td>0</td>\n",
       "      <td>0</td>\n",
       "      <td>0</td>\n",
       "      <td>0</td>\n",
       "      <td>...</td>\n",
       "      <td>0</td>\n",
       "      <td>0</td>\n",
       "      <td>0</td>\n",
       "      <td>0</td>\n",
       "      <td>0</td>\n",
       "      <td>0</td>\n",
       "      <td>0</td>\n",
       "      <td>0</td>\n",
       "      <td>0</td>\n",
       "      <td>0</td>\n",
       "    </tr>\n",
       "    <tr>\n",
       "      <th>4</th>\n",
       "      <td>0</td>\n",
       "      <td>0</td>\n",
       "      <td>0</td>\n",
       "      <td>0</td>\n",
       "      <td>0</td>\n",
       "      <td>0</td>\n",
       "      <td>0</td>\n",
       "      <td>0</td>\n",
       "      <td>0</td>\n",
       "      <td>0</td>\n",
       "      <td>...</td>\n",
       "      <td>0</td>\n",
       "      <td>1</td>\n",
       "      <td>0</td>\n",
       "      <td>0</td>\n",
       "      <td>0</td>\n",
       "      <td>0</td>\n",
       "      <td>0</td>\n",
       "      <td>0</td>\n",
       "      <td>0</td>\n",
       "      <td>0</td>\n",
       "    </tr>\n",
       "    <tr>\n",
       "      <th>...</th>\n",
       "      <td>...</td>\n",
       "      <td>...</td>\n",
       "      <td>...</td>\n",
       "      <td>...</td>\n",
       "      <td>...</td>\n",
       "      <td>...</td>\n",
       "      <td>...</td>\n",
       "      <td>...</td>\n",
       "      <td>...</td>\n",
       "      <td>...</td>\n",
       "      <td>...</td>\n",
       "      <td>...</td>\n",
       "      <td>...</td>\n",
       "      <td>...</td>\n",
       "      <td>...</td>\n",
       "      <td>...</td>\n",
       "      <td>...</td>\n",
       "      <td>...</td>\n",
       "      <td>...</td>\n",
       "      <td>...</td>\n",
       "      <td>...</td>\n",
       "    </tr>\n",
       "    <tr>\n",
       "      <th>249015</th>\n",
       "      <td>0</td>\n",
       "      <td>0</td>\n",
       "      <td>0</td>\n",
       "      <td>0</td>\n",
       "      <td>0</td>\n",
       "      <td>0</td>\n",
       "      <td>0</td>\n",
       "      <td>1</td>\n",
       "      <td>0</td>\n",
       "      <td>0</td>\n",
       "      <td>...</td>\n",
       "      <td>0</td>\n",
       "      <td>0</td>\n",
       "      <td>0</td>\n",
       "      <td>1</td>\n",
       "      <td>0</td>\n",
       "      <td>0</td>\n",
       "      <td>0</td>\n",
       "      <td>0</td>\n",
       "      <td>0</td>\n",
       "      <td>0</td>\n",
       "    </tr>\n",
       "    <tr>\n",
       "      <th>249016</th>\n",
       "      <td>0</td>\n",
       "      <td>0</td>\n",
       "      <td>0</td>\n",
       "      <td>0</td>\n",
       "      <td>0</td>\n",
       "      <td>0</td>\n",
       "      <td>0</td>\n",
       "      <td>0</td>\n",
       "      <td>0</td>\n",
       "      <td>0</td>\n",
       "      <td>...</td>\n",
       "      <td>0</td>\n",
       "      <td>0</td>\n",
       "      <td>0</td>\n",
       "      <td>0</td>\n",
       "      <td>0</td>\n",
       "      <td>0</td>\n",
       "      <td>1</td>\n",
       "      <td>0</td>\n",
       "      <td>0</td>\n",
       "      <td>0</td>\n",
       "    </tr>\n",
       "    <tr>\n",
       "      <th>249017</th>\n",
       "      <td>0</td>\n",
       "      <td>0</td>\n",
       "      <td>0</td>\n",
       "      <td>0</td>\n",
       "      <td>0</td>\n",
       "      <td>0</td>\n",
       "      <td>0</td>\n",
       "      <td>0</td>\n",
       "      <td>0</td>\n",
       "      <td>0</td>\n",
       "      <td>...</td>\n",
       "      <td>0</td>\n",
       "      <td>0</td>\n",
       "      <td>0</td>\n",
       "      <td>0</td>\n",
       "      <td>0</td>\n",
       "      <td>0</td>\n",
       "      <td>0</td>\n",
       "      <td>1</td>\n",
       "      <td>0</td>\n",
       "      <td>0</td>\n",
       "    </tr>\n",
       "    <tr>\n",
       "      <th>249018</th>\n",
       "      <td>0</td>\n",
       "      <td>0</td>\n",
       "      <td>0</td>\n",
       "      <td>0</td>\n",
       "      <td>1</td>\n",
       "      <td>0</td>\n",
       "      <td>0</td>\n",
       "      <td>0</td>\n",
       "      <td>0</td>\n",
       "      <td>0</td>\n",
       "      <td>...</td>\n",
       "      <td>0</td>\n",
       "      <td>0</td>\n",
       "      <td>0</td>\n",
       "      <td>1</td>\n",
       "      <td>0</td>\n",
       "      <td>0</td>\n",
       "      <td>0</td>\n",
       "      <td>0</td>\n",
       "      <td>0</td>\n",
       "      <td>0</td>\n",
       "    </tr>\n",
       "    <tr>\n",
       "      <th>249019</th>\n",
       "      <td>0</td>\n",
       "      <td>0</td>\n",
       "      <td>0</td>\n",
       "      <td>0</td>\n",
       "      <td>0</td>\n",
       "      <td>0</td>\n",
       "      <td>0</td>\n",
       "      <td>0</td>\n",
       "      <td>0</td>\n",
       "      <td>0</td>\n",
       "      <td>...</td>\n",
       "      <td>0</td>\n",
       "      <td>0</td>\n",
       "      <td>0</td>\n",
       "      <td>1</td>\n",
       "      <td>0</td>\n",
       "      <td>0</td>\n",
       "      <td>0</td>\n",
       "      <td>0</td>\n",
       "      <td>0</td>\n",
       "      <td>0</td>\n",
       "    </tr>\n",
       "  </tbody>\n",
       "</table>\n",
       "<p>249020 rows × 791 columns</p>\n",
       "</div>"
      ],
      "text/plain": [
       "        manufacturer_acura  manufacturer_alfa-romeo  \\\n",
       "0                        0                        0   \n",
       "1                        0                        0   \n",
       "2                        0                        0   \n",
       "3                        0                        0   \n",
       "4                        0                        0   \n",
       "...                    ...                      ...   \n",
       "249015                   0                        0   \n",
       "249016                   0                        0   \n",
       "249017                   0                        0   \n",
       "249018                   0                        0   \n",
       "249019                   0                        0   \n",
       "\n",
       "        manufacturer_aston-martin  manufacturer_audi  manufacturer_bmw  \\\n",
       "0                               0                  0                 0   \n",
       "1                               0                  0                 0   \n",
       "2                               0                  0                 1   \n",
       "3                               0                  0                 0   \n",
       "4                               0                  0                 0   \n",
       "...                           ...                ...               ...   \n",
       "249015                          0                  0                 0   \n",
       "249016                          0                  0                 0   \n",
       "249017                          0                  0                 0   \n",
       "249018                          0                  0                 1   \n",
       "249019                          0                  0                 0   \n",
       "\n",
       "        manufacturer_buick  manufacturer_cadillac  manufacturer_chevrolet  \\\n",
       "0                        0                      0                       0   \n",
       "1                        0                      0                       0   \n",
       "2                        0                      0                       0   \n",
       "3                        0                      0                       0   \n",
       "4                        0                      0                       0   \n",
       "...                    ...                    ...                     ...   \n",
       "249015                   0                      0                       1   \n",
       "249016                   0                      0                       0   \n",
       "249017                   0                      0                       0   \n",
       "249018                   0                      0                       0   \n",
       "249019                   0                      0                       0   \n",
       "\n",
       "        manufacturer_chrysler  manufacturer_datsun  ...  paint_color_brown  \\\n",
       "0                           0                    0  ...                  0   \n",
       "1                           0                    0  ...                  0   \n",
       "2                           0                    0  ...                  0   \n",
       "3                           0                    0  ...                  0   \n",
       "4                           0                    0  ...                  0   \n",
       "...                       ...                  ...  ...                ...   \n",
       "249015                      0                    0  ...                  0   \n",
       "249016                      0                    0  ...                  0   \n",
       "249017                      0                    0  ...                  0   \n",
       "249018                      0                    0  ...                  0   \n",
       "249019                      0                    0  ...                  0   \n",
       "\n",
       "        paint_color_custom  paint_color_green  paint_color_grey  \\\n",
       "0                        0                  0                 0   \n",
       "1                        0                  0                 0   \n",
       "2                        0                  0                 0   \n",
       "3                        0                  0                 0   \n",
       "4                        1                  0                 0   \n",
       "...                    ...                ...               ...   \n",
       "249015                   0                  0                 1   \n",
       "249016                   0                  0                 0   \n",
       "249017                   0                  0                 0   \n",
       "249018                   0                  0                 1   \n",
       "249019                   0                  0                 1   \n",
       "\n",
       "        paint_color_orange  paint_color_purple  paint_color_red  \\\n",
       "0                        0                   0                0   \n",
       "1                        0                   0                0   \n",
       "2                        0                   0                0   \n",
       "3                        0                   0                0   \n",
       "4                        0                   0                0   \n",
       "...                    ...                 ...              ...   \n",
       "249015                   0                   0                0   \n",
       "249016                   0                   0                1   \n",
       "249017                   0                   0                0   \n",
       "249018                   0                   0                0   \n",
       "249019                   0                   0                0   \n",
       "\n",
       "        paint_color_silver  paint_color_white  paint_color_yellow  \n",
       "0                        1                  0                   0  \n",
       "1                        0                  0                   0  \n",
       "2                        0                  0                   0  \n",
       "3                        0                  0                   0  \n",
       "4                        0                  0                   0  \n",
       "...                    ...                ...                 ...  \n",
       "249015                   0                  0                   0  \n",
       "249016                   0                  0                   0  \n",
       "249017                   1                  0                   0  \n",
       "249018                   0                  0                   0  \n",
       "249019                   0                  0                   0  \n",
       "\n",
       "[249020 rows x 791 columns]"
      ]
     },
     "execution_count": 85,
     "metadata": {
      "tags": []
     },
     "output_type": "execute_result"
    }
   ],
   "source": [
    "train_cat_3_dummies = pd.get_dummies(train_cat_2_imp).reset_index()\n",
    "train_cat_3_dummies.drop(\"index\", axis =1 , inplace= True)\n",
    "\n",
    "train_cat_3_dummies"
   ]
  },
  {
   "cell_type": "markdown",
   "id": "grateful-patient",
   "metadata": {
    "id": "grateful-patient"
   },
   "source": [
    "#### Power Transformer"
   ]
  },
  {
   "cell_type": "code",
   "execution_count": null,
   "id": "banner-custody",
   "metadata": {
    "colab": {
     "base_uri": "https://localhost:8080/"
    },
    "id": "banner-custody",
    "outputId": "d03dcb03-0c75-4a66-ee7f-a6d6dc7d8861"
   },
   "outputs": [
    {
     "data": {
      "text/html": [
       "<div>\n",
       "<style scoped>\n",
       "    .dataframe tbody tr th:only-of-type {\n",
       "        vertical-align: middle;\n",
       "    }\n",
       "\n",
       "    .dataframe tbody tr th {\n",
       "        vertical-align: top;\n",
       "    }\n",
       "\n",
       "    .dataframe thead th {\n",
       "        text-align: right;\n",
       "    }\n",
       "</style>\n",
       "<table border=\"1\" class=\"dataframe\">\n",
       "  <thead>\n",
       "    <tr style=\"text-align: right;\">\n",
       "      <th></th>\n",
       "      <th>0</th>\n",
       "      <th>1</th>\n",
       "    </tr>\n",
       "  </thead>\n",
       "  <tbody>\n",
       "    <tr>\n",
       "      <th>0</th>\n",
       "      <td>0.995739</td>\n",
       "      <td>1.436005</td>\n",
       "    </tr>\n",
       "    <tr>\n",
       "      <th>1</th>\n",
       "      <td>0.264332</td>\n",
       "      <td>-0.405079</td>\n",
       "    </tr>\n",
       "    <tr>\n",
       "      <th>2</th>\n",
       "      <td>0.264332</td>\n",
       "      <td>-0.808968</td>\n",
       "    </tr>\n",
       "    <tr>\n",
       "      <th>3</th>\n",
       "      <td>0.669362</td>\n",
       "      <td>-0.122731</td>\n",
       "    </tr>\n",
       "    <tr>\n",
       "      <th>4</th>\n",
       "      <td>-0.269892</td>\n",
       "      <td>1.492882</td>\n",
       "    </tr>\n",
       "    <tr>\n",
       "      <th>...</th>\n",
       "      <td>...</td>\n",
       "      <td>...</td>\n",
       "    </tr>\n",
       "    <tr>\n",
       "      <th>249015</th>\n",
       "      <td>0.669362</td>\n",
       "      <td>1.478164</td>\n",
       "    </tr>\n",
       "    <tr>\n",
       "      <th>249016</th>\n",
       "      <td>0.669362</td>\n",
       "      <td>0.649373</td>\n",
       "    </tr>\n",
       "    <tr>\n",
       "      <th>249017</th>\n",
       "      <td>-0.751892</td>\n",
       "      <td>-0.903695</td>\n",
       "    </tr>\n",
       "    <tr>\n",
       "      <th>249018</th>\n",
       "      <td>1.269134</td>\n",
       "      <td>0.283719</td>\n",
       "    </tr>\n",
       "    <tr>\n",
       "      <th>249019</th>\n",
       "      <td>0.995739</td>\n",
       "      <td>-0.122731</td>\n",
       "    </tr>\n",
       "  </tbody>\n",
       "</table>\n",
       "<p>249020 rows × 2 columns</p>\n",
       "</div>"
      ],
      "text/plain": [
       "               0         1\n",
       "0       0.995739  1.436005\n",
       "1       0.264332 -0.405079\n",
       "2       0.264332 -0.808968\n",
       "3       0.669362 -0.122731\n",
       "4      -0.269892  1.492882\n",
       "...          ...       ...\n",
       "249015  0.669362  1.478164\n",
       "249016  0.669362  0.649373\n",
       "249017 -0.751892 -0.903695\n",
       "249018  1.269134  0.283719\n",
       "249019  0.995739 -0.122731\n",
       "\n",
       "[249020 rows x 2 columns]"
      ]
     },
     "execution_count": 86,
     "metadata": {
      "tags": []
     },
     "output_type": "execute_result"
    }
   ],
   "source": [
    "train_num_3_imp_power = PowerTransformer(method='yeo-johnson').fit_transform(train_num_2_imp)\n",
    "train_num_3_imp_power = pd.DataFrame(train_num_3_imp_power)\n",
    "train_num_3_imp_power"
   ]
  },
  {
   "cell_type": "markdown",
   "id": "early-boutique",
   "metadata": {
    "id": "early-boutique"
   },
   "source": [
    "#### Concatinating the Dataframes"
   ]
  },
  {
   "cell_type": "code",
   "execution_count": null,
   "id": "recreational-giant",
   "metadata": {
    "colab": {
     "base_uri": "https://localhost:8080/"
    },
    "id": "recreational-giant",
    "outputId": "ae5bda9c-2b9f-47d4-c563-e2e5b4895cf5"
   },
   "outputs": [
    {
     "data": {
      "text/plain": [
       "(249020, 793)"
      ]
     },
     "execution_count": 87,
     "metadata": {
      "tags": []
     },
     "output_type": "execute_result"
    }
   ],
   "source": [
    "X_prepared_8 = pd.concat([train_cat_3_dummies, train_num_3_imp_power], axis=1).reindex(train_cat_3_dummies.index)\n",
    "\n",
    "X_prepared_8.shape"
   ]
  },
  {
   "cell_type": "markdown",
   "id": "narrow-excitement",
   "metadata": {
    "id": "narrow-excitement"
   },
   "source": [
    "#### Building the Model and Calculating the Scores"
   ]
  },
  {
   "cell_type": "code",
   "execution_count": null,
   "id": "owned-armor",
   "metadata": {
    "id": "owned-armor"
   },
   "outputs": [],
   "source": [
    "model_8 = LinearRegression()\n",
    "cv = KFold(n_splits=5, random_state=1, shuffle=True)\n",
    "\n",
    "model_8_error = np.sqrt(-cross_val_score(model_8, X_prepared_8, train_labels_2, cv=cv, scoring='neg_mean_squared_error'))\n",
    "\n",
    "model_8_error_mean = model_8_error.mean()\n",
    "model_8_error_std = model_8_error.std()"
   ]
  },
  {
   "cell_type": "code",
   "execution_count": null,
   "id": "postal-richmond",
   "metadata": {
    "colab": {
     "base_uri": "https://localhost:8080/"
    },
    "id": "postal-richmond",
    "outputId": "bc5d43ff-8448-4b33-e0fb-054f039725c3"
   },
   "outputs": [
    {
     "name": "stdout",
     "output_type": "stream",
     "text": [
      "The RMSE Mean Score is:  4627.392696618477\n",
      "The RMSE Std Value is:  21.848611286974105\n"
     ]
    }
   ],
   "source": [
    "print('The RMSE Mean Score is: ', model_8_error_mean)\n",
    "print('The RMSE Std Value is: ', model_8_error_std)"
   ]
  },
  {
   "cell_type": "markdown",
   "id": "isolated-schema",
   "metadata": {
    "id": "isolated-schema"
   },
   "source": [
    "## Scores"
   ]
  },
  {
   "cell_type": "code",
   "execution_count": null,
   "id": "constitutional-kinase",
   "metadata": {
    "id": "constitutional-kinase",
    "outputId": "1083e200-8e81-4177-acd8-acca37ce926c"
   },
   "outputs": [
    {
     "data": {
      "text/html": [
       "<div>\n",
       "<style scoped>\n",
       "    .dataframe tbody tr th:only-of-type {\n",
       "        vertical-align: middle;\n",
       "    }\n",
       "\n",
       "    .dataframe tbody tr th {\n",
       "        vertical-align: top;\n",
       "    }\n",
       "\n",
       "    .dataframe thead th {\n",
       "        text-align: right;\n",
       "    }\n",
       "</style>\n",
       "<table border=\"1\" class=\"dataframe\">\n",
       "  <thead>\n",
       "    <tr style=\"text-align: right;\">\n",
       "      <th></th>\n",
       "      <th>Preprocessing + Feature Engineering</th>\n",
       "      <th>Mean RMSE</th>\n",
       "      <th>Std RMSE</th>\n",
       "    </tr>\n",
       "  </thead>\n",
       "  <tbody>\n",
       "    <tr>\n",
       "      <th>0</th>\n",
       "      <td>Ordinal Encoding + Standard Scaler</td>\n",
       "      <td>6596.213550</td>\n",
       "      <td>36.593948</td>\n",
       "    </tr>\n",
       "    <tr>\n",
       "      <th>1</th>\n",
       "      <td>One Hot Encoding + Standard Scaler</td>\n",
       "      <td>5279.685861</td>\n",
       "      <td>32.779903</td>\n",
       "    </tr>\n",
       "    <tr>\n",
       "      <th>2</th>\n",
       "      <td>One Hot Encoding + MinMax Scaler</td>\n",
       "      <td>5279.708265</td>\n",
       "      <td>32.790312</td>\n",
       "    </tr>\n",
       "    <tr>\n",
       "      <th>3</th>\n",
       "      <td>One Hot Encoding + Normalizer</td>\n",
       "      <td>7413.386118</td>\n",
       "      <td>24.694612</td>\n",
       "    </tr>\n",
       "    <tr>\n",
       "      <th>4</th>\n",
       "      <td>One Hot Encoding + Robust Scaler</td>\n",
       "      <td>5279.691099</td>\n",
       "      <td>32.783161</td>\n",
       "    </tr>\n",
       "    <tr>\n",
       "      <th>5</th>\n",
       "      <td>One Hot Encoding + Power Transformer</td>\n",
       "      <td>4627.392697</td>\n",
       "      <td>21.848611</td>\n",
       "    </tr>\n",
       "    <tr>\n",
       "      <th>6</th>\n",
       "      <td>Ordinal Encoding + Power Transformer</td>\n",
       "      <td>6068.555377</td>\n",
       "      <td>28.707526</td>\n",
       "    </tr>\n",
       "    <tr>\n",
       "      <th>7</th>\n",
       "      <td>Get Dummies + Power Transformer</td>\n",
       "      <td>4627.392697</td>\n",
       "      <td>21.848611</td>\n",
       "    </tr>\n",
       "  </tbody>\n",
       "</table>\n",
       "</div>"
      ],
      "text/plain": [
       "    Preprocessing + Feature Engineering    Mean RMSE   Std RMSE\n",
       "0    Ordinal Encoding + Standard Scaler  6596.213550  36.593948\n",
       "1    One Hot Encoding + Standard Scaler  5279.685861  32.779903\n",
       "2      One Hot Encoding + MinMax Scaler  5279.708265  32.790312\n",
       "3         One Hot Encoding + Normalizer  7413.386118  24.694612\n",
       "4      One Hot Encoding + Robust Scaler  5279.691099  32.783161\n",
       "5  One Hot Encoding + Power Transformer  4627.392697  21.848611\n",
       "6  Ordinal Encoding + Power Transformer  6068.555377  28.707526\n",
       "7       Get Dummies + Power Transformer  4627.392697  21.848611"
      ]
     },
     "execution_count": 90,
     "metadata": {
      "tags": []
     },
     "output_type": "execute_result"
    }
   ],
   "source": [
    "Scores = pd.DataFrame([ ['Ordinal Encoding + Standard Scaler', model_1_error_mean, model_1_error_std,],\n",
    "                  ['One Hot Encoding + Standard Scaler', model_2_error_mean, model_2_error_std,],\n",
    "                  ['One Hot Encoding + MinMax Scaler', model_3_error_mean, model_3_error_std,],\n",
    "                  ['One Hot Encoding + Normalizer', model_4_error_mean, model_4_error_std,],\n",
    "                  ['One Hot Encoding + Robust Scaler', model_5_error_mean, model_5_error_std,],\n",
    "                  ['One Hot Encoding + Power Transformer', model_6_error_mean, model_6_error_std,],\n",
    "                  ['Ordinal Encoding + Power Transformer', model_7_error_mean, model_7_error_std,],\n",
    "                  ['Get Dummies + Power Transformer', model_8_error_mean, model_8_error_std,]],\n",
    "              \n",
    "                  columns=['Preprocessing + Feature Engineering', 'Mean RMSE', 'Std RMSE'])\n",
    "\n",
    "Scores"
   ]
  },
  {
   "cell_type": "markdown",
   "id": "planned-savannah",
   "metadata": {
    "id": "planned-savannah"
   },
   "source": [
    "Dummy Encoding + Power Transformer had the best RMSE score. Continuing forward, we will drop the model variable due to the very high computational expense."
   ]
  },
  {
   "cell_type": "markdown",
   "id": "maritime-embassy",
   "metadata": {},
   "source": [
    "As for the most important set of features, the features with the highest impact on the model are the age, odometer, and cylinders. It is obvious that the age of the car has the greatest predictive power among all the features. As the age of the car increases, the price of the car decreases. "
   ]
  },
  {
   "cell_type": "markdown",
   "id": "smart-cream",
   "metadata": {},
   "source": [
    "The 'Model' of the car variable has nearly about 25,000 unique values which makes it impossible to OneHot encode all of them. The Ram of my computer wasn't able to handle 25,000 dummy rows. So, as a solution, i decided to take only 700 unique values which was the maximum number of features the Ram could handle and map the other values to 'Others'. This way the number of dummy rows decreased from 25,000 to 700."
   ]
  },
  {
   "cell_type": "markdown",
   "id": "lined-budapest",
   "metadata": {
    "id": "lined-budapest"
   },
   "source": [
    "# 3. Model Optimization and Selection"
   ]
  },
  {
   "cell_type": "markdown",
   "id": "tracked-sharing",
   "metadata": {
    "id": "tracked-sharing"
   },
   "source": [
    "### Preprocessing"
   ]
  },
  {
   "cell_type": "code",
   "execution_count": null,
   "id": "orange-rubber",
   "metadata": {
    "id": "orange-rubber"
   },
   "outputs": [],
   "source": [
    "train_num_final = train_num_2_imp  \n",
    "train_cat_2_imp.drop('model', axis=1, inplace=True)\n",
    "train_cat_final = train_cat_2_imp"
   ]
  },
  {
   "cell_type": "code",
   "execution_count": null,
   "id": "shaped-fight",
   "metadata": {
    "id": "shaped-fight"
   },
   "outputs": [],
   "source": [
    "dummy_encoding = pd.get_dummies(train_cat_final).reset_index()\n",
    "dummy_encoding.drop(\"index\", axis =1 , inplace= True)"
   ]
  },
  {
   "cell_type": "code",
   "execution_count": null,
   "id": "defensive-lafayette",
   "metadata": {
    "id": "defensive-lafayette"
   },
   "outputs": [],
   "source": [
    "power_transformer = PowerTransformer(method='yeo-johnson').fit_transform(train_num_final)\n",
    "power_transformer = pd.DataFrame(power_transformer)"
   ]
  },
  {
   "cell_type": "code",
   "execution_count": null,
   "id": "scenic-computer",
   "metadata": {
    "colab": {
     "base_uri": "https://localhost:8080/"
    },
    "id": "scenic-computer",
    "outputId": "12de44ed-46a1-4360-fd2c-e17418b58a22"
   },
   "outputs": [
    {
     "data": {
      "text/plain": [
       "((249020, 92), (249020,))"
      ]
     },
     "execution_count": 25,
     "metadata": {
      "tags": []
     },
     "output_type": "execute_result"
    }
   ],
   "source": [
    "X_final = pd.concat([dummy_encoding, power_transformer], axis=1).reindex(dummy_encoding.index)\n",
    "y_final = train_labels_2\n",
    "\n",
    "X_final.shape, y_final.shape"
   ]
  },
  {
   "cell_type": "markdown",
   "id": "linear-romania",
   "metadata": {
    "id": "linear-romania"
   },
   "source": [
    "### Hyperparameter Tuning"
   ]
  },
  {
   "cell_type": "markdown",
   "id": "realistic-footwear",
   "metadata": {
    "id": "realistic-footwear"
   },
   "source": [
    "#### Support Vector Regressor"
   ]
  },
  {
   "cell_type": "code",
   "execution_count": null,
   "id": "dental-boutique",
   "metadata": {
    "id": "dental-boutique",
    "scrolled": false
   },
   "outputs": [],
   "source": [
    "param_grid_svr = {'C': [0.0001, 0.001, 0.1, 1, 10, 100], \n",
    "                  'gamma': ['scale', 'auto'],\n",
    "                  'kernel': ['linear','poly','rbf', 'sigmoid']} \n",
    "       \n",
    "grid_svr = GridSearchCV(estimator = SVR(), param_grid = param_grid_svr, cv = 3, scoring = 'neg_root_mean_squared_error', \n",
    "                        refit = True, verbose = 1) v\n",
    "grid_svr.fit(X_prepared_final, y_labels_final)"
   ]
  },
  {
   "cell_type": "markdown",
   "id": "continuing-marks",
   "metadata": {
    "id": "continuing-marks"
   },
   "source": [
    "#### Decision Tree Regressor"
   ]
  },
  {
   "cell_type": "code",
   "execution_count": null,
   "id": "southern-disposition",
   "metadata": {
    "colab": {
     "base_uri": "https://localhost:8080/",
     "height": 387
    },
    "id": "southern-disposition",
    "outputId": "9fcce9d2-be99-43ad-ca78-6820943aac88"
   },
   "outputs": [
    {
     "name": "stdout",
     "output_type": "stream",
     "text": [
      "Fitting 3 folds for each of 18 candidates, totalling 54 fits\n"
     ]
    },
    {
     "data": {
      "text/plain": [
       "GridSearchCV(cv=3, estimator=DecisionTreeRegressor(), n_jobs=-1,\n",
       "             param_grid={'criterion': ['mse', 'friedman_mse', 'poisson'],\n",
       "                         'max_features': ['auto', 'sqrt', 'log2'],\n",
       "                         'splitter': ['best', 'random']},\n",
       "             scoring='neg_root_mean_squared_error', verbose=2)"
      ]
     },
     "execution_count": 27,
     "metadata": {
      "tags": []
     },
     "output_type": "execute_result"
    }
   ],
   "source": [
    "param_grid_dtr = {'splitter': ['best', 'random'], \n",
    "                  'max_features': ['auto', 'sqrt', 'log2'],\n",
    "                  'criterion': ['mse', 'friedman_mse', 'poisson']} \n",
    "  \n",
    "grid_dtr = GridSearchCV(estimator = DecisionTreeRegressor(), param_grid = param_grid_dtr, cv = 3, scoring = 'neg_root_mean_squared_error', \n",
    "                        refit = True, verbose = 2, n_jobs = -1) \n",
    "grid_dtr.fit(X_final, y_final)"
   ]
  },
  {
   "cell_type": "code",
   "execution_count": null,
   "id": "U2IWFNNUJ8Jc",
   "metadata": {
    "id": "U2IWFNNUJ8Jc",
    "outputId": "b7702494-7677-49ea-bfe1-86adbeba15c3"
   },
   "outputs": [
    {
     "name": "stdout",
     "output_type": "stream",
     "text": [
      "Model Scores: [3943.97007399 3962.49243733 4232.98926939 4442.17609812 4213.74213354\n",
      " 4504.03780555 3954.02269837 3948.40345263 4111.49133458 4427.87724946\n",
      " 4278.61069152 4492.15204435 4496.71047372 4434.74626112 4560.2077938\n",
      " 4599.85114513 4608.86741529 4589.90207557]\n",
      "Model Std Scores: [ 23.31810612  44.77320489  16.86495281  28.60761493 101.55211578\n",
      "  55.23103116  13.10581707  23.66250164  25.25996819  45.98313756\n",
      "   8.84741445  39.69541858  44.96725938  32.81519588  32.12735323\n",
      "   4.71401392  35.06710408  33.07992098]\n"
     ]
    }
   ],
   "source": [
    "print ('Model Scores: %s' % - grid_dtr.cv_results_['mean_test_score'])\n",
    "print ('Model Std Scores: %s' %  grid_dtr.cv_results_['std_test_score'])"
   ]
  },
  {
   "cell_type": "code",
   "execution_count": null,
   "id": "liable-johns",
   "metadata": {
    "id": "liable-johns",
    "outputId": "477bd463-9971-4645-ddbd-1a7e1dde86a0"
   },
   "outputs": [
    {
     "name": "stdout",
     "output_type": "stream",
     "text": [
      "Best Score: 3943.9700739909094\n",
      "Best Std: 23.31810611770923\n",
      "Best Hyperparameters: {'criterion': 'mse', 'max_features': 'auto', 'splitter': 'best'}\n"
     ]
    }
   ],
   "source": [
    "print('Best Score: %s' % -grid_dtr.best_score_)\n",
    "print('Best Std: %s' % grid_dtr.cv_results_['std_test_score'][grid_dtr.best_index_])\n",
    "print('Best Hyperparameters: %s' % grid_dtr.best_params_)"
   ]
  },
  {
   "cell_type": "markdown",
   "id": "approximate-milwaukee",
   "metadata": {
    "id": "approximate-milwaukee"
   },
   "source": [
    "#### Random Forest Regressor Tuning 1"
   ]
  },
  {
   "cell_type": "code",
   "execution_count": null,
   "id": "invalid-butterfly",
   "metadata": {
    "colab": {
     "base_uri": "https://localhost:8080/"
    },
    "id": "invalid-butterfly",
    "outputId": "840dff82-ee52-4f83-a471-5dbac5726006"
   },
   "outputs": [
    {
     "name": "stdout",
     "output_type": "stream",
     "text": [
      "Fitting 3 folds for each of 3 candidates, totalling 9 fits\n"
     ]
    },
    {
     "name": "stderr",
     "output_type": "stream",
     "text": [
      "[Parallel(n_jobs=-1)]: Using backend LokyBackend with 2 concurrent workers.\n",
      "[Parallel(n_jobs=-1)]: Done   9 out of   9 | elapsed: 36.9min finished\n"
     ]
    },
    {
     "data": {
      "text/plain": [
       "GridSearchCV(cv=3, error_score=nan,\n",
       "             estimator=RandomForestRegressor(bootstrap=True, ccp_alpha=0.0,\n",
       "                                             criterion='mse', max_depth=None,\n",
       "                                             max_features='auto',\n",
       "                                             max_leaf_nodes=None,\n",
       "                                             max_samples=None,\n",
       "                                             min_impurity_decrease=0.0,\n",
       "                                             min_impurity_split=None,\n",
       "                                             min_samples_leaf=1,\n",
       "                                             min_samples_split=2,\n",
       "                                             min_weight_fraction_leaf=0.0,\n",
       "                                             n_estimators=100, n_jobs=None,\n",
       "                                             oob_score=False, random_state=None,\n",
       "                                             verbose=0, warm_start=False),\n",
       "             iid='deprecated', n_jobs=-1,\n",
       "             param_grid={'n_estimators': [100, 150, 200]},\n",
       "             pre_dispatch='2*n_jobs', refit=True, return_train_score=False,\n",
       "             scoring='neg_root_mean_squared_error', verbose=2)"
      ]
     },
     "execution_count": 28,
     "metadata": {
      "tags": []
     },
     "output_type": "execute_result"
    }
   ],
   "source": [
    "# param_grid_rfr = {'n_estimators': [100, 200, 300, 400], \n",
    "#                   'criterion': ['mse', 'mae'],\n",
    "#                   'max_features': ['auto', 'sqrt', 'log2']} \n",
    "\n",
    "param_grid_rfr = {'n_estimators': [100, 150, 200]} \n",
    "  \n",
    "grid_rfr = GridSearchCV(estimator = RandomForestRegressor(), param_grid = param_grid_rfr, cv = 3, scoring = 'neg_root_mean_squared_error', \n",
    "                        refit = True, verbose = 2, n_jobs = -1) \n",
    "grid_rfr.fit(X_final, y_final)"
   ]
  },
  {
   "cell_type": "code",
   "execution_count": null,
   "id": "5mhRteBUfesZ",
   "metadata": {
    "colab": {
     "base_uri": "https://localhost:8080/"
    },
    "id": "5mhRteBUfesZ",
    "outputId": "48d6afec-c920-46b9-ff25-bc48d553b0d3"
   },
   "outputs": [
    {
     "name": "stdout",
     "output_type": "stream",
     "text": [
      "Model Scores: [3089.15503706 3080.47809221 3079.4081348 ]\n",
      "Model Std Scores: [17.49500348 19.88466441 15.73360765]\n"
     ]
    }
   ],
   "source": [
    "print ('Model Scores: %s' % - grid_rfr.cv_results_['mean_test_score'])\n",
    "print ('Model Std Scores: %s' %  grid_rfr.cv_results_['std_test_score'])"
   ]
  },
  {
   "cell_type": "code",
   "execution_count": null,
   "id": "n4H1voY8J30U",
   "metadata": {
    "colab": {
     "base_uri": "https://localhost:8080/"
    },
    "id": "n4H1voY8J30U",
    "outputId": "2430bda6-aca0-490e-c049-d7a1ea56afc6"
   },
   "outputs": [
    {
     "name": "stdout",
     "output_type": "stream",
     "text": [
      "Best Score: 3079.4081348022696\n",
      "Best Std: 15.733607645637909\n",
      "Best Hyperparameters: {'n_estimators': 200}\n"
     ]
    }
   ],
   "source": [
    "print('Best Score: %s' % -grid_rfr.best_score_)\n",
    "print('Best Std: %s' % grid_rfr.cv_results_['std_test_score'][grid_rfr.best_index_])\n",
    "print('Best Hyperparameters: %s' % grid_rfr.best_params_)"
   ]
  },
  {
   "cell_type": "markdown",
   "id": "conceptual-shift",
   "metadata": {
    "id": "conceptual-shift"
   },
   "source": [
    "#### Random Forest Regressor Tuning 2"
   ]
  },
  {
   "cell_type": "code",
   "execution_count": null,
   "id": "legitimate-checklist",
   "metadata": {
    "id": "legitimate-checklist",
    "outputId": "4927a4c7-68e7-4c80-95d4-8d3a7da46ef3"
   },
   "outputs": [
    {
     "name": "stdout",
     "output_type": "stream",
     "text": [
      "Fitting 3 folds for each of 3 candidates, totalling 9 fits\n"
     ]
    },
    {
     "data": {
      "text/plain": [
       "GridSearchCV(cv=3, estimator=RandomForestRegressor(), n_jobs=-1,\n",
       "             param_grid={'n_estimators': [250, 300, 350]},\n",
       "             scoring='neg_root_mean_squared_error', verbose=2)"
      ]
     },
     "execution_count": 26,
     "metadata": {
      "tags": []
     },
     "output_type": "execute_result"
    }
   ],
   "source": [
    "param_grid_rfr_1 = {'n_estimators': [250, 300, 350]} \n",
    "  \n",
    "grid_rfr_1 = GridSearchCV(estimator = RandomForestRegressor(), param_grid = param_grid_rfr_1, cv = 3, scoring = 'neg_root_mean_squared_error', \n",
    "                        refit = True, verbose = 2, n_jobs = -1) \n",
    "grid_rfr_1.fit(X_final, y_final)"
   ]
  },
  {
   "cell_type": "code",
   "execution_count": null,
   "id": "coordinated-philadelphia",
   "metadata": {
    "id": "coordinated-philadelphia",
    "outputId": "114999cc-e60d-480f-cc86-4f97c0699a2a"
   },
   "outputs": [
    {
     "name": "stdout",
     "output_type": "stream",
     "text": [
      "Model Scores: [3079.38919844 3076.73516688 3077.52265439]\n",
      "Model Std Scores: [18.17457246 17.54928069 17.92528181]\n"
     ]
    }
   ],
   "source": [
    "print ('Model Scores: %s' % - grid_rfr_1.cv_results_['mean_test_score'])\n",
    "print ('Model Std Scores: %s' %  grid_rfr_1.cv_results_['std_test_score'])"
   ]
  },
  {
   "cell_type": "code",
   "execution_count": null,
   "id": "surprising-import",
   "metadata": {
    "id": "surprising-import",
    "outputId": "bd415571-5e45-471a-8dad-47549b694107"
   },
   "outputs": [
    {
     "name": "stdout",
     "output_type": "stream",
     "text": [
      "Best Score: 3076.7351668777715\n",
      "Best Std: 17.549280691936023\n",
      "Best Hyperparameters: {'n_estimators': 300}\n"
     ]
    }
   ],
   "source": [
    "print('Best Score: %s' % -grid_rfr_1.best_score_)\n",
    "print('Best Std: %s' % grid_rfr_1.cv_results_['std_test_score'][grid_rfr_1.best_index_])\n",
    "print('Best Hyperparameters: %s' % grid_rfr_1.best_params_)"
   ]
  },
  {
   "cell_type": "markdown",
   "id": "welcome-grove",
   "metadata": {
    "id": "welcome-grove"
   },
   "source": [
    "Number of estimators = 300 resulted the best score. With number of estimatores equal 100, the rmse was 3089 while with 300 estimators, the rmse was 3076. Because the difference is negligible, we will go with the 100 estimators to reduce computational expense. "
   ]
  },
  {
   "cell_type": "markdown",
   "id": "solid-cherry",
   "metadata": {
    "id": "solid-cherry"
   },
   "source": [
    "#### Random Forest Regressor Tuning 3"
   ]
  },
  {
   "cell_type": "code",
   "execution_count": null,
   "id": "mental-genealogy",
   "metadata": {
    "id": "mental-genealogy",
    "outputId": "e66f2417-346d-44d3-8ccc-588fa13764a1"
   },
   "outputs": [
    {
     "name": "stdout",
     "output_type": "stream",
     "text": [
      "Fitting 3 folds for each of 7 candidates, totalling 21 fits\n"
     ]
    },
    {
     "data": {
      "text/plain": [
       "GridSearchCV(cv=3, estimator=RandomForestRegressor(), n_jobs=-1,\n",
       "             param_grid={'max_depth': [10, 20, 50, 80, 100, 150, None]},\n",
       "             scoring='neg_root_mean_squared_error', verbose=2)"
      ]
     },
     "execution_count": 26,
     "metadata": {
      "tags": []
     },
     "output_type": "execute_result"
    }
   ],
   "source": [
    "param_grid_rfr_2 = {'max_depth': [10, 20, 50, 80, 100, 150, None]} \n",
    "  \n",
    "grid_rfr_2 = GridSearchCV(estimator = RandomForestRegressor(), param_grid = param_grid_rfr_2, cv = 3, scoring = 'neg_root_mean_squared_error', \n",
    "                        refit = True, verbose = 2, n_jobs = -1) \n",
    "grid_rfr_2.fit(X_final, y_final)"
   ]
  },
  {
   "cell_type": "code",
   "execution_count": null,
   "id": "amended-astrology",
   "metadata": {
    "id": "amended-astrology",
    "outputId": "5450be87-fcad-43b3-e81b-0597b31245f1"
   },
   "outputs": [
    {
     "name": "stdout",
     "output_type": "stream",
     "text": [
      "Model Scores: [4211.6014705  3244.67428902 3087.59863959 3085.05305757 3084.80648408\n",
      " 3087.24065644 3088.97950317]\n",
      "Model Std Scores: [17.2922274  15.83433854 18.04894472 15.09602886 17.43344238 18.72859127\n",
      " 18.71032528]\n"
     ]
    }
   ],
   "source": [
    "print ('Model Scores: %s' % - grid_rfr_2.cv_results_['mean_test_score'])\n",
    "print ('Model Std Scores: %s' %  grid_rfr_2.cv_results_['std_test_score'])"
   ]
  },
  {
   "cell_type": "code",
   "execution_count": null,
   "id": "revised-communications",
   "metadata": {
    "id": "revised-communications",
    "outputId": "e8321698-9dfb-4c94-f900-6a46facdf060"
   },
   "outputs": [
    {
     "name": "stdout",
     "output_type": "stream",
     "text": [
      "Best Score: 3084.806484078055\n",
      "Best Std: 17.43344238037819\n",
      "Best Hyperparameters: {'max_depth': 100}\n"
     ]
    }
   ],
   "source": [
    "print('Best Score: %s' % -grid_rfr_2.best_score_)\n",
    "print('Best Std: %s' % grid_rfr_2.cv_results_['std_test_score'][grid_rfr_2.best_index_])\n",
    "print('Best Hyperparameters: %s' % grid_rfr_2.best_params_)"
   ]
  },
  {
   "cell_type": "code",
   "execution_count": null,
   "id": "split-notion",
   "metadata": {
    "id": "split-notion"
   },
   "outputs": [],
   "source": [
    "filename = 'finalized_model.pkl'\n",
    "pickle.dump(grid_rfr_2, open(filename, 'wb'))"
   ]
  },
  {
   "cell_type": "markdown",
   "id": "approved-dynamics",
   "metadata": {
    "id": "approved-dynamics"
   },
   "source": [
    "#### Gradient Boosting Regressor"
   ]
  },
  {
   "cell_type": "code",
   "execution_count": null,
   "id": "fourth-junction",
   "metadata": {
    "colab": {
     "base_uri": "https://localhost:8080/"
    },
    "id": "fourth-junction",
    "outputId": "a1ec72a3-da6a-4791-acf3-d82f09487b68"
   },
   "outputs": [
    {
     "name": "stdout",
     "output_type": "stream",
     "text": [
      "Fitting 3 folds for each of 9 candidates, totalling 27 fits\n"
     ]
    },
    {
     "name": "stderr",
     "output_type": "stream",
     "text": [
      "[Parallel(n_jobs=-1)]: Using backend LokyBackend with 2 concurrent workers.\n",
      "[Parallel(n_jobs=-1)]: Done  27 out of  27 | elapsed: 34.0min finished\n"
     ]
    },
    {
     "data": {
      "text/plain": [
       "GridSearchCV(cv=3, error_score=nan,\n",
       "             estimator=GradientBoostingRegressor(alpha=0.9, ccp_alpha=0.0,\n",
       "                                                 criterion='friedman_mse',\n",
       "                                                 init=None, learning_rate=0.1,\n",
       "                                                 loss='ls', max_depth=3,\n",
       "                                                 max_features=None,\n",
       "                                                 max_leaf_nodes=None,\n",
       "                                                 min_impurity_decrease=0.0,\n",
       "                                                 min_impurity_split=None,\n",
       "                                                 min_samples_leaf=1,\n",
       "                                                 min_samples_split=2,\n",
       "                                                 min_weight_fraction_leaf=0.0,\n",
       "                                                 n_estimators=100,\n",
       "                                                 n_iter_no_change=None,\n",
       "                                                 presort='deprecated',\n",
       "                                                 random_state=None,\n",
       "                                                 subsample=1.0, tol=0.0001,\n",
       "                                                 validation_fraction=0.1,\n",
       "                                                 verbose=0, warm_start=False),\n",
       "             iid='deprecated', n_jobs=-1,\n",
       "             param_grid={'learning_rate': [0.001, 0.01, 0.1],\n",
       "                         'n_estimators': [100, 200, 300]},\n",
       "             pre_dispatch='2*n_jobs', refit=True, return_train_score=False,\n",
       "             scoring='neg_root_mean_squared_error', verbose=2)"
      ]
     },
     "execution_count": 33,
     "metadata": {
      "tags": []
     },
     "output_type": "execute_result"
    }
   ],
   "source": [
    "# param_grid_gbr = {'n_estimators': [100, 200, 300, 400, 500], \n",
    "#                   'learning_rate': [0.01, 0.001, 0.01, 0.1, 1],\n",
    "#                   'loss': ['ls', 'lad', 'huber', 'quantile']} \n",
    "\n",
    "param_grid_gbr = {'n_estimators': [100, 200, 300], \n",
    "                  'learning_rate': [0.001, 0.01, 0.1]} \n",
    "  \n",
    "grid_gbr = GridSearchCV(estimator = GradientBoostingRegressor(), param_grid = param_grid_gbr, cv = 3, scoring = 'neg_root_mean_squared_error', \n",
    "                        refit = True, verbose = 2, n_jobs = -1) \n",
    "grid_gbr.fit(X_final, y_final)"
   ]
  },
  {
   "cell_type": "code",
   "execution_count": null,
   "id": "_exHVXL4zZZb",
   "metadata": {
    "colab": {
     "base_uri": "https://localhost:8080/"
    },
    "id": "_exHVXL4zZZb",
    "outputId": "11a2e462-8332-4756-fa56-e7e81c6ece15"
   },
   "outputs": [
    {
     "name": "stdout",
     "output_type": "stream",
     "text": [
      "Model Scores: [9437.16852472 8947.5025644  8506.730765   6482.31353597 5367.22419695\n",
      " 4958.03158655 4419.34425572 4244.98057431 4144.9728533 ]\n",
      "Model Std Scores: [ 6.39262461  6.07200124  5.46386036 10.25077998 17.2778195  20.60897109\n",
      " 16.92536728 19.46284388 18.28350569]\n"
     ]
    }
   ],
   "source": [
    "print ('Model Scores: %s' % - grid_gbr.cv_results_['mean_test_score'])\n",
    "print ('Model Std Scores: %s' %  grid_gbr.cv_results_['std_test_score'])"
   ]
  },
  {
   "cell_type": "code",
   "execution_count": null,
   "id": "elect-punch",
   "metadata": {
    "colab": {
     "base_uri": "https://localhost:8080/"
    },
    "id": "elect-punch",
    "outputId": "93072488-1b53-4fa8-cc7d-c3b01c672f86"
   },
   "outputs": [
    {
     "name": "stdout",
     "output_type": "stream",
     "text": [
      "Best Score: 4144.9728532960535\n",
      "Best Std: 18.283505693554538\n",
      "Best Hyperparameters: {'learning_rate': 0.1, 'n_estimators': 300}\n"
     ]
    }
   ],
   "source": [
    "print('Best Score: %s' % -grid_gbr.best_score_)\n",
    "print('Best Std: %s' % grid_gbr.cv_results_['std_test_score'][grid_gbr.best_index_])\n",
    "print('Best Hyperparameters: %s' % grid_gbr.best_params_)"
   ]
  },
  {
   "cell_type": "markdown",
   "id": "environmental-plasma",
   "metadata": {},
   "source": [
    "The best model so far is the Random Forest Regressor algorithm which has 300 estimators, a max_depth of 100, a min_samples_split of 10, and min_samples_leaf of 1. Moving forward, i will be using this model as my best model. However, to reduce computaional expense, i will be using the model with only 100 estimators since the percentage reduction in the RMSE was significantly low between the model with 100 estimators and that with 300 estimators."
   ]
  },
  {
   "cell_type": "markdown",
   "id": "veterinary-medium",
   "metadata": {
    "id": "veterinary-medium"
   },
   "source": [
    "# 4. Feature Selection"
   ]
  },
  {
   "cell_type": "markdown",
   "id": "sticky-headquarters",
   "metadata": {
    "id": "sticky-headquarters"
   },
   "source": [
    "### Features Importance"
   ]
  },
  {
   "cell_type": "markdown",
   "id": "declared-joint",
   "metadata": {
    "id": "declared-joint"
   },
   "source": [
    "Random Foreset seems to have the best RMSE. To reduce computational expense, i will go with the model which has 100 estimatores and a max depth of 100."
   ]
  },
  {
   "cell_type": "code",
   "execution_count": null,
   "id": "desperate-preliminary",
   "metadata": {
    "id": "desperate-preliminary",
    "outputId": "1abf7034-2ca8-4673-a8b3-f221411d01ca"
   },
   "outputs": [
    {
     "data": {
      "text/plain": [
       "array([9.05967044e-04, 1.49402111e-04, 4.20875935e-05, 2.60932827e-03,\n",
       "       2.24069278e-03, 5.15875943e-04, 3.27643841e-03, 4.19228665e-03,\n",
       "       9.26283396e-04, 3.32164125e-05, 2.91515222e-03, 1.45662702e-04,\n",
       "       5.40842867e-03, 1.67302373e-03, 2.54268559e-04, 2.13611461e-03,\n",
       "       5.72349491e-04, 5.07243547e-04, 5.09306819e-04, 4.49033905e-03,\n",
       "       7.89466000e-04, 2.02248646e-05, 3.14527232e-03, 7.64573790e-04,\n",
       "       4.09659513e-04, 3.69567104e-03, 2.55739572e-04, 6.33407923e-04,\n",
       "       5.00076983e-04, 2.14343220e-03, 5.59028721e-04, 2.81733693e-03,\n",
       "       2.69587603e-03, 1.08368745e-03, 2.60581856e-05, 4.04939808e-04,\n",
       "       2.76351826e-03, 7.65182142e-03, 1.16955552e-03, 5.32639944e-04,\n",
       "       4.29728714e-03, 1.84088343e-03, 3.99866300e-03, 1.94961859e-03,\n",
       "       3.64048944e-04, 1.49047845e-04, 1.72300127e-03, 2.97780960e-04,\n",
       "       2.04838599e-04, 3.75343910e-02, 1.25703242e-04, 9.50868179e-03,\n",
       "       2.23773481e-02, 2.03139948e-04, 3.83429296e-02, 3.65027117e-04,\n",
       "       2.48594839e-03, 4.60744142e-04, 1.13452853e-03, 3.29876641e-03,\n",
       "       1.73643749e-03, 1.78691236e-03, 4.47094310e-03, 1.57990280e-01,\n",
       "       3.47534430e-03, 4.52738222e-03, 3.89399844e-04, 1.39421473e-03,\n",
       "       2.32802745e-03, 1.83144419e-03, 5.47841500e-04, 2.94415017e-04,\n",
       "       2.54487150e-03, 4.61668808e-03, 5.20093669e-03, 5.30538640e-03,\n",
       "       4.21590285e-03, 7.05963816e-04, 4.09276148e-03, 2.18351622e-03,\n",
       "       5.83738365e-04, 8.29690824e-04, 7.21139298e-04, 2.18256575e-03,\n",
       "       3.74734775e-04, 8.99551412e-05, 2.50793788e-03, 2.41014256e-03,\n",
       "       4.16126299e-03, 5.09417791e-04, 4.25107727e-01, 1.54655186e-01])"
      ]
     },
     "execution_count": 53,
     "metadata": {
      "tags": []
     },
     "output_type": "execute_result"
    }
   ],
   "source": [
    "importances = grid_rfr_2.best_estimator_.feature_importances_\n",
    "importances"
   ]
  },
  {
   "cell_type": "code",
   "execution_count": null,
   "id": "distinct-vinyl",
   "metadata": {
    "id": "distinct-vinyl",
    "outputId": "77333e68-4e65-4b7a-f2ee-e194a5c48e66"
   },
   "outputs": [
    {
     "data": {
      "text/html": [
       "<div>\n",
       "<style scoped>\n",
       "    .dataframe tbody tr th:only-of-type {\n",
       "        vertical-align: middle;\n",
       "    }\n",
       "\n",
       "    .dataframe tbody tr th {\n",
       "        vertical-align: top;\n",
       "    }\n",
       "\n",
       "    .dataframe thead th {\n",
       "        text-align: right;\n",
       "    }\n",
       "</style>\n",
       "<table border=\"1\" class=\"dataframe\">\n",
       "  <thead>\n",
       "    <tr style=\"text-align: right;\">\n",
       "      <th></th>\n",
       "      <th>Features</th>\n",
       "      <th>Importance</th>\n",
       "    </tr>\n",
       "  </thead>\n",
       "  <tbody>\n",
       "    <tr>\n",
       "      <th>90</th>\n",
       "      <td>age</td>\n",
       "      <td>0.425108</td>\n",
       "    </tr>\n",
       "    <tr>\n",
       "      <th>63</th>\n",
       "      <td>drive_fwd</td>\n",
       "      <td>0.157990</td>\n",
       "    </tr>\n",
       "    <tr>\n",
       "      <th>91</th>\n",
       "      <td>odometer</td>\n",
       "      <td>0.154655</td>\n",
       "    </tr>\n",
       "    <tr>\n",
       "      <th>54</th>\n",
       "      <td>fuel_diesel</td>\n",
       "      <td>0.038343</td>\n",
       "    </tr>\n",
       "    <tr>\n",
       "      <th>49</th>\n",
       "      <td>cylinders_4 cylinders</td>\n",
       "      <td>0.037534</td>\n",
       "    </tr>\n",
       "    <tr>\n",
       "      <th>...</th>\n",
       "      <td>...</td>\n",
       "      <td>...</td>\n",
       "    </tr>\n",
       "    <tr>\n",
       "      <th>85</th>\n",
       "      <td>paint_color_purple</td>\n",
       "      <td>0.000090</td>\n",
       "    </tr>\n",
       "    <tr>\n",
       "      <th>2</th>\n",
       "      <td>manufacturer_aston-martin</td>\n",
       "      <td>0.000042</td>\n",
       "    </tr>\n",
       "    <tr>\n",
       "      <th>9</th>\n",
       "      <td>manufacturer_datsun</td>\n",
       "      <td>0.000033</td>\n",
       "    </tr>\n",
       "    <tr>\n",
       "      <th>34</th>\n",
       "      <td>manufacturer_saturn</td>\n",
       "      <td>0.000026</td>\n",
       "    </tr>\n",
       "    <tr>\n",
       "      <th>21</th>\n",
       "      <td>manufacturer_land rover</td>\n",
       "      <td>0.000020</td>\n",
       "    </tr>\n",
       "  </tbody>\n",
       "</table>\n",
       "<p>92 rows × 2 columns</p>\n",
       "</div>"
      ],
      "text/plain": [
       "                     Features  Importance\n",
       "90                        age    0.425108\n",
       "63                  drive_fwd    0.157990\n",
       "91                   odometer    0.154655\n",
       "54                fuel_diesel    0.038343\n",
       "49      cylinders_4 cylinders    0.037534\n",
       "..                        ...         ...\n",
       "85         paint_color_purple    0.000090\n",
       "2   manufacturer_aston-martin    0.000042\n",
       "9         manufacturer_datsun    0.000033\n",
       "34        manufacturer_saturn    0.000026\n",
       "21    manufacturer_land rover    0.000020\n",
       "\n",
       "[92 rows x 2 columns]"
      ]
     },
     "execution_count": 107,
     "metadata": {
      "tags": []
     },
     "output_type": "execute_result"
    }
   ],
   "source": [
    "X_final.rename(columns={0: 'age', 1: 'odometer'}, inplace=True)\n",
    "features = pd.concat([pd.DataFrame(X_final.columns, columns=[\"Features\"]), \n",
    "                      pd.DataFrame(importances, columns=[\"Importance\"])],join = 'outer', axis = 1)\n",
    "features = features.sort_values(by=[\"Importance\"],ascending=False)\n",
    "features"
   ]
  },
  {
   "cell_type": "code",
   "execution_count": null,
   "id": "limiting-dressing",
   "metadata": {
    "colab": {
     "base_uri": "https://localhost:8080/",
     "height": 359
    },
    "id": "U0QGHBs8Mklw",
    "outputId": "28feb545-8089-474a-c6e8-0ae95a399f99"
   },
   "outputs": [
    {
     "data": {
      "text/html": [
       "<div>\n",
       "<style scoped>\n",
       "    .dataframe tbody tr th:only-of-type {\n",
       "        vertical-align: middle;\n",
       "    }\n",
       "\n",
       "    .dataframe tbody tr th {\n",
       "        vertical-align: top;\n",
       "    }\n",
       "\n",
       "    .dataframe thead th {\n",
       "        text-align: right;\n",
       "    }\n",
       "</style>\n",
       "<table border=\"1\" class=\"dataframe\">\n",
       "  <thead>\n",
       "    <tr style=\"text-align: right;\">\n",
       "      <th></th>\n",
       "      <th>Features</th>\n",
       "      <th>Importance</th>\n",
       "      <th>Feature Count</th>\n",
       "    </tr>\n",
       "  </thead>\n",
       "  <tbody>\n",
       "    <tr>\n",
       "      <th>8</th>\n",
       "      <td>age</td>\n",
       "      <td>0.444911</td>\n",
       "      <td>1</td>\n",
       "    </tr>\n",
       "    <tr>\n",
       "      <th>9</th>\n",
       "      <td>cylinders</td>\n",
       "      <td>0.148758</td>\n",
       "      <td>1</td>\n",
       "    </tr>\n",
       "    <tr>\n",
       "      <th>7</th>\n",
       "      <td>odometer</td>\n",
       "      <td>0.138320</td>\n",
       "      <td>1</td>\n",
       "    </tr>\n",
       "    <tr>\n",
       "      <th>1</th>\n",
       "      <td>drive</td>\n",
       "      <td>0.099338</td>\n",
       "      <td>3</td>\n",
       "    </tr>\n",
       "    <tr>\n",
       "      <th>0</th>\n",
       "      <td>manufacturer</td>\n",
       "      <td>0.063535</td>\n",
       "      <td>40</td>\n",
       "    </tr>\n",
       "    <tr>\n",
       "      <th>3</th>\n",
       "      <td>fuel</td>\n",
       "      <td>0.032567</td>\n",
       "      <td>5</td>\n",
       "    </tr>\n",
       "    <tr>\n",
       "      <th>4</th>\n",
       "      <td>type</td>\n",
       "      <td>0.031409</td>\n",
       "      <td>13</td>\n",
       "    </tr>\n",
       "    <tr>\n",
       "      <th>6</th>\n",
       "      <td>color</td>\n",
       "      <td>0.020907</td>\n",
       "      <td>12</td>\n",
       "    </tr>\n",
       "    <tr>\n",
       "      <th>2</th>\n",
       "      <td>condition</td>\n",
       "      <td>0.012929</td>\n",
       "      <td>6</td>\n",
       "    </tr>\n",
       "    <tr>\n",
       "      <th>5</th>\n",
       "      <td>transmission</td>\n",
       "      <td>0.007325</td>\n",
       "      <td>3</td>\n",
       "    </tr>\n",
       "  </tbody>\n",
       "</table>\n",
       "</div>"
      ],
      "text/plain": [
       "       Features  Importance  Feature Count\n",
       "8           age    0.444911              1\n",
       "9     cylinders    0.148758              1\n",
       "7      odometer    0.138320              1\n",
       "1         drive    0.099338              3\n",
       "0  manufacturer    0.063535             40\n",
       "3          fuel    0.032567              5\n",
       "4          type    0.031409             13\n",
       "6         color    0.020907             12\n",
       "2     condition    0.012929              6\n",
       "5  transmission    0.007325              3"
      ]
     },
     "execution_count": 134,
     "metadata": {
      "tags": []
     },
     "output_type": "execute_result"
    }
   ],
   "source": [
    "feat = [\"manufacturer\",\"drive\",\"condition\",\"fuel\",\"type\",\"transmission\",\"color\",\"odometer\",\"age\",\"cylinders\"]\n",
    "imp = [manuf, drive, cond, fuel, typ, trans, color, odo, age, cyl]\n",
    "count = [manuf_cnt, drive_cnt, cond_cnt, fuel_cnt, typ_cnt, trans_cnt, color_cnt, odo_cnt, age_cnt, cycl_cnt]\n",
    "feature_rank = pd.concat([pd.DataFrame(feat, columns=[\"Features\"]), pd.DataFrame(imp, columns=[\"Importance\"]),\n",
    "                          pd.DataFrame(count, columns=[\"Feature Count\"])],join = 'outer', axis = 1)\n",
    "#feature_rank[\"Importance/Count\"] = feature_rank[\"Importance\"]/feature_rank[\"Feature Count\"]\n",
    "feature_rank = feature_rank.sort_values(by=[\"Importance\"],ascending=False)\n",
    "feature_rank"
   ]
  },
  {
   "cell_type": "markdown",
   "id": "controlling-turkey",
   "metadata": {},
   "source": [
    "It is obvious that Age, Cylinders, and Odometer have the highest feature importance. Transimission, condtion, and color has the lowest importance."
   ]
  },
  {
   "cell_type": "markdown",
   "id": "three-warning",
   "metadata": {
    "id": "three-warning"
   },
   "source": [
    "### Feature ranking with recursive feature elimination"
   ]
  },
  {
   "cell_type": "code",
   "execution_count": null,
   "id": "beautiful-feeling",
   "metadata": {
    "id": "beautiful-feeling",
    "outputId": "16697d91-0e94-4c6e-af8a-7a69ff9291b7",
    "scrolled": false
   },
   "outputs": [
    {
     "name": "stdout",
     "output_type": "stream",
     "text": [
      "Fitting estimator with 92 features.\n",
      "Fitting estimator with 87 features.\n",
      "Fitting estimator with 82 features.\n",
      "Fitting estimator with 77 features.\n",
      "Fitting estimator with 72 features.\n",
      "Fitting estimator with 67 features.\n",
      "Fitting estimator with 62 features.\n",
      "Fitting estimator with 57 features.\n",
      "Fitting estimator with 52 features.\n",
      "Fitting estimator with 47 features.\n",
      "Fitting estimator with 42 features.\n",
      "Fitting estimator with 37 features.\n",
      "Fitting estimator with 32 features.\n",
      "Fitting estimator with 27 features.\n",
      "Fitting estimator with 22 features.\n",
      "Fitting estimator with 17 features.\n",
      "Fitting estimator with 12 features.\n",
      "Fitting estimator with 92 features.\n",
      "Fitting estimator with 87 features.\n",
      "Fitting estimator with 82 features.\n",
      "Fitting estimator with 77 features.\n",
      "Fitting estimator with 72 features.\n",
      "Fitting estimator with 67 features.\n",
      "Fitting estimator with 62 features.\n",
      "Fitting estimator with 57 features.\n",
      "Fitting estimator with 52 features.\n",
      "Fitting estimator with 47 features.\n",
      "Fitting estimator with 42 features.\n",
      "Fitting estimator with 37 features.\n",
      "Fitting estimator with 32 features.\n",
      "Fitting estimator with 27 features.\n",
      "Fitting estimator with 22 features.\n",
      "Fitting estimator with 17 features.\n",
      "Fitting estimator with 12 features.\n",
      "Fitting estimator with 92 features.\n",
      "Fitting estimator with 87 features.\n",
      "Fitting estimator with 82 features.\n",
      "Fitting estimator with 77 features.\n",
      "Fitting estimator with 72 features.\n",
      "Fitting estimator with 67 features.\n",
      "Fitting estimator with 62 features.\n",
      "Fitting estimator with 57 features.\n",
      "Fitting estimator with 52 features.\n",
      "Fitting estimator with 47 features.\n",
      "Fitting estimator with 42 features.\n",
      "Fitting estimator with 37 features.\n",
      "Fitting estimator with 32 features.\n",
      "Fitting estimator with 27 features.\n",
      "Fitting estimator with 22 features.\n",
      "Fitting estimator with 17 features.\n",
      "Fitting estimator with 12 features.\n",
      "Fitting estimator with 92 features.\n"
     ]
    }
   ],
   "source": [
    "selector = RFECV(grid_rfr_2.best_estimator_, step=5, cv=3, scoring = 'neg_root_mean_squared_error', \n",
    "                 min_features_to_select = 10, verbose=2)\n",
    "\n",
    "selector = selector.fit(X_final, y_final)"
   ]
  },
  {
   "cell_type": "markdown",
   "id": "adaptive-species",
   "metadata": {
    "id": "adaptive-species"
   },
   "source": [
    "### Results"
   ]
  },
  {
   "cell_type": "code",
   "execution_count": null,
   "id": "chicken-sending",
   "metadata": {
    "id": "chicken-sending",
    "outputId": "824c7ae0-0c5d-473d-d48e-acfc54cdc91b"
   },
   "outputs": [
    {
     "name": "stdout",
     "output_type": "stream",
     "text": [
      "Optimal number of features : 87\n"
     ]
    }
   ],
   "source": [
    "print(\"Optimal number of features : %d\" % selector.n_features_)"
   ]
  },
  {
   "cell_type": "code",
   "execution_count": null,
   "id": "acknowledged-cabin",
   "metadata": {
    "id": "acknowledged-cabin",
    "outputId": "88db56d2-39f2-4b43-dda5-2909c9b3be31"
   },
   "outputs": [
    {
     "data": {
      "text/html": [
       "<div>\n",
       "<style scoped>\n",
       "    .dataframe tbody tr th:only-of-type {\n",
       "        vertical-align: middle;\n",
       "    }\n",
       "\n",
       "    .dataframe tbody tr th {\n",
       "        vertical-align: top;\n",
       "    }\n",
       "\n",
       "    .dataframe thead th {\n",
       "        text-align: right;\n",
       "    }\n",
       "</style>\n",
       "<table border=\"1\" class=\"dataframe\">\n",
       "  <thead>\n",
       "    <tr style=\"text-align: right;\">\n",
       "      <th></th>\n",
       "      <th>Rank</th>\n",
       "    </tr>\n",
       "  </thead>\n",
       "  <tbody>\n",
       "    <tr>\n",
       "      <th>manufacturer_acura</th>\n",
       "      <td>True</td>\n",
       "    </tr>\n",
       "    <tr>\n",
       "      <th>type_coupe</th>\n",
       "      <td>True</td>\n",
       "    </tr>\n",
       "    <tr>\n",
       "      <th>type_bus</th>\n",
       "      <td>True</td>\n",
       "    </tr>\n",
       "    <tr>\n",
       "      <th>type_SUV</th>\n",
       "      <td>True</td>\n",
       "    </tr>\n",
       "    <tr>\n",
       "      <th>drive_rwd</th>\n",
       "      <td>True</td>\n",
       "    </tr>\n",
       "    <tr>\n",
       "      <th>...</th>\n",
       "      <td>...</td>\n",
       "    </tr>\n",
       "    <tr>\n",
       "      <th>manufacturer_saturn</th>\n",
       "      <td>False</td>\n",
       "    </tr>\n",
       "    <tr>\n",
       "      <th>manufacturer_datsun</th>\n",
       "      <td>False</td>\n",
       "    </tr>\n",
       "    <tr>\n",
       "      <th>paint_color_purple</th>\n",
       "      <td>False</td>\n",
       "    </tr>\n",
       "    <tr>\n",
       "      <th>manufacturer_land rover</th>\n",
       "      <td>False</td>\n",
       "    </tr>\n",
       "    <tr>\n",
       "      <th>manufacturer_aston-martin</th>\n",
       "      <td>False</td>\n",
       "    </tr>\n",
       "  </tbody>\n",
       "</table>\n",
       "<p>92 rows × 1 columns</p>\n",
       "</div>"
      ],
      "text/plain": [
       "                            Rank\n",
       "manufacturer_acura          True\n",
       "type_coupe                  True\n",
       "type_bus                    True\n",
       "type_SUV                    True\n",
       "drive_rwd                   True\n",
       "...                          ...\n",
       "manufacturer_saturn        False\n",
       "manufacturer_datsun        False\n",
       "paint_color_purple         False\n",
       "manufacturer_land rover    False\n",
       "manufacturer_aston-martin  False\n",
       "\n",
       "[92 rows x 1 columns]"
      ]
     },
     "execution_count": 97,
     "metadata": {
      "tags": []
     },
     "output_type": "execute_result"
    }
   ],
   "source": [
    "selected_features = pd.DataFrame(selector.support_,index=X_final.columns,columns=['Rank']).sort_values(by='Rank',ascending=False)\n",
    "selected_features"
   ]
  },
  {
   "cell_type": "code",
   "execution_count": null,
   "id": "bacterial-times",
   "metadata": {
    "id": "bacterial-times",
    "outputId": "4cd7d452-3e6c-4e72-88a3-89f756b24551"
   },
   "outputs": [
    {
     "data": {
      "text/html": [
       "<div>\n",
       "<style scoped>\n",
       "    .dataframe tbody tr th:only-of-type {\n",
       "        vertical-align: middle;\n",
       "    }\n",
       "\n",
       "    .dataframe tbody tr th {\n",
       "        vertical-align: top;\n",
       "    }\n",
       "\n",
       "    .dataframe thead th {\n",
       "        text-align: right;\n",
       "    }\n",
       "</style>\n",
       "<table border=\"1\" class=\"dataframe\">\n",
       "  <thead>\n",
       "    <tr style=\"text-align: right;\">\n",
       "      <th></th>\n",
       "      <th>Rank</th>\n",
       "    </tr>\n",
       "  </thead>\n",
       "  <tbody>\n",
       "    <tr>\n",
       "      <th>manufacturer_acura</th>\n",
       "      <td>1</td>\n",
       "    </tr>\n",
       "    <tr>\n",
       "      <th>type_SUV</th>\n",
       "      <td>1</td>\n",
       "    </tr>\n",
       "    <tr>\n",
       "      <th>drive_rwd</th>\n",
       "      <td>1</td>\n",
       "    </tr>\n",
       "    <tr>\n",
       "      <th>drive_fwd</th>\n",
       "      <td>1</td>\n",
       "    </tr>\n",
       "    <tr>\n",
       "      <th>drive_4wd</th>\n",
       "      <td>1</td>\n",
       "    </tr>\n",
       "    <tr>\n",
       "      <th>...</th>\n",
       "      <td>...</td>\n",
       "    </tr>\n",
       "    <tr>\n",
       "      <th>manufacturer_saturn</th>\n",
       "      <td>2</td>\n",
       "    </tr>\n",
       "    <tr>\n",
       "      <th>manufacturer_datsun</th>\n",
       "      <td>2</td>\n",
       "    </tr>\n",
       "    <tr>\n",
       "      <th>paint_color_purple</th>\n",
       "      <td>2</td>\n",
       "    </tr>\n",
       "    <tr>\n",
       "      <th>manufacturer_aston-martin</th>\n",
       "      <td>2</td>\n",
       "    </tr>\n",
       "    <tr>\n",
       "      <th>manufacturer_land rover</th>\n",
       "      <td>2</td>\n",
       "    </tr>\n",
       "  </tbody>\n",
       "</table>\n",
       "<p>92 rows × 1 columns</p>\n",
       "</div>"
      ],
      "text/plain": [
       "                           Rank\n",
       "manufacturer_acura            1\n",
       "type_SUV                      1\n",
       "drive_rwd                     1\n",
       "drive_fwd                     1\n",
       "drive_4wd                     1\n",
       "...                         ...\n",
       "manufacturer_saturn           2\n",
       "manufacturer_datsun           2\n",
       "paint_color_purple            2\n",
       "manufacturer_aston-martin     2\n",
       "manufacturer_land rover       2\n",
       "\n",
       "[92 rows x 1 columns]"
      ]
     },
     "execution_count": 95,
     "metadata": {
      "tags": []
     },
     "output_type": "execute_result"
    }
   ],
   "source": [
    "ranked_features = pd.DataFrame(selector.ranking_,index=X_final.columns,columns=['Rank']).sort_values(by='Rank',ascending=True)\n",
    "ranked_features"
   ]
  },
  {
   "cell_type": "code",
   "execution_count": null,
   "id": "polished-sodium",
   "metadata": {
    "id": "polished-sodium",
    "outputId": "be994e7a-4cb4-47bc-d6fe-77f1847907b6"
   },
   "outputs": [
    {
     "data": {
      "text/plain": [
       "array([-3921.64874905, -3786.95870398, -3550.62209106, -3428.91362794,\n",
       "       -3380.25769998, -3320.36508833, -3244.37744313, -3187.48006424,\n",
       "       -3174.78914892, -3150.94620779, -3128.65643035, -3118.7461678 ,\n",
       "       -3105.1465742 , -3097.85351112, -3092.12850813, -3089.51158797,\n",
       "       -3086.21522378, -3089.33730049])"
      ]
     },
     "execution_count": 102,
     "metadata": {
      "tags": []
     },
     "output_type": "execute_result"
    }
   ],
   "source": [
    "selector.grid_scores_"
   ]
  },
  {
   "cell_type": "code",
   "execution_count": null,
   "id": "exceptional-strength",
   "metadata": {
    "id": "exceptional-strength",
    "outputId": "ee5f4085-2261-4dc9-e94b-bcf96155e4ec"
   },
   "outputs": [
    {
     "data": {
      "image/png": "[encoded data removed]",
      "text/plain": [
       "<Figure size 864x432 with 1 Axes>"
      ]
     },
     "metadata": {
      "needs_background": "light",
      "tags": []
     },
     "output_type": "display_data"
    }
   ],
   "source": [
    "plt.figure(figsize=(12,6))\n",
    "plt.xlabel('Number of features selected')\n",
    "plt.ylabel('Cross validation score (nb of correct classifications)')\n",
    "plt.plot(range(1, len(selector.grid_scores_) + 1), selector.grid_scores_, color = 'purple')\n",
    "\n",
    "\n",
    "plt.show()"
   ]
  },
  {
   "cell_type": "markdown",
   "id": "metropolitan-batch",
   "metadata": {
    "id": "metropolitan-batch"
   },
   "source": [
    "### Trying Different Feature Sets"
   ]
  },
  {
   "cell_type": "markdown",
   "id": "diverse-thursday",
   "metadata": {},
   "source": [
    "#### Dropping the Paint_Color Variables"
   ]
  },
  {
   "cell_type": "code",
   "execution_count": 37,
   "id": "needed-operator",
   "metadata": {
    "id": "needed-operator"
   },
   "outputs": [
    {
     "name": "stdout",
     "output_type": "stream",
     "text": [
      "mean:  3088.8084311280754\n",
      "standard deviation:  38.66580880743209\n"
     ]
    }
   ],
   "source": [
    "cols = [c for c in X_final.columns if c.lower()[:5] != 'paint']\n",
    "X_final_no_paint = X_final[cols]\n",
    "\n",
    "\n",
    "rfr_scores = cross_val_score(grid_rfr_2.best_estimator_, X_final_no_paint, y_final, cv=4, scoring = 'neg_root_mean_squared_error')\n",
    "\n",
    "rmse_rfr_scores_no_paint = -rfr_scores.mean()\n",
    "rmse_rfr_std_no_paint = rfr_scores.std()\n",
    "\n",
    "print(\"mean: \", rmse_rfr_scores_no_paint)\n",
    "print(\"standard deviation: \", rmse_rfr_std_no_paint)"
   ]
  },
  {
   "cell_type": "markdown",
   "id": "prescribed-treasure",
   "metadata": {},
   "source": [
    "#### Dropping the Manufacturer Variables"
   ]
  },
  {
   "cell_type": "code",
   "execution_count": 38,
   "id": "expensive-manitoba",
   "metadata": {
    "id": "needed-operator"
   },
   "outputs": [
    {
     "name": "stdout",
     "output_type": "stream",
     "text": [
      "mean:  3497.886724220154\n",
      "standard deviation:  33.561821354155484\n"
     ]
    }
   ],
   "source": [
    "cols = [c for c in X_final.columns if c.lower()[:5] != 'manuf']\n",
    "X_final_no_manuf = X_final[cols]\n",
    "\n",
    "\n",
    "rfr_scores = cross_val_score(grid_rfr_2.best_estimator_, X_final_no_manuf, y_final, cv=4, scoring = 'neg_root_mean_squared_error')\n",
    "\n",
    "rmse_rfr_scores_no_manuf = -rfr_scores.mean()\n",
    "rmse_rfr_std_no_manuf = rfr_scores.std()\n",
    "\n",
    "print(\"mean: \", rmse_rfr_scores_no_manuf)\n",
    "print(\"standard deviation: \", rmse_rfr_std_no_manuf)"
   ]
  },
  {
   "cell_type": "markdown",
   "id": "alike-finger",
   "metadata": {},
   "source": [
    "#### Dropping the Drive Variables"
   ]
  },
  {
   "cell_type": "code",
   "execution_count": 45,
   "id": "efficient-firmware",
   "metadata": {
    "id": "needed-operator"
   },
   "outputs": [
    {
     "name": "stdout",
     "output_type": "stream",
     "text": [
      "mean:  3291.367792531527\n",
      "standard deviation:  40.00553587753734\n"
     ]
    }
   ],
   "source": [
    "cols = [c for c in X_final.columns if c.lower()[:5] != 'drive']\n",
    "X_final_no_drive = X_final[cols]\n",
    "\n",
    "\n",
    "rfr_scores = cross_val_score(grid_rfr_2.best_estimator_, X_final_no_drive, y_final, cv=2, n_jobs=-1, scoring = 'neg_root_mean_squared_error')\n",
    "\n",
    "rmse_rfr_scores_no_drive = -rfr_scores.mean()\n",
    "rmse_rfr_std_no_drive = rfr_scores.std()\n",
    "\n",
    "print(\"mean: \", rmse_rfr_scores_no_drive)\n",
    "print(\"standard deviation: \", rmse_rfr_std_no_drive)"
   ]
  },
  {
   "cell_type": "markdown",
   "id": "promotional-boring",
   "metadata": {},
   "source": [
    "#### Dropping the Transmission Variables"
   ]
  },
  {
   "cell_type": "code",
   "execution_count": 46,
   "id": "republican-silly",
   "metadata": {
    "id": "needed-operator"
   },
   "outputs": [
    {
     "name": "stdout",
     "output_type": "stream",
     "text": [
      "mean:  3224.7934624921218\n",
      "standard deviation:  36.23584689565109\n"
     ]
    }
   ],
   "source": [
    "cols = [c for c in X_final.columns if c.lower()[:4] != 'tran']\n",
    "X_final_no_trans = X_final[cols]\n",
    "\n",
    "\n",
    "rfr_scores = cross_val_score(grid_rfr_2.best_estimator_, X_final_no_trans, y_final, cv=2, n_jobs=-1, scoring = 'neg_root_mean_squared_error')\n",
    "\n",
    "rmse_rfr_scores_no_trans = -rfr_scores.mean()\n",
    "rmse_rfr_std_no_trans = rfr_scores.std()\n",
    "\n",
    "print(\"mean: \", rmse_rfr_scores_no_trans)\n",
    "print(\"standard deviation: \", rmse_rfr_std_no_trans)"
   ]
  },
  {
   "cell_type": "markdown",
   "id": "white-gross",
   "metadata": {},
   "source": [
    "Dropping the paint_color variable didnt have a significant increase in the RMSE value of our model. However, dropping the transmission, the condition, the drive, and the manufacturer led to a significant increase in the RMSE. The percent increase range from 7% to 16%. We conclude the the only variable which we can drop is the paint color since it doesnt affect our model performance. To simplify things, i will not drop the paint_color variable for the time being since it doesnt increase computational time by much."
   ]
  },
  {
   "cell_type": "markdown",
   "id": "planned-durham",
   "metadata": {
    "id": "planned-durham"
   },
   "source": [
    "# 5. Pipeline, Interpretable Model, and Final Testing"
   ]
  },
  {
   "cell_type": "markdown",
   "id": "filled-amazon",
   "metadata": {
    "id": "filled-amazon"
   },
   "source": [
    "### Loading the Data"
   ]
  },
  {
   "cell_type": "code",
   "execution_count": 31,
   "id": "monthly-favor",
   "metadata": {
    "colab": {
     "base_uri": "https://localhost:8080/",
     "height": 400
    },
    "id": "monthly-favor",
    "outputId": "659823fc-765e-48a6-e394-41a5fb5d2c5e"
   },
   "outputs": [
    {
     "data": {
      "text/html": [
       "<div>\n",
       "<style scoped>\n",
       "    .dataframe tbody tr th:only-of-type {\n",
       "        vertical-align: middle;\n",
       "    }\n",
       "\n",
       "    .dataframe tbody tr th {\n",
       "        vertical-align: top;\n",
       "    }\n",
       "\n",
       "    .dataframe thead th {\n",
       "        text-align: right;\n",
       "    }\n",
       "</style>\n",
       "<table border=\"1\" class=\"dataframe\">\n",
       "  <thead>\n",
       "    <tr style=\"text-align: right;\">\n",
       "      <th></th>\n",
       "      <th>id</th>\n",
       "      <th>region</th>\n",
       "      <th>price</th>\n",
       "      <th>year</th>\n",
       "      <th>manufacturer</th>\n",
       "      <th>model</th>\n",
       "      <th>condition</th>\n",
       "      <th>cylinders</th>\n",
       "      <th>fuel</th>\n",
       "      <th>odometer</th>\n",
       "      <th>transmission</th>\n",
       "      <th>drive</th>\n",
       "      <th>type</th>\n",
       "      <th>paint_color</th>\n",
       "      <th>state</th>\n",
       "      <th>lat</th>\n",
       "      <th>long</th>\n",
       "      <th>posting_date</th>\n",
       "    </tr>\n",
       "  </thead>\n",
       "  <tbody>\n",
       "    <tr>\n",
       "      <th>0</th>\n",
       "      <td>7226069143</td>\n",
       "      <td>indianapolis</td>\n",
       "      <td>3495</td>\n",
       "      <td>2005.0</td>\n",
       "      <td>lincoln</td>\n",
       "      <td>lse</td>\n",
       "      <td>good</td>\n",
       "      <td>8 cylinders</td>\n",
       "      <td>gas</td>\n",
       "      <td>181000.0</td>\n",
       "      <td>automatic</td>\n",
       "      <td>rwd</td>\n",
       "      <td>sedan</td>\n",
       "      <td>silver</td>\n",
       "      <td>in</td>\n",
       "      <td>39.640500</td>\n",
       "      <td>-86.311800</td>\n",
       "      <td>2020-11-05T16:19:56-0500</td>\n",
       "    </tr>\n",
       "    <tr>\n",
       "      <th>1</th>\n",
       "      <td>7233322668</td>\n",
       "      <td>medford-ashland</td>\n",
       "      <td>11995</td>\n",
       "      <td>2011.0</td>\n",
       "      <td>subaru</td>\n",
       "      <td>impreza</td>\n",
       "      <td>good</td>\n",
       "      <td>4 cylinders</td>\n",
       "      <td>gas</td>\n",
       "      <td>69408.0</td>\n",
       "      <td>automatic</td>\n",
       "      <td>4wd</td>\n",
       "      <td>wagon</td>\n",
       "      <td>blue</td>\n",
       "      <td>or</td>\n",
       "      <td>45.524894</td>\n",
       "      <td>-122.656061</td>\n",
       "      <td>2020-11-18T15:45:51-0800</td>\n",
       "    </tr>\n",
       "    <tr>\n",
       "      <th>2</th>\n",
       "      <td>7239134076</td>\n",
       "      <td>austin</td>\n",
       "      <td>68990</td>\n",
       "      <td>2016.0</td>\n",
       "      <td>porsche</td>\n",
       "      <td>cayman gts coupe 2d</td>\n",
       "      <td>good</td>\n",
       "      <td>NaN</td>\n",
       "      <td>gas</td>\n",
       "      <td>7923.0</td>\n",
       "      <td>automatic</td>\n",
       "      <td>rwd</td>\n",
       "      <td>coupe</td>\n",
       "      <td>red</td>\n",
       "      <td>tx</td>\n",
       "      <td>30.260000</td>\n",
       "      <td>-97.740000</td>\n",
       "      <td>2020-11-30T02:13:53-0600</td>\n",
       "    </tr>\n",
       "    <tr>\n",
       "      <th>3</th>\n",
       "      <td>7238509078</td>\n",
       "      <td>hawaii</td>\n",
       "      <td>17900</td>\n",
       "      <td>2011.0</td>\n",
       "      <td>bmw</td>\n",
       "      <td>535i</td>\n",
       "      <td>NaN</td>\n",
       "      <td>NaN</td>\n",
       "      <td>gas</td>\n",
       "      <td>50193.0</td>\n",
       "      <td>automatic</td>\n",
       "      <td>NaN</td>\n",
       "      <td>sedan</td>\n",
       "      <td>black</td>\n",
       "      <td>hi</td>\n",
       "      <td>21.293854</td>\n",
       "      <td>-157.837158</td>\n",
       "      <td>2020-11-28T13:57:30-1000</td>\n",
       "    </tr>\n",
       "    <tr>\n",
       "      <th>4</th>\n",
       "      <td>7236364831</td>\n",
       "      <td>daytona beach</td>\n",
       "      <td>9500</td>\n",
       "      <td>2006.0</td>\n",
       "      <td>NaN</td>\n",
       "      <td>mazada miata</td>\n",
       "      <td>excellent</td>\n",
       "      <td>4 cylinders</td>\n",
       "      <td>gas</td>\n",
       "      <td>52864.0</td>\n",
       "      <td>automatic</td>\n",
       "      <td>rwd</td>\n",
       "      <td>convertible</td>\n",
       "      <td>blue</td>\n",
       "      <td>fl</td>\n",
       "      <td>29.172023</td>\n",
       "      <td>-81.027367</td>\n",
       "      <td>2020-11-24T12:48:43-0500</td>\n",
       "    </tr>\n",
       "  </tbody>\n",
       "</table>\n",
       "</div>"
      ],
      "text/plain": [
       "           id           region  ...        long              posting_date\n",
       "0  7226069143     indianapolis  ...  -86.311800  2020-11-05T16:19:56-0500\n",
       "1  7233322668  medford-ashland  ... -122.656061  2020-11-18T15:45:51-0800\n",
       "2  7239134076           austin  ...  -97.740000  2020-11-30T02:13:53-0600\n",
       "3  7238509078           hawaii  ... -157.837158  2020-11-28T13:57:30-1000\n",
       "4  7236364831    daytona beach  ...  -81.027367  2020-11-24T12:48:43-0500\n",
       "\n",
       "[5 rows x 18 columns]"
      ]
     },
     "execution_count": 31,
     "metadata": {
      "tags": []
     },
     "output_type": "execute_result"
    }
   ],
   "source": [
    "data = pd.read_csv('cars_train.csv')\n",
    "data.head()"
   ]
  },
  {
   "cell_type": "markdown",
   "id": "saved-montana",
   "metadata": {
    "id": "saved-montana"
   },
   "source": [
    "### Preparation"
   ]
  },
  {
   "cell_type": "code",
   "execution_count": 5,
   "id": "dominant-uruguay",
   "metadata": {
    "id": "dominant-uruguay"
   },
   "outputs": [],
   "source": [
    "def preparation(data):\n",
    "    data=data[(data.price > 1000 ) & (data.price <40000)]\n",
    "    data=data[(data.odometer > 1000 ) & (data.odometer <250000)]\n",
    "\n",
    "    data['age'] = data['year'].max() - data['year']\n",
    "\n",
    "    data.drop(['posting_date', 'state', 'region', 'id', 'long', 'lat', 'model', 'year'], inplace = True, axis = 1)\n",
    "    \n",
    "    return data"
   ]
  },
  {
   "cell_type": "code",
   "execution_count": null,
   "id": "useful-nepal",
   "metadata": {},
   "outputs": [],
   "source": [
    "data=preparation(data)\n",
    "\n",
    "X = data.drop('price', axis = 1)\n",
    "y = data[['price']]\n",
    "\n",
    "X_features_num = X.select_dtypes(include=[np.number])\n",
    "X_features_cat = X.select_dtypes(exclude=[np.number])"
   ]
  },
  {
   "cell_type": "markdown",
   "id": "pointed-award",
   "metadata": {
    "id": "pointed-award"
   },
   "source": [
    "### Building the Pipelines"
   ]
  },
  {
   "cell_type": "code",
   "execution_count": 34,
   "id": "junior-audio",
   "metadata": {
    "id": "junior-audio"
   },
   "outputs": [],
   "source": [
    "num_pipeline = Pipeline([\n",
    "        ('imputer', SimpleImputer(strategy=\"mean\")),\n",
    "        ('power_transformer', PowerTransformer(method='yeo-johnson')),])"
   ]
  },
  {
   "cell_type": "code",
   "execution_count": 35,
   "id": "elementary-notice",
   "metadata": {
    "id": "elementary-notice"
   },
   "outputs": [],
   "source": [
    "cat_pipeline = Pipeline([\n",
    "        ('imputer', SimpleImputer(strategy=\"most_frequent\")),\n",
    "        ('one_hot', OneHotEncoder(drop = 'first')),])"
   ]
  },
  {
   "cell_type": "code",
   "execution_count": 36,
   "id": "animated-harvard",
   "metadata": {
    "id": "animated-harvard"
   },
   "outputs": [],
   "source": [
    "num_attribs = list(X_features_num)\n",
    "cat_attribs = list(X_features_cat)\n",
    "\n",
    "full_pipeline = ColumnTransformer([\n",
    "        (\"num\", num_pipeline, num_attribs),\n",
    "        (\"cat\", cat_pipeline, cat_attribs),])"
   ]
  },
  {
   "cell_type": "markdown",
   "id": "provincial-kitchen",
   "metadata": {
    "id": "provincial-kitchen"
   },
   "source": [
    "### Linear Regression"
   ]
  },
  {
   "cell_type": "code",
   "execution_count": null,
   "id": "incredible-norwegian",
   "metadata": {
    "id": "incredible-norwegian"
   },
   "outputs": [],
   "source": [
    "full_pipeline_with_linear = Pipeline([\n",
    "        (\"preparation\", full_pipeline),\n",
    "        (\"linear\", LinearRegression())\n",
    "    ])\n",
    "\n",
    "parameters_linear = {\n",
    "    'linear__fit_intercept': [True, False],\n",
    "    'linear__normalize': [True, False],\n",
    "}"
   ]
  },
  {
   "cell_type": "code",
   "execution_count": null,
   "id": "minute-laundry",
   "metadata": {
    "id": "minute-laundry",
    "outputId": "147b4fa8-5d77-4922-ef33-7faf89d0c82e"
   },
   "outputs": [
    {
     "name": "stdout",
     "output_type": "stream",
     "text": [
      "Fitting 3 folds for each of 4 candidates, totalling 12 fits\n"
     ]
    },
    {
     "data": {
      "text/plain": [
       "GridSearchCV(cv=3,\n",
       "             estimator=Pipeline(steps=[('preparation',\n",
       "                                        ColumnTransformer(transformers=[('num',\n",
       "                                                                         Pipeline(steps=[('imputer',\n",
       "                                                                                          SimpleImputer()),\n",
       "                                                                                         ('power_transformer',\n",
       "                                                                                          PowerTransformer())]),\n",
       "                                                                         ['year',\n",
       "                                                                          'odometer']),\n",
       "                                                                        ('cat',\n",
       "                                                                         Pipeline(steps=[('imputer',\n",
       "                                                                                          SimpleImputer(strategy='most_frequent')),\n",
       "                                                                                         ('one_hot',\n",
       "                                                                                          OneHotEncoder(drop='first'))]),\n",
       "                                                                         ['manufacturer',\n",
       "                                                                          'condition',\n",
       "                                                                          'cylinders',\n",
       "                                                                          'fuel',\n",
       "                                                                          'transmission',\n",
       "                                                                          'drive',\n",
       "                                                                          'type',\n",
       "                                                                          'paint_color'])])),\n",
       "                                       ('linear', LinearRegression())]),\n",
       "             n_jobs=-1,\n",
       "             param_grid={'linear__fit_intercept': [True, False],\n",
       "                         'linear__normalize': [True, False]},\n",
       "             scoring='neg_root_mean_squared_error', verbose=1)"
      ]
     },
     "execution_count": 22,
     "metadata": {
      "tags": []
     },
     "output_type": "execute_result"
    }
   ],
   "source": [
    "grid_search_linear = GridSearchCV(full_pipeline_with_linear, parameters_linear, scoring = 'neg_root_mean_squared_error', n_jobs=-1, verbose=1, cv=3, refit=True)\n",
    "grid_search_linear.fit(X, y)"
   ]
  },
  {
   "cell_type": "code",
   "execution_count": null,
   "id": "partial-accent",
   "metadata": {
    "id": "partial-accent",
    "outputId": "5700e5dc-5c25-4aba-ea05-6cb44b55a8fa"
   },
   "outputs": [
    {
     "name": "stdout",
     "output_type": "stream",
     "text": [
      "Best score: 5302.129\n",
      "Best parameters set:\n",
      "\tlinear__fit_intercept: True\n",
      "\tlinear__normalize: False\n"
     ]
    }
   ],
   "source": [
    "print(\"Best score: %0.3f\" %  - grid_search_linear.best_score_)\n",
    "print(\"Best parameters set:\")\n",
    "\n",
    "best_parameters_linear = grid_search_linear.best_estimator_.get_params()\n",
    "\n",
    "for param_name in sorted(parameters_linear.keys()):\n",
    "    print(\"\\t%s: %r\" % (param_name, best_parameters_linear[param_name]))"
   ]
  },
  {
   "cell_type": "markdown",
   "id": "reasonable-plate",
   "metadata": {
    "id": "reasonable-plate"
   },
   "source": [
    "### Decision Tree"
   ]
  },
  {
   "cell_type": "code",
   "execution_count": null,
   "id": "registered-eligibility",
   "metadata": {
    "id": "registered-eligibility"
   },
   "outputs": [],
   "source": [
    "full_pipeline_with_decision = Pipeline([\n",
    "        (\"preparation\", full_pipeline),\n",
    "        (\"decision\", DecisionTreeRegressor())\n",
    "    ])\n",
    "\n",
    "parameters_decision = {\n",
    "    'decision__min_samples_split': [2, 5, 10],\n",
    "    'decision__splitter': ['best', 'random'],\n",
    "    'decision__max_depth': [None, 50, 80, 100]\n",
    "}"
   ]
  },
  {
   "cell_type": "code",
   "execution_count": null,
   "id": "secondary-antibody",
   "metadata": {
    "id": "secondary-antibody",
    "outputId": "bf517ef0-de83-4191-cf14-d34d47a422a9"
   },
   "outputs": [
    {
     "name": "stdout",
     "output_type": "stream",
     "text": [
      "Fitting 3 folds for each of 24 candidates, totalling 72 fits\n"
     ]
    },
    {
     "data": {
      "text/plain": [
       "GridSearchCV(cv=3,\n",
       "             estimator=Pipeline(steps=[('preparation',\n",
       "                                        ColumnTransformer(transformers=[('num',\n",
       "                                                                         Pipeline(steps=[('imputer',\n",
       "                                                                                          SimpleImputer()),\n",
       "                                                                                         ('power_transformer',\n",
       "                                                                                          PowerTransformer())]),\n",
       "                                                                         ['year',\n",
       "                                                                          'odometer']),\n",
       "                                                                        ('cat',\n",
       "                                                                         Pipeline(steps=[('imputer',\n",
       "                                                                                          SimpleImputer(strategy='most_frequent')),\n",
       "                                                                                         ('one_hot',\n",
       "                                                                                          OneHotEncoder(drop='first'))]),\n",
       "                                                                         ['manufacturer',\n",
       "                                                                          'condition',\n",
       "                                                                          'cylinders',\n",
       "                                                                          'fuel',\n",
       "                                                                          'transmission',\n",
       "                                                                          'drive',\n",
       "                                                                          'type',\n",
       "                                                                          'paint_color'])])),\n",
       "                                       ('decision', DecisionTreeRegressor())]),\n",
       "             n_jobs=-1,\n",
       "             param_grid={'decision__max_depth': [None, 50, 80, 100],\n",
       "                         'decision__min_samples_split': [2, 5, 10],\n",
       "                         'decision__splitter': ['best', 'random']},\n",
       "             scoring='neg_root_mean_squared_error', verbose=1)"
      ]
     },
     "execution_count": 25,
     "metadata": {
      "tags": []
     },
     "output_type": "execute_result"
    }
   ],
   "source": [
    "grid_search_decision = GridSearchCV(full_pipeline_with_decision, parameters_decision, scoring = 'neg_root_mean_squared_error', n_jobs=-1, verbose=1, cv=3, refit=True)\n",
    "grid_search_decision.fit(X, y)"
   ]
  },
  {
   "cell_type": "code",
   "execution_count": null,
   "id": "arctic-conference",
   "metadata": {
    "id": "arctic-conference",
    "outputId": "7bf18323-b383-4500-ce9e-859b1ac25402"
   },
   "outputs": [
    {
     "name": "stdout",
     "output_type": "stream",
     "text": [
      "Best score: 3751.516\n",
      "Best parameters set:\n",
      "\tdecision__max_depth: 80\n",
      "\tdecision__min_samples_split: 10\n",
      "\tdecision__splitter: 'random'\n"
     ]
    }
   ],
   "source": [
    "print(\"Best score: %0.3f\" %  - grid_search_decision.best_score_)\n",
    "print(\"Best parameters set:\")\n",
    "\n",
    "best_parameters_decison = grid_search_decision.best_estimator_.get_params()\n",
    "\n",
    "for param_name in sorted(parameters_decision.keys()):\n",
    "    print(\"\\t%s: %r\" % (param_name, best_parameters_decison[param_name]))"
   ]
  },
  {
   "cell_type": "markdown",
   "id": "integral-comment",
   "metadata": {
    "id": "integral-comment"
   },
   "source": [
    "### Decision Tree Further Optimization"
   ]
  },
  {
   "cell_type": "code",
   "execution_count": null,
   "id": "smooth-dialogue",
   "metadata": {
    "id": "smooth-dialogue"
   },
   "outputs": [],
   "source": [
    "full_pipeline_with_decision1 = Pipeline([\n",
    "        (\"preparation\", full_pipeline),\n",
    "        (\"decision\", DecisionTreeRegressor(max_depth = 80, splitter = 'random'))\n",
    "    ])\n",
    "\n",
    "parameters_decision1 = {\n",
    "    'decision__min_samples_split': [8, 10, 12, 15, 20],\n",
    "}"
   ]
  },
  {
   "cell_type": "code",
   "execution_count": null,
   "id": "adult-embassy",
   "metadata": {
    "id": "adult-embassy",
    "outputId": "02cfcdb1-c703-4227-fe68-5c3373388ba0"
   },
   "outputs": [
    {
     "name": "stdout",
     "output_type": "stream",
     "text": [
      "Fitting 3 folds for each of 5 candidates, totalling 15 fits\n"
     ]
    },
    {
     "data": {
      "text/plain": [
       "GridSearchCV(cv=3,\n",
       "             estimator=Pipeline(steps=[('preparation',\n",
       "                                        ColumnTransformer(transformers=[('num',\n",
       "                                                                         Pipeline(steps=[('imputer',\n",
       "                                                                                          SimpleImputer()),\n",
       "                                                                                         ('power_transformer',\n",
       "                                                                                          PowerTransformer())]),\n",
       "                                                                         ['odometer',\n",
       "                                                                          'age']),\n",
       "                                                                        ('cat',\n",
       "                                                                         Pipeline(steps=[('imputer',\n",
       "                                                                                          SimpleImputer(strategy='most_frequent')),\n",
       "                                                                                         ('one_hot',\n",
       "                                                                                          OneHotEncoder(drop='first'))]),\n",
       "                                                                         ['manufacturer',\n",
       "                                                                          'condition',\n",
       "                                                                          'cylinders',\n",
       "                                                                          'fuel',\n",
       "                                                                          'transmission',\n",
       "                                                                          'drive',\n",
       "                                                                          'type',\n",
       "                                                                          'paint_color'])])),\n",
       "                                       ('decision',\n",
       "                                        DecisionTreeRegressor(max_depth=80,\n",
       "                                                              splitter='random'))]),\n",
       "             n_jobs=-1,\n",
       "             param_grid={'decision__min_samples_split': [8, 10, 12, 15, 20]},\n",
       "             scoring='neg_root_mean_squared_error', verbose=1)"
      ]
     },
     "execution_count": 372,
     "metadata": {
      "tags": []
     },
     "output_type": "execute_result"
    }
   ],
   "source": [
    "grid_search_decision1 = GridSearchCV(full_pipeline_with_decision1, parameters_decision1, scoring = 'neg_root_mean_squared_error', n_jobs=-1, verbose=1, cv=3, refit=True)\n",
    "grid_search_decision1.fit(X, y)"
   ]
  },
  {
   "cell_type": "code",
   "execution_count": null,
   "id": "cellular-consent",
   "metadata": {
    "id": "cellular-consent",
    "outputId": "e545a905-82ed-4355-f5be-3b99f94d9004"
   },
   "outputs": [
    {
     "name": "stdout",
     "output_type": "stream",
     "text": [
      "Best score: 3738.152\n",
      "Best parameters set:\n",
      "\tdecision__min_samples_split: 20\n"
     ]
    }
   ],
   "source": [
    "print(\"Best score: %0.3f\" %  - grid_search_decision1.best_score_)\n",
    "print(\"Best parameters set:\")\n",
    "\n",
    "best_parameters_decison1 = grid_search_decision1.best_estimator_.get_params()\n",
    "\n",
    "for param_name in sorted(parameters_decision1.keys()):\n",
    "    print(\"\\t%s: %r\" % (param_name, best_parameters_decison1[param_name]))"
   ]
  },
  {
   "cell_type": "markdown",
   "id": "nbJvEoqwgSTG",
   "metadata": {
    "id": "nbJvEoqwgSTG"
   },
   "source": [
    "## Final Model"
   ]
  },
  {
   "cell_type": "code",
   "execution_count": 36,
   "id": "KcTdjqhmgUNb",
   "metadata": {
    "id": "KcTdjqhmgUNb"
   },
   "outputs": [],
   "source": [
    "final_model = Pipeline([\n",
    "        (\"preparation\", full_pipeline),\n",
    "        (\"model\", grid_rfr_2.best_estimator_)])"
   ]
  },
  {
   "cell_type": "code",
   "execution_count": 37,
   "id": "axeSAL2Ph9Ep",
   "metadata": {
    "colab": {
     "base_uri": "https://localhost:8080/"
    },
    "id": "axeSAL2Ph9Ep",
    "outputId": "31870aef-5e6f-4b39-9bbe-303e8e908dbe"
   },
   "outputs": [
    {
     "data": {
      "text/plain": [
       "Pipeline(steps=[('preparation',\n",
       "                 ColumnTransformer(transformers=[('num',\n",
       "                                                  Pipeline(steps=[('imputer',\n",
       "                                                                   SimpleImputer()),\n",
       "                                                                  ('power_transformer',\n",
       "                                                                   PowerTransformer())]),\n",
       "                                                  ['odometer', 'age']),\n",
       "                                                 ('cat',\n",
       "                                                  Pipeline(steps=[('imputer',\n",
       "                                                                   SimpleImputer(strategy='most_frequent')),\n",
       "                                                                  ('one_hot',\n",
       "                                                                   OneHotEncoder(drop='first'))]),\n",
       "                                                  ['manufacturer', 'condition',\n",
       "                                                   'cylinders', 'fuel',\n",
       "                                                   'transmission', 'drive',\n",
       "                                                   'type', 'paint_color'])])),\n",
       "                ('model', RandomForestRegressor(max_depth=100))])"
      ]
     },
     "execution_count": 37,
     "metadata": {},
     "output_type": "execute_result"
    }
   ],
   "source": [
    "final_model.fit(X, y)"
   ]
  },
  {
   "cell_type": "code",
   "execution_count": null,
   "id": "XkZtMk9HnWGN",
   "metadata": {
    "id": "XkZtMk9HnWGN"
   },
   "outputs": [],
   "source": [
    "filename = 'best_model.pkl'\n",
    "pickle.dump(final_model, open(filename, 'wb'))"
   ]
  },
  {
   "cell_type": "markdown",
   "id": "satisfied-colon",
   "metadata": {},
   "source": [
    "## Testing our Final Model"
   ]
  },
  {
   "cell_type": "code",
   "execution_count": 43,
   "id": "considerable-slovakia",
   "metadata": {},
   "outputs": [],
   "source": [
    "os.chdir(r'C:\\Users\\samer\\OneDrive - American University of Beirut\\Desktop\\Assignment5')\n",
    "cars_test = pd.read_csv('cars_test.csv', encoding='utf8')"
   ]
  },
  {
   "cell_type": "code",
   "execution_count": 47,
   "id": "extreme-unemployment",
   "metadata": {},
   "outputs": [],
   "source": [
    "cars_test = preparation(cars_test)\n",
    "X_test = cars_test.drop('price', axis = 1)\n",
    "y_test = cars_test[['price']]"
   ]
  },
  {
   "cell_type": "code",
   "execution_count": null,
   "id": "underlying-public",
   "metadata": {},
   "outputs": [],
   "source": [
    "file = open(\"best_model.pkl\",'rb')\n",
    "final_model = pickle.load(file)"
   ]
  },
  {
   "cell_type": "code",
   "execution_count": 48,
   "id": "artificial-health",
   "metadata": {},
   "outputs": [
    {
     "name": "stdout",
     "output_type": "stream",
     "text": [
      "4836.347533502345\n"
     ]
    }
   ],
   "source": [
    "final_model_score = np.sqrt(mean_squared_error(y_test, final_model.predict(X_test)))\n",
    "print(final_model_score)"
   ]
  },
  {
   "cell_type": "markdown",
   "id": "standard-venue",
   "metadata": {},
   "source": [
    "Personally, i believe that the dataset which contains more than 300,000 rows is enough for such a problem. The row to column ratio is excellent. We have a small number of predictor variables and thus the number of rows is good enough especially that most of the predictor variables are categorical ones with few possible values. What could be done however is collecting additional data such as the number of accidents the car has done, the number of previous owners, etc. This could help in building a better predictive model."
   ]
  }
 ],
 "metadata": {
  "accelerator": "GPU",
  "colab": {
   "collapsed_sections": [
    "honest-williams",
    "small-transfer",
    "important-speech",
    "going-defensive",
    "understood-interference",
    "natural-philosophy",
    "offensive-preparation",
    "independent-scottish",
    "antique-executive",
    "organic-pillow",
    "exterior-traffic",
    "destroyed-roberts",
    "mobile-surgery",
    "appropriate-luxembourg",
    "visible-lindsay",
    "continuing-gibson",
    "close-government",
    "ancient-mathematics",
    "appointed-greeting",
    "norman-closure",
    "advanced-popularity",
    "immediate-quest",
    "played-choice",
    "religious-builder",
    "conscious-science",
    "minimal-jenny",
    "judicial-generic",
    "advised-humidity",
    "variable-virtue",
    "treated-sailing",
    "accepted-group",
    "environmental-yacht",
    "published-recommendation",
    "threatened-department",
    "wanted-college",
    "european-shopping",
    "anonymous-devil",
    "grave-oxygen",
    "attractive-charger",
    "awful-citizenship",
    "qualified-carrier",
    "spatial-photography",
    "treated-correspondence",
    "conscious-exclusion",
    "conscious-hudson",
    "ordered-eagle",
    "sized-henry",
    "expensive-tiffany",
    "grateful-patient",
    "early-boutique",
    "narrow-excitement",
    "isolated-schema",
    "tracked-sharing",
    "linear-romania",
    "realistic-footwear",
    "continuing-marks",
    "approximate-milwaukee",
    "conceptual-shift",
    "solid-cherry",
    "approved-dynamics",
    "veterinary-medium",
    "sticky-headquarters",
    "three-warning",
    "adaptive-species",
    "metropolitan-batch",
    "saved-montana",
    "constant-football",
    "considered-forwarding",
    "casual-lender",
    "pointed-award",
    "provincial-kitchen",
    "reasonable-plate",
    "integral-comment"
   ],
   "name": "Assignment_5_Car_Price_Prediction - Copy.ipynb",
   "provenance": [],
   "toc_visible": true
  },
  "kernelspec": {
   "display_name": "Python 3",
   "language": "python",
   "name": "python3"
  },
  "language_info": {
   "codemirror_mode": {
    "name": "ipython",
    "version": 3
   },
   "file_extension": ".py",
   "mimetype": "text/x-python",
   "name": "python",
   "nbconvert_exporter": "python",
   "pygments_lexer": "ipython3",
   "version": "3.8.8"
  }
 },
 "nbformat": 4,
 "nbformat_minor": 5
}
